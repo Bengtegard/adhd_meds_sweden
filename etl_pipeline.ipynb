{
 "cells": [
  {
   "cell_type": "markdown",
   "id": "0178428f",
   "metadata": {},
   "source": [
    "# Visualize adhd prescription data in Sweden\n",
    "\n",
    "## Background\n",
    "\n",
    "### ADHD Medications in Sweden\n",
    "\n",
    "Sweden has five approved medication substances for ADHD treatment, categorized into two groups:\n",
    "\n",
    "**Central Stimulants:**\n",
    "- Methylphenidate (e.g., Concerta, Ritalin) - N06BA04\n",
    "- Lisdexamfetamine (Elvanse) - N06BA12  \n",
    "- Dexamfetamine (Attentin) - N06BA02\n",
    "\n",
    "**Non-Central Stimulants:**\n",
    "- Atomoxetine (Strattera) - N06BA09\n",
    "- Guanfacine (Intuniv) - C02AC02\n",
    "\n",
    "### ATC Codes Used\n",
    "- **N06BA**: Centrally acting sympathomimetics (excluding N06BA07 Modafinil)\n",
    "- **C02AC02**: Guanfacine\n",
    "- **N06BA (excluding Modafinil and Atomoxetine)**: For specific stimulant analysis\n",
    "\n",
    "### Key Metric: Patients/1000 Inhabitants\n",
    "\n",
    "**Definition:** Number of patients divided by the total population in the relevant group (age group, region, etc.) and multiplied by 1000.\n",
    "\n",
    "**Why This Metric:**\n",
    "- **Prevalence measure**: Shows how many are treated for ADHD\n",
    "- **Comparable over time**: Normalized per population\n",
    "- **Stable measure**: Less affected by administrative changes  \n",
    "- **Interpretable**: \"How common is ADHD treatment?\"\n",
    "- **Best for trend analysis**: Accounts for population size differences\n",
    "\n",
    "*Note: Population data uses January 1st of the respective year. Due to how population and patient age are defined, patient numbers may occasionally exceed population numbers for certain selections.*\n",
    "\n",
    "### Data Sources\n",
    "- [Vård och Insats - ADHD Treatment](https://www.vardochinsats.se/adhd/behandling-och-stoed/laekemedelsbehandling/)\n",
    "- [Swedish Medical Products Agency - ADHD Treatment Recommendations](https://www.lakemedelsverket.se/sv/behandling-och-forskrivning/behandlingsrekommendationer/sok-behandlingsrekommendationer/lakemedel-vid-adhd--behandlingsrekommendation)\n",
    "\n",
    "---\n",
    "\n",
    "## Pipeline something something\n",
    "\n",
    "This notebook will:\n",
    "1. **Extract**: Fetch ADHD medication data from Socialstyrelsen API\n",
    "2. **Transform**: Clean and structure the data for analysis\n",
    "3. **Load**: Store the processed data in a SQL database\n",
    "\n",
    "The resulting database will serve as the foundation for future trend analysis and forecasting projects.\n",
    "\n",
    "Thomas R et al. Prevalence of attentio-defcit/hyperactivity disorder: a systematic review and me- ta-analysis. Pediatrics 2015; 135.\n",
    "\n",
    "Why Drop 0-4:\n",
    "\n",
    "Statistical noise: The tiny numbers create unreliable rates and percentages\n",
    "Clinical reality: ADHD diagnosis before age 5 is relatively rare and often uncertain\n",
    "Data quality: Small counts make trend analysis less meaningful\n",
    "\n",
    "Enhanced Age Stratification: 5-9, 10-14, 15-19, 20-24\n",
    "This gives you four meaningful developmental periods:\n",
    "\n",
    "5-9: Early elementary (traditional \"hyperactive boy\" diagnosis peak)\n",
    "10-14: Pre/early adolescence (when inattentive presentations become more apparent)\n",
    "15-19: Late adolescence (academic/social demands intensify)\n",
    "20-24: Early adulthood (late identification, especially for females)\n",
    "\n",
    "\n",
    "Females with ADHD receive diagnosis and treatment for ADHD approximately 4 years later than males:\n",
    "https://acamh.onlinelibrary.wiley.com/doi/10.1111/jcpp.13920\n",
    "\n",
    "\n",
    "Av tabell 1 framgår också att pojkar under 18 år stod för närmare 50 procent av\n",
    "uttagen i hela gruppen av pojkar och män. Flickor under 18 år stod däremot bara\n",
    "för knappt 30 procent av uttagen bland flickor och kvinnor. Detta innebär att flick-\n",
    "or eller kvinnor förskrivs läkemedel senare i åldrarna än pojkar, vilket återspeglar\n",
    "att flickor med adhd diagnostiseras senare än pojkar. Studier har visat att flickor\n",
    "med adhd kan uppvisa en något annorlunda symtombild jämfört med pojkar och\n",
    "därför uppmärksammas i mindre utsträckning6.\n",
    "\n",
    "\n",
    "Förskrivningen av adhd-läkemedel fortsätter att öka – Art.nr 2021-5-7436\n",
    "Socialstyrelsen – Juni 2021Tabell 1. Barn och vuxna med uttag av adhd-läkemedel\n",
    "Antalet och andelen barn och vuxna i befolkningen med minst ett uthämtat\n",
    "adhd-läkemedel på recept 2020. Hur läkemedelsuttagen fördelar sig över ålders-\n",
    "grupperna visas också.\n",
    "\n",
    "\n",
    "### Ha med under linjediagrammet\n",
    "\n",
    "Antalet befintliga användare av läkemedel har ökat successivt\n",
    "Sedan 2006 har andelen användare av adhd-läkemedel ökat kontinuerligt.\n",
    "Ökningen kan vara direkt förknippad med en ökad nydiagnostik av adhd både bland\n",
    "barn och vuxna, samtidigt som många behandlas över långa tidsperioder - vilket socialstyrelsens rapport pekar på. \n",
    "\n",
    "Hittills har ökningen av\n",
    "nya användare inte visat på någon märkbar avmattning. Av figurerna framgår att\n",
    "ökningen till och med har blivit mer framträdande på sistonde.\n",
    "\n",
    "\n",
    "# Slutparagrafen?\n",
    "Förskrivningen av adhd-läkemedel fortsätter att öka – Art.nr 2021-5-7436\n",
    "Socialstyrelsen – Juni 2021När kommer ökningen att upphöra och plana ut?\n",
    "Det finns i dag inget som talar för att adhd reellt ökar i befolkningen utan tillstån-\n",
    "det, som har stark ärftlighet, anses vara konstant över tid utifrån ett stort antal\n",
    "vetenskapliga studier11. Även om det kan vara så att samhälleliga förändringar\n",
    "exempelvis inom skolan gör att fler (som kanske tidigare inte var i behov av hjälp)\n",
    "i dag kan söka hjälp och få adhd-diagnos efter utredning tycks de specifika egen-\n",
    "skaperna som utgör adhd vara konstanta över tid inom befolkningen. Rimligen\n",
    "innebär det att andelen personer som får diagnos (och adhd-läkemedel) så smånin-\n",
    "gom kommer att återspeglas av hur många som faktiskt har adhd i befolkningen.\n",
    "När det uppstår kommer kurvan avseende de nya användarna av läkemedel att\n",
    "plana ut på en viss nivå och på sikt medföra att andelen som har läkemedel (och\n",
    "diagnos) varken ökar eller minskar utan ligger stabilt.\n",
    "Som nämndes tidigare i det här faktabladet uppskattar Socialstyrelsen att 4,5\n",
    "procent av flickor 10–17 år har adhd-diagnos medan motsvarande andel för po-\n",
    "jkarna är 9 procent. Mot bakgrund av vetenskapligt publicerade metaanalyser är\n",
    "andelarna för flickor respektive pojkar rimliga i dag12. Å andra sidan visar resul-\n",
    "taten i detta faktablad att andelen nya fall av barn med uthämtade adhd-läkemedel\n",
    "fortsätter att öka. Om den trenden fortsätter kan andelen barn som har läkeme-\n",
    "del (och diagnos) komma att betraktas som alltför hög utifrån de vetenskapliga\n",
    "studierna om förekomst. Då är det av vikt att närmare förstå orsakerna bakom en\n",
    "sådan eventuell utveckling.\n",
    "\n",
    "\n",
    "11 Se till exempel: Polanczyk GV et al. Adhd prevalence estimates across decade: an updated systemic review and\n",
    "meta-regression analysis. Int J Epidemiol 2014;43: 434-442.\n",
    "\n",
    "12 Se till exempel: Thomas R et al. Prevalence of attentio-defcit/hyperactivity disorder: a systematic review and me-\n",
    "ta-analysis. Pediatrics 2015; 135 --> enligt den studien är 7,2 % en rimlig uppskattning av hur stor andel av barnpopulationen som har ADHD (beroende på metod). Det betyder inte att alla dessa får diagnos i klinisk vård, men att omkring 7 barn av 100 kan uppfylla kriterier för ADHD i de typer av studier som ingick.\n",
    "\n",
    "\n",
    "Enligt Socialstyrelsen hade 10,5 % av pojkarna och 6 % av flickorna i åldrarna 10-17 år fått en ADHD- eller ADD-diagnos år 2022.\n",
    "\n",
    "\n",
    "\n",
    "12,9 % läkemedelsuttag bland pojkar 10-14 år betyder att ungefär var åttonde pojke i den åldern får läkemedel mot ADHD under ett år.\n",
    "\n",
    "Måttet patienter/1000 invånare mäter behandlad prevalens. \n",
    "\n",
    "\n",
    "Ja, ökningen från 1,3 % till omkring 12 % på två decennier är stor och tydlig. Det speglar framför allt bättre upptäckt och förändrad praxis, snarare än att själva den underliggande biologiska prevalensen av ADHD har tiodubblats.\n",
    "\n",
    "\n",
    "\n",
    "Prevalenta läkemedelsanvändare: Har uttag av minst ett adhd-läkemedel\n",
    "under ett givet år, oavsett om uttag gjorts tidigare år eller inte. En användare\n",
    "förekommer en gång per år.\n",
    "\n",
    "\n",
    "\n",
    "# VIKTIG\n",
    "https://www.socialstyrelsen.se/om-socialstyrelsen/pressrum/press/fortsatt-okning-av-adhd-lakemedel--sarskilt-bland-unga-kvinnor/\n",
    "\n",
    "\n",
    "\n",
    "# TO DO\n",
    "\n",
    "### Text\n",
    "\n",
    "Skriv under rubriken Understanding the data att kategorin \"alla mediciner\" är hämtade från socialstyrelsen eftersom den tar hänsyn till dubbelräkning: \n",
    "Prevalenta läkemedelsanvändare: Har uttag av minst ett adhd-läkemedel\n",
    "under ett givet år, oavsett om uttag gjorts tidigare år eller inte. En användare\n",
    "förekommer en gång per år.\n",
    "\n",
    "### Visualisering\n",
    "\n",
    "Fixa så att man kan välja mellan en fixerad kontinuerlig skala och en som varierar (som på socialstyrelsen).\n",
    "\n",
    "Lägg till möjligheten att välja årsintervall för linjediagrammet (säg 2020 till 2024 etc)\n",
    "\n",
    "Lägg till möjligheten att välja enskilda län, som då kommer förvandlas till ett linjediagram(area chart?)"
   ]
  },
  {
   "cell_type": "code",
   "execution_count": 2,
   "id": "3fb95aa6",
   "metadata": {},
   "outputs": [],
   "source": [
    "from adhd_data_fetcher import fetch_adhd_medication_data, save_to_json, convert_json_to_csv\n",
    "import pandas as pd\n",
    "import plotly.express as px\n",
    "import plotly.subplots as sp\n",
    "import plotly.graph_objects as go\n",
    "import mapclassify"
   ]
  },
  {
   "cell_type": "markdown",
   "id": "6b5aa097",
   "metadata": {},
   "source": [
    "## Fetch data on individual ADHD medications from Socialstyrelsens API"
   ]
  },
  {
   "cell_type": "code",
   "execution_count": null,
   "id": "f42dd2c8",
   "metadata": {},
   "outputs": [],
   "source": [
    "# Fetch data for ages 5-24\n",
    "data = fetch_adhd_medication_data(age_groups=[2,3,4,5])\n",
    "\n",
    "save_to_json(data, \"adhd_medication_2006-2024.json\")\n",
    "\n",
    "convert_json_to_csv(\n",
    "    input_json=\"adhd_medication_2006-2024.json\",\n",
    "    output_csv=\"adhd_medication_2006-2024.csv\")"
   ]
  },
  {
   "cell_type": "markdown",
   "id": "5925ae3b",
   "metadata": {},
   "source": [
    "## Load the data to an pandas dataframe"
   ]
  },
  {
   "cell_type": "code",
   "execution_count": 3,
   "id": "78db1584",
   "metadata": {},
   "outputs": [
    {
     "data": {
      "application/vnd.microsoft.datawrangler.viewer.v0+json": {
       "columns": [
        {
         "name": "index",
         "rawType": "int64",
         "type": "integer"
        },
        {
         "name": "År",
         "rawType": "int64",
         "type": "integer"
        },
        {
         "name": "Läkemedel",
         "rawType": "object",
         "type": "string"
        },
        {
         "name": "Region",
         "rawType": "object",
         "type": "string"
        },
        {
         "name": "Kön",
         "rawType": "object",
         "type": "string"
        },
        {
         "name": "Ålder",
         "rawType": "object",
         "type": "string"
        },
        {
         "name": "Patienter/1000 invånare",
         "rawType": "float64",
         "type": "float"
        }
       ],
       "ref": "8a56e647-ddfb-4917-8504-121797787d9a",
       "rows": [
        [
         "0",
         "2006",
         "C02AC02 Guanfacin",
         "Riket",
         "Män",
         "5-9",
         "0.0"
        ],
        [
         "1",
         "2006",
         "C02AC02 Guanfacin",
         "Riket",
         "Män",
         "10-14",
         "0.0"
        ],
        [
         "2",
         "2006",
         "C02AC02 Guanfacin",
         "Riket",
         "Män",
         "15-19",
         "0.0"
        ],
        [
         "3",
         "2006",
         "C02AC02 Guanfacin",
         "Riket",
         "Män",
         "20-24",
         "0.0"
        ],
        [
         "4",
         "2006",
         "C02AC02 Guanfacin",
         "Riket",
         "Kvinnor",
         "5-9",
         "0.0"
        ],
        [
         "5",
         "2006",
         "C02AC02 Guanfacin",
         "Riket",
         "Kvinnor",
         "10-14",
         "0.0"
        ],
        [
         "6",
         "2006",
         "C02AC02 Guanfacin",
         "Riket",
         "Kvinnor",
         "15-19",
         "0.0"
        ],
        [
         "7",
         "2006",
         "C02AC02 Guanfacin",
         "Riket",
         "Kvinnor",
         "20-24",
         "0.0"
        ],
        [
         "8",
         "2006",
         "C02AC02 Guanfacin",
         "Riket",
         "Båda könen",
         "5-9",
         "0.0"
        ],
        [
         "9",
         "2006",
         "C02AC02 Guanfacin",
         "Riket",
         "Båda könen",
         "10-14",
         "0.0"
        ],
        [
         "10",
         "2006",
         "C02AC02 Guanfacin",
         "Riket",
         "Båda könen",
         "15-19",
         "0.0"
        ],
        [
         "11",
         "2006",
         "C02AC02 Guanfacin",
         "Riket",
         "Båda könen",
         "20-24",
         "0.0"
        ],
        [
         "12",
         "2006",
         "C02AC02 Guanfacin",
         "Stockholm",
         "Män",
         "5-9",
         "0.0"
        ],
        [
         "13",
         "2006",
         "C02AC02 Guanfacin",
         "Stockholm",
         "Män",
         "10-14",
         "0.0"
        ],
        [
         "14",
         "2006",
         "C02AC02 Guanfacin",
         "Stockholm",
         "Män",
         "15-19",
         "0.0"
        ],
        [
         "15",
         "2006",
         "C02AC02 Guanfacin",
         "Stockholm",
         "Män",
         "20-24",
         "0.0"
        ],
        [
         "16",
         "2006",
         "C02AC02 Guanfacin",
         "Stockholm",
         "Kvinnor",
         "5-9",
         "0.0"
        ],
        [
         "17",
         "2006",
         "C02AC02 Guanfacin",
         "Stockholm",
         "Kvinnor",
         "10-14",
         "0.0"
        ],
        [
         "18",
         "2006",
         "C02AC02 Guanfacin",
         "Stockholm",
         "Kvinnor",
         "15-19",
         "0.0"
        ],
        [
         "19",
         "2006",
         "C02AC02 Guanfacin",
         "Stockholm",
         "Kvinnor",
         "20-24",
         "0.0"
        ],
        [
         "20",
         "2006",
         "C02AC02 Guanfacin",
         "Stockholm",
         "Båda könen",
         "5-9",
         "0.0"
        ],
        [
         "21",
         "2006",
         "C02AC02 Guanfacin",
         "Stockholm",
         "Båda könen",
         "10-14",
         "0.0"
        ],
        [
         "22",
         "2006",
         "C02AC02 Guanfacin",
         "Stockholm",
         "Båda könen",
         "15-19",
         "0.0"
        ],
        [
         "23",
         "2006",
         "C02AC02 Guanfacin",
         "Stockholm",
         "Båda könen",
         "20-24",
         "0.0"
        ],
        [
         "24",
         "2006",
         "C02AC02 Guanfacin",
         "Uppsala",
         "Män",
         "5-9",
         "0.0"
        ],
        [
         "25",
         "2006",
         "C02AC02 Guanfacin",
         "Uppsala",
         "Män",
         "10-14",
         "0.0"
        ],
        [
         "26",
         "2006",
         "C02AC02 Guanfacin",
         "Uppsala",
         "Män",
         "15-19",
         "0.0"
        ],
        [
         "27",
         "2006",
         "C02AC02 Guanfacin",
         "Uppsala",
         "Män",
         "20-24",
         "0.0"
        ],
        [
         "28",
         "2006",
         "C02AC02 Guanfacin",
         "Uppsala",
         "Kvinnor",
         "5-9",
         "0.0"
        ],
        [
         "29",
         "2006",
         "C02AC02 Guanfacin",
         "Uppsala",
         "Kvinnor",
         "10-14",
         "0.0"
        ],
        [
         "30",
         "2006",
         "C02AC02 Guanfacin",
         "Uppsala",
         "Kvinnor",
         "15-19",
         "0.0"
        ],
        [
         "31",
         "2006",
         "C02AC02 Guanfacin",
         "Uppsala",
         "Kvinnor",
         "20-24",
         "0.0"
        ],
        [
         "32",
         "2006",
         "C02AC02 Guanfacin",
         "Uppsala",
         "Båda könen",
         "5-9",
         "0.0"
        ],
        [
         "33",
         "2006",
         "C02AC02 Guanfacin",
         "Uppsala",
         "Båda könen",
         "10-14",
         "0.0"
        ],
        [
         "34",
         "2006",
         "C02AC02 Guanfacin",
         "Uppsala",
         "Båda könen",
         "15-19",
         "0.0"
        ],
        [
         "35",
         "2006",
         "C02AC02 Guanfacin",
         "Uppsala",
         "Båda könen",
         "20-24",
         "0.0"
        ],
        [
         "36",
         "2006",
         "C02AC02 Guanfacin",
         "Södermanland",
         "Män",
         "5-9",
         "0.0"
        ],
        [
         "37",
         "2006",
         "C02AC02 Guanfacin",
         "Södermanland",
         "Män",
         "10-14",
         "0.0"
        ],
        [
         "38",
         "2006",
         "C02AC02 Guanfacin",
         "Södermanland",
         "Män",
         "15-19",
         "0.0"
        ],
        [
         "39",
         "2006",
         "C02AC02 Guanfacin",
         "Södermanland",
         "Män",
         "20-24",
         "0.0"
        ],
        [
         "40",
         "2006",
         "C02AC02 Guanfacin",
         "Södermanland",
         "Kvinnor",
         "5-9",
         "0.0"
        ],
        [
         "41",
         "2006",
         "C02AC02 Guanfacin",
         "Södermanland",
         "Kvinnor",
         "10-14",
         "0.0"
        ],
        [
         "42",
         "2006",
         "C02AC02 Guanfacin",
         "Södermanland",
         "Kvinnor",
         "15-19",
         "0.0"
        ],
        [
         "43",
         "2006",
         "C02AC02 Guanfacin",
         "Södermanland",
         "Kvinnor",
         "20-24",
         "0.0"
        ],
        [
         "44",
         "2006",
         "C02AC02 Guanfacin",
         "Södermanland",
         "Båda könen",
         "5-9",
         "0.0"
        ],
        [
         "45",
         "2006",
         "C02AC02 Guanfacin",
         "Södermanland",
         "Båda könen",
         "10-14",
         "0.0"
        ],
        [
         "46",
         "2006",
         "C02AC02 Guanfacin",
         "Södermanland",
         "Båda könen",
         "15-19",
         "0.0"
        ],
        [
         "47",
         "2006",
         "C02AC02 Guanfacin",
         "Södermanland",
         "Båda könen",
         "20-24",
         "0.0"
        ],
        [
         "48",
         "2006",
         "C02AC02 Guanfacin",
         "Östergötland",
         "Män",
         "5-9",
         "0.0"
        ],
        [
         "49",
         "2006",
         "C02AC02 Guanfacin",
         "Östergötland",
         "Män",
         "10-14",
         "0.0"
        ]
       ],
       "shape": {
        "columns": 6,
        "rows": 25080
       }
      },
      "text/html": [
       "<div>\n",
       "<style scoped>\n",
       "    .dataframe tbody tr th:only-of-type {\n",
       "        vertical-align: middle;\n",
       "    }\n",
       "\n",
       "    .dataframe tbody tr th {\n",
       "        vertical-align: top;\n",
       "    }\n",
       "\n",
       "    .dataframe thead th {\n",
       "        text-align: right;\n",
       "    }\n",
       "</style>\n",
       "<table border=\"1\" class=\"dataframe\">\n",
       "  <thead>\n",
       "    <tr style=\"text-align: right;\">\n",
       "      <th></th>\n",
       "      <th>År</th>\n",
       "      <th>Läkemedel</th>\n",
       "      <th>Region</th>\n",
       "      <th>Kön</th>\n",
       "      <th>Ålder</th>\n",
       "      <th>Patienter/1000 invånare</th>\n",
       "    </tr>\n",
       "  </thead>\n",
       "  <tbody>\n",
       "    <tr>\n",
       "      <th>0</th>\n",
       "      <td>2006</td>\n",
       "      <td>C02AC02 Guanfacin</td>\n",
       "      <td>Riket</td>\n",
       "      <td>Män</td>\n",
       "      <td>5-9</td>\n",
       "      <td>0.00</td>\n",
       "    </tr>\n",
       "    <tr>\n",
       "      <th>1</th>\n",
       "      <td>2006</td>\n",
       "      <td>C02AC02 Guanfacin</td>\n",
       "      <td>Riket</td>\n",
       "      <td>Män</td>\n",
       "      <td>10-14</td>\n",
       "      <td>0.00</td>\n",
       "    </tr>\n",
       "    <tr>\n",
       "      <th>2</th>\n",
       "      <td>2006</td>\n",
       "      <td>C02AC02 Guanfacin</td>\n",
       "      <td>Riket</td>\n",
       "      <td>Män</td>\n",
       "      <td>15-19</td>\n",
       "      <td>0.00</td>\n",
       "    </tr>\n",
       "    <tr>\n",
       "      <th>3</th>\n",
       "      <td>2006</td>\n",
       "      <td>C02AC02 Guanfacin</td>\n",
       "      <td>Riket</td>\n",
       "      <td>Män</td>\n",
       "      <td>20-24</td>\n",
       "      <td>0.00</td>\n",
       "    </tr>\n",
       "    <tr>\n",
       "      <th>4</th>\n",
       "      <td>2006</td>\n",
       "      <td>C02AC02 Guanfacin</td>\n",
       "      <td>Riket</td>\n",
       "      <td>Kvinnor</td>\n",
       "      <td>5-9</td>\n",
       "      <td>0.00</td>\n",
       "    </tr>\n",
       "    <tr>\n",
       "      <th>...</th>\n",
       "      <td>...</td>\n",
       "      <td>...</td>\n",
       "      <td>...</td>\n",
       "      <td>...</td>\n",
       "      <td>...</td>\n",
       "      <td>...</td>\n",
       "    </tr>\n",
       "    <tr>\n",
       "      <th>25075</th>\n",
       "      <td>2024</td>\n",
       "      <td>N06BA02 Dexamfetamin</td>\n",
       "      <td>Norrbotten</td>\n",
       "      <td>Kvinnor</td>\n",
       "      <td>20-24</td>\n",
       "      <td>2.50</td>\n",
       "    </tr>\n",
       "    <tr>\n",
       "      <th>25076</th>\n",
       "      <td>2024</td>\n",
       "      <td>N06BA02 Dexamfetamin</td>\n",
       "      <td>Norrbotten</td>\n",
       "      <td>Båda könen</td>\n",
       "      <td>5-9</td>\n",
       "      <td>0.39</td>\n",
       "    </tr>\n",
       "    <tr>\n",
       "      <th>25077</th>\n",
       "      <td>2024</td>\n",
       "      <td>N06BA02 Dexamfetamin</td>\n",
       "      <td>Norrbotten</td>\n",
       "      <td>Båda könen</td>\n",
       "      <td>10-14</td>\n",
       "      <td>1.29</td>\n",
       "    </tr>\n",
       "    <tr>\n",
       "      <th>25078</th>\n",
       "      <td>2024</td>\n",
       "      <td>N06BA02 Dexamfetamin</td>\n",
       "      <td>Norrbotten</td>\n",
       "      <td>Båda könen</td>\n",
       "      <td>15-19</td>\n",
       "      <td>1.21</td>\n",
       "    </tr>\n",
       "    <tr>\n",
       "      <th>25079</th>\n",
       "      <td>2024</td>\n",
       "      <td>N06BA02 Dexamfetamin</td>\n",
       "      <td>Norrbotten</td>\n",
       "      <td>Båda könen</td>\n",
       "      <td>20-24</td>\n",
       "      <td>1.98</td>\n",
       "    </tr>\n",
       "  </tbody>\n",
       "</table>\n",
       "<p>25080 rows × 6 columns</p>\n",
       "</div>"
      ],
      "text/plain": [
       "         År             Läkemedel      Region         Kön  Ålder  \\\n",
       "0      2006     C02AC02 Guanfacin       Riket         Män    5-9   \n",
       "1      2006     C02AC02 Guanfacin       Riket         Män  10-14   \n",
       "2      2006     C02AC02 Guanfacin       Riket         Män  15-19   \n",
       "3      2006     C02AC02 Guanfacin       Riket         Män  20-24   \n",
       "4      2006     C02AC02 Guanfacin       Riket     Kvinnor    5-9   \n",
       "...     ...                   ...         ...         ...    ...   \n",
       "25075  2024  N06BA02 Dexamfetamin  Norrbotten     Kvinnor  20-24   \n",
       "25076  2024  N06BA02 Dexamfetamin  Norrbotten  Båda könen    5-9   \n",
       "25077  2024  N06BA02 Dexamfetamin  Norrbotten  Båda könen  10-14   \n",
       "25078  2024  N06BA02 Dexamfetamin  Norrbotten  Båda könen  15-19   \n",
       "25079  2024  N06BA02 Dexamfetamin  Norrbotten  Båda könen  20-24   \n",
       "\n",
       "       Patienter/1000 invånare  \n",
       "0                         0.00  \n",
       "1                         0.00  \n",
       "2                         0.00  \n",
       "3                         0.00  \n",
       "4                         0.00  \n",
       "...                        ...  \n",
       "25075                     2.50  \n",
       "25076                     0.39  \n",
       "25077                     1.29  \n",
       "25078                     1.21  \n",
       "25079                     1.98  \n",
       "\n",
       "[25080 rows x 6 columns]"
      ]
     },
     "execution_count": 3,
     "metadata": {},
     "output_type": "execute_result"
    }
   ],
   "source": [
    "# Load CSV into pandas\n",
    "df = pd.read_csv(\"adhd_medication_2006-2024.csv\", delimiter=\",\")\n",
    "df\n"
   ]
  },
  {
   "cell_type": "markdown",
   "id": "4ef59d70",
   "metadata": {},
   "source": [
    "## Data preparation functions for all individual medications and mappings"
   ]
  },
  {
   "cell_type": "code",
   "execution_count": 4,
   "id": "69d7fc54",
   "metadata": {},
   "outputs": [],
   "source": [
    "# Mapping ATC codes to medication names\n",
    "med_name_map = {\n",
    "    \"N06BA04 Metylfenidat\": \"Methylphenidate\",\n",
    "    \"N06BA12 Lisdexamfetamin\": \"Lisdexamfetamine\", \n",
    "    \"N06BA02 Dexamfetamin\": \"Dextroamphetamine\",\n",
    "    \"N06BA09 Atomoxetin\": \"Atomoxetine\",\n",
    "    \"C02AC02 Guanfacin\": \"Guanfacine\"\n",
    "}\n",
    "\n",
    "# Gender mapping\n",
    "gender_map = {\n",
    "    'Män': 'Boys',\n",
    "    'Kvinnor': 'Girls', \n",
    "    'Båda könen': 'Both genders'\n",
    "}\n",
    "\n",
    "# Create a mapping to standardize county names (Excel format -> Regional format)\n",
    "county_map = {\n",
    "    \"Blekinge län\": \"Blekinge\",\n",
    "    \"Dalarnas län\": \"Dalarna\", \n",
    "    \"Gotlands län\": \"Gotland\",\n",
    "    \"Gävleborgs län\": \"Gävleborg\",\n",
    "    \"Hallands län\": \"Halland\",\n",
    "    \"Jämtlands län\": \"Jämtland Härjedalen\",\n",
    "    \"Jönköpings län\": \"Jönköping\",\n",
    "    \"Kalmar län\": \"Kalmar\",\n",
    "    \"Kronobergs län\": \"Kronoberg\",\n",
    "    \"Norrbottens län\": \"Norrbotten\",\n",
    "    \"Skåne län\": \"Skåne\",\n",
    "    \"Stockholms län\": \"Stockholm\",\n",
    "    \"Södermanlands län\": \"Södermanland\",\n",
    "    \"Uppsala län\": \"Uppsala\",\n",
    "    \"Värmlands län\": \"Värmland\",\n",
    "    \"Västerbottens län\": \"Västerbotten\",\n",
    "    \"Västernorrlands län\": \"Västernorrland\",\n",
    "    \"Västmanlands län\": \"Västmanland\",\n",
    "    \"Västra Götalands län\": \"Västra Götaland\",\n",
    "    \"Örebro län\": \"Örebro\",\n",
    "    \"Östergötlands län\": \"Östergötland\"\n",
    "}\n",
    "\n",
    "# For animation, makes it gradually\n",
    "def create_cumulative_data(df):\n",
    "    \"\"\"Create cumulative data frames for animation.\"\"\"\n",
    "    cumulative_frames = []\n",
    "    years = sorted(df['year'].unique())\n",
    "    for year in years:\n",
    "        frame_data = df[df['year'] <= year].copy()\n",
    "        frame_data['Year'] = year # this is the animation frame\n",
    "        cumulative_frames.append(frame_data)\n",
    "    return pd.concat(cumulative_frames, ignore_index=True)\n",
    "\n",
    "def make_label(row):\n",
    "    \"\"\"Combine gender + age group into readable labels.\"\"\"\n",
    "    g = row[\"gender\"]\n",
    "    a = row[\"age_group\"]\n",
    "    if a == \"20-24\":\n",
    "        if g == \"Boys\":\n",
    "            return \"Young men 20-24\"\n",
    "        elif g == \"Girls\":\n",
    "            return \"Young women 20-24\"\n",
    "        elif g == \"Both genders\":\n",
    "            return \"Both genders 20-24\"\n",
    "    else:\n",
    "        return f\"{g} {a}\"\n",
    "\n",
    "# Filter for national data and translate column names\n",
    "df_national = df[\n",
    "    (df['Region'] == 'Riket') &\n",
    "    (df['Ålder'].isin(['5-9', '10-14', '15-19', '20-24'])) &\n",
    "    (df['Kön'].isin(['Män', 'Kvinnor', 'Båda könen']))\n",
    "].copy()\n",
    "\n",
    "# Translate column names to English\n",
    "df_national = df_national.rename(columns={\n",
    "    'År': 'year',\n",
    "    'Kön': 'gender',\n",
    "    'Region': \"county\",\n",
    "    'Ålder': 'age_group',\n",
    "    'Läkemedel': 'medication',\n",
    "    'Patienter/1000 invånare': 'patients_per_1000'\n",
    "})\n",
    "\n",
    "# Map medications to individual names\n",
    "df_national[\"medication_name\"] = df_national[\"medication\"].map(med_name_map)\n",
    "\n",
    "# Map gender values to English\n",
    "df_national['gender'] = df_national['gender'].map(gender_map)\n",
    "\n",
    "# Individual medications for national data\n",
    "df_individual_nat = (\n",
    "    df_national\n",
    "    .dropna(subset=[\"medication_name\"])\n",
    "    .copy()\n",
    ")\n",
    "df_individual_nat[\"medication_category\"] = df_individual_nat[\"medication_name\"]\n",
    "\n"
   ]
  },
  {
   "cell_type": "markdown",
   "id": "dc8895cf",
   "metadata": {},
   "source": [
    "## Downloaded data in Excel files from Socialstyrelsens database for the \"All ADHD medication\" category. This solves the issue with double counting patients, which happened when trying to sum prevalence data for each individual medication category."
   ]
  },
  {
   "cell_type": "code",
   "execution_count": null,
   "id": "848ab989",
   "metadata": {},
   "outputs": [
    {
     "name": "stdout",
     "output_type": "stream",
     "text": [
      "Imported adhd_5-9.xlsx\n",
      "Imported adhd_10-14.xlsx\n",
      "Imported adhd_15-19.xlsx\n",
      "Imported adhd_20-24.xlsx\n"
     ]
    },
    {
     "name": "stderr",
     "output_type": "stream",
     "text": [
      "/home/bengtegard/miniconda3/envs/adhd_analysis/lib/python3.12/site-packages/openpyxl/styles/stylesheet.py:237: UserWarning: Workbook contains no default style, apply openpyxl's default\n",
      "  warn(\"Workbook contains no default style, apply openpyxl's default\")\n",
      "/home/bengtegard/miniconda3/envs/adhd_analysis/lib/python3.12/site-packages/openpyxl/styles/stylesheet.py:237: UserWarning: Workbook contains no default style, apply openpyxl's default\n",
      "  warn(\"Workbook contains no default style, apply openpyxl's default\")\n",
      "/home/bengtegard/miniconda3/envs/adhd_analysis/lib/python3.12/site-packages/openpyxl/styles/stylesheet.py:237: UserWarning: Workbook contains no default style, apply openpyxl's default\n",
      "  warn(\"Workbook contains no default style, apply openpyxl's default\")\n",
      "/home/bengtegard/miniconda3/envs/adhd_analysis/lib/python3.12/site-packages/openpyxl/styles/stylesheet.py:237: UserWarning: Workbook contains no default style, apply openpyxl's default\n",
      "  warn(\"Workbook contains no default style, apply openpyxl's default\")\n"
     ]
    },
    {
     "data": {
      "application/vnd.microsoft.datawrangler.viewer.v0+json": {
       "columns": [
        {
         "name": "index",
         "rawType": "int64",
         "type": "integer"
        },
        {
         "name": "year",
         "rawType": "int64",
         "type": "integer"
        },
        {
         "name": "county",
         "rawType": "object",
         "type": "string"
        },
        {
         "name": "gender",
         "rawType": "object",
         "type": "string"
        },
        {
         "name": "age_group",
         "rawType": "object",
         "type": "string"
        },
        {
         "name": "medication_category",
         "rawType": "object",
         "type": "string"
        },
        {
         "name": "patients_per_1000",
         "rawType": "float64",
         "type": "float"
        }
       ],
       "ref": "ac9c9d37-0fba-4160-9f56-058cfeed08f8",
       "rows": [
        [
         "0",
         "2006",
         "Riket",
         "Boys",
         "5-9",
         "Guanfacine",
         "0.0"
        ],
        [
         "1",
         "2006",
         "Riket",
         "Boys",
         "10-14",
         "Guanfacine",
         "0.0"
        ],
        [
         "2",
         "2006",
         "Riket",
         "Boys",
         "15-19",
         "Guanfacine",
         "0.0"
        ],
        [
         "3",
         "2006",
         "Riket",
         "Boys",
         "20-24",
         "Guanfacine",
         "0.0"
        ],
        [
         "4",
         "2006",
         "Riket",
         "Girls",
         "5-9",
         "Guanfacine",
         "0.0"
        ]
       ],
       "shape": {
        "columns": 6,
        "rows": 5
       }
      },
      "text/html": [
       "<div>\n",
       "<style scoped>\n",
       "    .dataframe tbody tr th:only-of-type {\n",
       "        vertical-align: middle;\n",
       "    }\n",
       "\n",
       "    .dataframe tbody tr th {\n",
       "        vertical-align: top;\n",
       "    }\n",
       "\n",
       "    .dataframe thead th {\n",
       "        text-align: right;\n",
       "    }\n",
       "</style>\n",
       "<table border=\"1\" class=\"dataframe\">\n",
       "  <thead>\n",
       "    <tr style=\"text-align: right;\">\n",
       "      <th></th>\n",
       "      <th>year</th>\n",
       "      <th>county</th>\n",
       "      <th>gender</th>\n",
       "      <th>age_group</th>\n",
       "      <th>medication_category</th>\n",
       "      <th>patients_per_1000</th>\n",
       "    </tr>\n",
       "  </thead>\n",
       "  <tbody>\n",
       "    <tr>\n",
       "      <th>0</th>\n",
       "      <td>2006</td>\n",
       "      <td>Riket</td>\n",
       "      <td>Boys</td>\n",
       "      <td>5-9</td>\n",
       "      <td>Guanfacine</td>\n",
       "      <td>0.0</td>\n",
       "    </tr>\n",
       "    <tr>\n",
       "      <th>1</th>\n",
       "      <td>2006</td>\n",
       "      <td>Riket</td>\n",
       "      <td>Boys</td>\n",
       "      <td>10-14</td>\n",
       "      <td>Guanfacine</td>\n",
       "      <td>0.0</td>\n",
       "    </tr>\n",
       "    <tr>\n",
       "      <th>2</th>\n",
       "      <td>2006</td>\n",
       "      <td>Riket</td>\n",
       "      <td>Boys</td>\n",
       "      <td>15-19</td>\n",
       "      <td>Guanfacine</td>\n",
       "      <td>0.0</td>\n",
       "    </tr>\n",
       "    <tr>\n",
       "      <th>3</th>\n",
       "      <td>2006</td>\n",
       "      <td>Riket</td>\n",
       "      <td>Boys</td>\n",
       "      <td>20-24</td>\n",
       "      <td>Guanfacine</td>\n",
       "      <td>0.0</td>\n",
       "    </tr>\n",
       "    <tr>\n",
       "      <th>4</th>\n",
       "      <td>2006</td>\n",
       "      <td>Riket</td>\n",
       "      <td>Girls</td>\n",
       "      <td>5-9</td>\n",
       "      <td>Guanfacine</td>\n",
       "      <td>0.0</td>\n",
       "    </tr>\n",
       "  </tbody>\n",
       "</table>\n",
       "</div>"
      ],
      "text/plain": [
       "   year county gender age_group medication_category  patients_per_1000\n",
       "0  2006  Riket   Boys       5-9          Guanfacine                0.0\n",
       "1  2006  Riket   Boys     10-14          Guanfacine                0.0\n",
       "2  2006  Riket   Boys     15-19          Guanfacine                0.0\n",
       "3  2006  Riket   Boys     20-24          Guanfacine                0.0\n",
       "4  2006  Riket  Girls       5-9          Guanfacine                0.0"
      ]
     },
     "execution_count": 5,
     "metadata": {},
     "output_type": "execute_result"
    }
   ],
   "source": [
    "def import_adhd_excel(region_filter=\"all\"):\n",
    "    \"\"\"Import and combine the ADHD Excel files into a long format DataFrame containing \"All ADHD medications\". This prevents double counting that would occur when summing individual medication prevalences.\n",
    "    \n",
    "    Parameters:\n",
    "    region_filter: \"riket\" for national data only, \"regional\" for counties only, \"all\" for both.\n",
    "    \"\"\"\n",
    "    files_and_ages = {\n",
    "        \"adhd_5-9.xlsx\": \"5-9\",\n",
    "        \"adhd_10-14.xlsx\": \"10-14\",\n",
    "        \"adhd_15-19.xlsx\": \"15-19\",\n",
    "        \"adhd_20-24.xlsx\": \"20-24\"\n",
    "    }\n",
    "\n",
    "    all_data = []\n",
    "    for filename, age_group in files_and_ages.items():\n",
    "        try:\n",
    "            # Header row is second row in the sheet\n",
    "            df_temp = pd.read_excel(filename, header=1)\n",
    "            all_data.append(df_temp)\n",
    "            print(f\"Imported {filename}\")\n",
    "        except FileNotFoundError:\n",
    "            print(f\"File {filename} does not exist\")\n",
    "\n",
    "    if not all_data:\n",
    "        return None\n",
    "\n",
    "    # Combine all age-group DataFrames\n",
    "    df_all = pd.concat(all_data, ignore_index=True)\n",
    "\n",
    "    # Apply filter\n",
    "    if region_filter == \"riket\":\n",
    "        df_all = df_all[df_all[\"Region\"] == \"Riket\"]\n",
    "    elif region_filter == \"regional\":\n",
    "        df_all = df_all[df_all[\"Region\"] != \"Riket\"]\n",
    "\n",
    "    df_all = df_all[\n",
    "        (df_all[\"Kön\"].isin([\"Män\", \"Kvinnor\", \"Båda könen\"])) &\n",
    "        (df_all[\"Ålder\"].isin([\"5-9\", \"10-14\", \"15-19\", \"20-24\"]))\n",
    "    ].copy()\n",
    "\n",
    "    # Identify year columns (all columns that are purely digits)\n",
    "    year_cols = [c for c in df_all.columns if str(c).isdigit()]\n",
    "\n",
    "    # Melt to long format: one row per year\n",
    "    df_long = df_all.melt(\n",
    "        id_vars=[\"Mått\", \"Läkemedel\", \"Region\", \"Kön\", \"Ålder\"],\n",
    "        value_vars=year_cols,\n",
    "        var_name=\"year\",\n",
    "        value_name=\"patients_per_1000\",\n",
    "    )\n",
    "\n",
    "    # Clean up and rename\n",
    "    df_long = df_long.rename(\n",
    "        columns={\n",
    "            \"Kön\": \"gender\",\n",
    "            \"Ålder\": \"age_group\",\n",
    "            \"Region\": \"county\",\n",
    "            \"Mått\": \"measure\",\n",
    "            \"Läkemedel\": \"medication\"\n",
    "        }\n",
    "    )\n",
    "\n",
    "    # Convert year to integer\n",
    "    df_long[\"year\"] = df_long[\"year\"].astype(int)\n",
    "\n",
    "    return df_long\n",
    "\n",
    "# ------------------------------------------------------------------\n",
    "\n",
    "# Import data\n",
    "df_all_adhd_national = import_adhd_excel(region_filter=\"riket\")\n",
    "\n",
    "# Map gender\n",
    "df_all_adhd_national[\"gender\"] = df_all_adhd_national[\"gender\"].map(gender_map)\n",
    "\n",
    "# Add medication category\n",
    "df_all_adhd_national[\"medication_category\"] = \"All medications\"\n",
    "\n",
    "# Keep only individual medications\n",
    "df_individual_only = df_individual_nat.copy()\n",
    "\n",
    "# Combine dataframes\n",
    "df_grouped = pd.concat(\n",
    "    [\n",
    "        df_individual_only[\n",
    "            [\"year\", \"county\", \"gender\", \"age_group\", \"medication_category\", \"patients_per_1000\"]\n",
    "        ],\n",
    "        df_all_adhd_national[\n",
    "            [\"year\", \"county\", \"gender\", \"age_group\", \"medication_category\", \"patients_per_1000\"]\n",
    "        ],\n",
    "    ],\n",
    "    ignore_index=True,\n",
    ")\n",
    "\n",
    "df_grouped.head()\n"
   ]
  },
  {
   "cell_type": "code",
   "execution_count": 6,
   "id": "eea1bce6",
   "metadata": {},
   "outputs": [
    {
     "name": "stdout",
     "output_type": "stream",
     "text": [
      "Imported adhd_5-9.xlsx\n",
      "Imported adhd_10-14.xlsx\n",
      "Imported adhd_15-19.xlsx\n",
      "Imported adhd_20-24.xlsx\n"
     ]
    },
    {
     "name": "stderr",
     "output_type": "stream",
     "text": [
      "/home/bengtegard/miniconda3/envs/adhd_analysis/lib/python3.12/site-packages/openpyxl/styles/stylesheet.py:237: UserWarning: Workbook contains no default style, apply openpyxl's default\n",
      "  warn(\"Workbook contains no default style, apply openpyxl's default\")\n",
      "/home/bengtegard/miniconda3/envs/adhd_analysis/lib/python3.12/site-packages/openpyxl/styles/stylesheet.py:237: UserWarning: Workbook contains no default style, apply openpyxl's default\n",
      "  warn(\"Workbook contains no default style, apply openpyxl's default\")\n",
      "/home/bengtegard/miniconda3/envs/adhd_analysis/lib/python3.12/site-packages/openpyxl/styles/stylesheet.py:237: UserWarning: Workbook contains no default style, apply openpyxl's default\n",
      "  warn(\"Workbook contains no default style, apply openpyxl's default\")\n",
      "/home/bengtegard/miniconda3/envs/adhd_analysis/lib/python3.12/site-packages/openpyxl/styles/stylesheet.py:237: UserWarning: Workbook contains no default style, apply openpyxl's default\n",
      "  warn(\"Workbook contains no default style, apply openpyxl's default\")\n"
     ]
    },
    {
     "data": {
      "application/vnd.microsoft.datawrangler.viewer.v0+json": {
       "columns": [
        {
         "name": "index",
         "rawType": "int64",
         "type": "integer"
        },
        {
         "name": "year",
         "rawType": "int64",
         "type": "integer"
        },
        {
         "name": "county",
         "rawType": "object",
         "type": "string"
        },
        {
         "name": "gender",
         "rawType": "object",
         "type": "string"
        },
        {
         "name": "age_group",
         "rawType": "object",
         "type": "string"
        },
        {
         "name": "medication_category",
         "rawType": "object",
         "type": "string"
        },
        {
         "name": "patients_per_1000",
         "rawType": "float64",
         "type": "float"
        }
       ],
       "ref": "a00afca2-0e88-4c50-abf9-dc79b216dafd",
       "rows": [
        [
         "0",
         "2006",
         "Stockholm",
         "Boys",
         "5-9",
         "Guanfacine",
         "0.0"
        ],
        [
         "1",
         "2006",
         "Stockholm",
         "Boys",
         "10-14",
         "Guanfacine",
         "0.0"
        ],
        [
         "2",
         "2006",
         "Stockholm",
         "Boys",
         "15-19",
         "Guanfacine",
         "0.0"
        ],
        [
         "3",
         "2006",
         "Stockholm",
         "Boys",
         "20-24",
         "Guanfacine",
         "0.0"
        ],
        [
         "4",
         "2006",
         "Stockholm",
         "Girls",
         "5-9",
         "Guanfacine",
         "0.0"
        ],
        [
         "5",
         "2006",
         "Stockholm",
         "Girls",
         "10-14",
         "Guanfacine",
         "0.0"
        ],
        [
         "6",
         "2006",
         "Stockholm",
         "Girls",
         "15-19",
         "Guanfacine",
         "0.0"
        ],
        [
         "7",
         "2006",
         "Stockholm",
         "Girls",
         "20-24",
         "Guanfacine",
         "0.0"
        ],
        [
         "8",
         "2006",
         "Stockholm",
         "Both genders",
         "5-9",
         "Guanfacine",
         "0.0"
        ],
        [
         "9",
         "2006",
         "Stockholm",
         "Both genders",
         "10-14",
         "Guanfacine",
         "0.0"
        ],
        [
         "10",
         "2006",
         "Stockholm",
         "Both genders",
         "15-19",
         "Guanfacine",
         "0.0"
        ],
        [
         "11",
         "2006",
         "Stockholm",
         "Both genders",
         "20-24",
         "Guanfacine",
         "0.0"
        ],
        [
         "12",
         "2006",
         "Uppsala",
         "Boys",
         "5-9",
         "Guanfacine",
         "0.0"
        ],
        [
         "13",
         "2006",
         "Uppsala",
         "Boys",
         "10-14",
         "Guanfacine",
         "0.0"
        ],
        [
         "14",
         "2006",
         "Uppsala",
         "Boys",
         "15-19",
         "Guanfacine",
         "0.0"
        ],
        [
         "15",
         "2006",
         "Uppsala",
         "Boys",
         "20-24",
         "Guanfacine",
         "0.0"
        ],
        [
         "16",
         "2006",
         "Uppsala",
         "Girls",
         "5-9",
         "Guanfacine",
         "0.0"
        ],
        [
         "17",
         "2006",
         "Uppsala",
         "Girls",
         "10-14",
         "Guanfacine",
         "0.0"
        ],
        [
         "18",
         "2006",
         "Uppsala",
         "Girls",
         "15-19",
         "Guanfacine",
         "0.0"
        ],
        [
         "19",
         "2006",
         "Uppsala",
         "Girls",
         "20-24",
         "Guanfacine",
         "0.0"
        ],
        [
         "20",
         "2006",
         "Uppsala",
         "Both genders",
         "5-9",
         "Guanfacine",
         "0.0"
        ],
        [
         "21",
         "2006",
         "Uppsala",
         "Both genders",
         "10-14",
         "Guanfacine",
         "0.0"
        ],
        [
         "22",
         "2006",
         "Uppsala",
         "Both genders",
         "15-19",
         "Guanfacine",
         "0.0"
        ],
        [
         "23",
         "2006",
         "Uppsala",
         "Both genders",
         "20-24",
         "Guanfacine",
         "0.0"
        ],
        [
         "24",
         "2006",
         "Södermanland",
         "Boys",
         "5-9",
         "Guanfacine",
         "0.0"
        ],
        [
         "25",
         "2006",
         "Södermanland",
         "Boys",
         "10-14",
         "Guanfacine",
         "0.0"
        ],
        [
         "26",
         "2006",
         "Södermanland",
         "Boys",
         "15-19",
         "Guanfacine",
         "0.0"
        ],
        [
         "27",
         "2006",
         "Södermanland",
         "Boys",
         "20-24",
         "Guanfacine",
         "0.0"
        ],
        [
         "28",
         "2006",
         "Södermanland",
         "Girls",
         "5-9",
         "Guanfacine",
         "0.0"
        ],
        [
         "29",
         "2006",
         "Södermanland",
         "Girls",
         "10-14",
         "Guanfacine",
         "0.0"
        ],
        [
         "30",
         "2006",
         "Södermanland",
         "Girls",
         "15-19",
         "Guanfacine",
         "0.0"
        ],
        [
         "31",
         "2006",
         "Södermanland",
         "Girls",
         "20-24",
         "Guanfacine",
         "0.0"
        ],
        [
         "32",
         "2006",
         "Södermanland",
         "Both genders",
         "5-9",
         "Guanfacine",
         "0.0"
        ],
        [
         "33",
         "2006",
         "Södermanland",
         "Both genders",
         "10-14",
         "Guanfacine",
         "0.0"
        ],
        [
         "34",
         "2006",
         "Södermanland",
         "Both genders",
         "15-19",
         "Guanfacine",
         "0.0"
        ],
        [
         "35",
         "2006",
         "Södermanland",
         "Both genders",
         "20-24",
         "Guanfacine",
         "0.0"
        ],
        [
         "36",
         "2006",
         "Östergötland",
         "Boys",
         "5-9",
         "Guanfacine",
         "0.0"
        ],
        [
         "37",
         "2006",
         "Östergötland",
         "Boys",
         "10-14",
         "Guanfacine",
         "0.0"
        ],
        [
         "38",
         "2006",
         "Östergötland",
         "Boys",
         "15-19",
         "Guanfacine",
         "0.0"
        ],
        [
         "39",
         "2006",
         "Östergötland",
         "Boys",
         "20-24",
         "Guanfacine",
         "0.0"
        ],
        [
         "40",
         "2006",
         "Östergötland",
         "Girls",
         "5-9",
         "Guanfacine",
         "0.0"
        ],
        [
         "41",
         "2006",
         "Östergötland",
         "Girls",
         "10-14",
         "Guanfacine",
         "0.0"
        ],
        [
         "42",
         "2006",
         "Östergötland",
         "Girls",
         "15-19",
         "Guanfacine",
         "0.0"
        ],
        [
         "43",
         "2006",
         "Östergötland",
         "Girls",
         "20-24",
         "Guanfacine",
         "0.0"
        ],
        [
         "44",
         "2006",
         "Östergötland",
         "Both genders",
         "5-9",
         "Guanfacine",
         "0.0"
        ],
        [
         "45",
         "2006",
         "Östergötland",
         "Both genders",
         "10-14",
         "Guanfacine",
         "0.0"
        ],
        [
         "46",
         "2006",
         "Östergötland",
         "Both genders",
         "15-19",
         "Guanfacine",
         "0.0"
        ],
        [
         "47",
         "2006",
         "Östergötland",
         "Both genders",
         "20-24",
         "Guanfacine",
         "0.0"
        ],
        [
         "48",
         "2006",
         "Jönköping",
         "Boys",
         "5-9",
         "Guanfacine",
         "0.0"
        ],
        [
         "49",
         "2006",
         "Jönköping",
         "Boys",
         "10-14",
         "Guanfacine",
         "0.0"
        ]
       ],
       "shape": {
        "columns": 6,
        "rows": 28728
       }
      },
      "text/html": [
       "<div>\n",
       "<style scoped>\n",
       "    .dataframe tbody tr th:only-of-type {\n",
       "        vertical-align: middle;\n",
       "    }\n",
       "\n",
       "    .dataframe tbody tr th {\n",
       "        vertical-align: top;\n",
       "    }\n",
       "\n",
       "    .dataframe thead th {\n",
       "        text-align: right;\n",
       "    }\n",
       "</style>\n",
       "<table border=\"1\" class=\"dataframe\">\n",
       "  <thead>\n",
       "    <tr style=\"text-align: right;\">\n",
       "      <th></th>\n",
       "      <th>year</th>\n",
       "      <th>county</th>\n",
       "      <th>gender</th>\n",
       "      <th>age_group</th>\n",
       "      <th>medication_category</th>\n",
       "      <th>patients_per_1000</th>\n",
       "    </tr>\n",
       "  </thead>\n",
       "  <tbody>\n",
       "    <tr>\n",
       "      <th>0</th>\n",
       "      <td>2006</td>\n",
       "      <td>Stockholm</td>\n",
       "      <td>Boys</td>\n",
       "      <td>5-9</td>\n",
       "      <td>Guanfacine</td>\n",
       "      <td>0.00</td>\n",
       "    </tr>\n",
       "    <tr>\n",
       "      <th>1</th>\n",
       "      <td>2006</td>\n",
       "      <td>Stockholm</td>\n",
       "      <td>Boys</td>\n",
       "      <td>10-14</td>\n",
       "      <td>Guanfacine</td>\n",
       "      <td>0.00</td>\n",
       "    </tr>\n",
       "    <tr>\n",
       "      <th>2</th>\n",
       "      <td>2006</td>\n",
       "      <td>Stockholm</td>\n",
       "      <td>Boys</td>\n",
       "      <td>15-19</td>\n",
       "      <td>Guanfacine</td>\n",
       "      <td>0.00</td>\n",
       "    </tr>\n",
       "    <tr>\n",
       "      <th>3</th>\n",
       "      <td>2006</td>\n",
       "      <td>Stockholm</td>\n",
       "      <td>Boys</td>\n",
       "      <td>20-24</td>\n",
       "      <td>Guanfacine</td>\n",
       "      <td>0.00</td>\n",
       "    </tr>\n",
       "    <tr>\n",
       "      <th>4</th>\n",
       "      <td>2006</td>\n",
       "      <td>Stockholm</td>\n",
       "      <td>Girls</td>\n",
       "      <td>5-9</td>\n",
       "      <td>Guanfacine</td>\n",
       "      <td>0.00</td>\n",
       "    </tr>\n",
       "    <tr>\n",
       "      <th>...</th>\n",
       "      <td>...</td>\n",
       "      <td>...</td>\n",
       "      <td>...</td>\n",
       "      <td>...</td>\n",
       "      <td>...</td>\n",
       "      <td>...</td>\n",
       "    </tr>\n",
       "    <tr>\n",
       "      <th>28723</th>\n",
       "      <td>2024</td>\n",
       "      <td>Västerbotten</td>\n",
       "      <td>Girls</td>\n",
       "      <td>20-24</td>\n",
       "      <td>All medications</td>\n",
       "      <td>53.40</td>\n",
       "    </tr>\n",
       "    <tr>\n",
       "      <th>28724</th>\n",
       "      <td>2024</td>\n",
       "      <td>Västerbotten</td>\n",
       "      <td>Both genders</td>\n",
       "      <td>20-24</td>\n",
       "      <td>All medications</td>\n",
       "      <td>45.12</td>\n",
       "    </tr>\n",
       "    <tr>\n",
       "      <th>28725</th>\n",
       "      <td>2024</td>\n",
       "      <td>Norrbotten</td>\n",
       "      <td>Boys</td>\n",
       "      <td>20-24</td>\n",
       "      <td>All medications</td>\n",
       "      <td>35.94</td>\n",
       "    </tr>\n",
       "    <tr>\n",
       "      <th>28726</th>\n",
       "      <td>2024</td>\n",
       "      <td>Norrbotten</td>\n",
       "      <td>Girls</td>\n",
       "      <td>20-24</td>\n",
       "      <td>All medications</td>\n",
       "      <td>65.39</td>\n",
       "    </tr>\n",
       "    <tr>\n",
       "      <th>28727</th>\n",
       "      <td>2024</td>\n",
       "      <td>Norrbotten</td>\n",
       "      <td>Both genders</td>\n",
       "      <td>20-24</td>\n",
       "      <td>All medications</td>\n",
       "      <td>48.44</td>\n",
       "    </tr>\n",
       "  </tbody>\n",
       "</table>\n",
       "<p>28728 rows × 6 columns</p>\n",
       "</div>"
      ],
      "text/plain": [
       "       year        county        gender age_group medication_category  \\\n",
       "0      2006     Stockholm          Boys       5-9          Guanfacine   \n",
       "1      2006     Stockholm          Boys     10-14          Guanfacine   \n",
       "2      2006     Stockholm          Boys     15-19          Guanfacine   \n",
       "3      2006     Stockholm          Boys     20-24          Guanfacine   \n",
       "4      2006     Stockholm         Girls       5-9          Guanfacine   \n",
       "...     ...           ...           ...       ...                 ...   \n",
       "28723  2024  Västerbotten         Girls     20-24     All medications   \n",
       "28724  2024  Västerbotten  Both genders     20-24     All medications   \n",
       "28725  2024    Norrbotten          Boys     20-24     All medications   \n",
       "28726  2024    Norrbotten         Girls     20-24     All medications   \n",
       "28727  2024    Norrbotten  Both genders     20-24     All medications   \n",
       "\n",
       "       patients_per_1000  \n",
       "0                   0.00  \n",
       "1                   0.00  \n",
       "2                   0.00  \n",
       "3                   0.00  \n",
       "4                   0.00  \n",
       "...                  ...  \n",
       "28723              53.40  \n",
       "28724              45.12  \n",
       "28725              35.94  \n",
       "28726              65.39  \n",
       "28727              48.44  \n",
       "\n",
       "[28728 rows x 6 columns]"
      ]
     },
     "execution_count": 6,
     "metadata": {},
     "output_type": "execute_result"
    }
   ],
   "source": [
    "# Filter to include all counties\n",
    "df_regional = df[\n",
    "    (df['Region'] != 'Riket') &\n",
    "    (df['Ålder'].isin(['5-9', '10-14', '15-19', '20-24'])) &\n",
    "    (df['Kön'].isin(['Män', 'Kvinnor', 'Båda könen']))\n",
    "].copy()\n",
    "\n",
    "# Translate column names to English\n",
    "df_regional = df_regional.rename(columns={\n",
    "    'År': 'year',\n",
    "    'Kön': 'gender', \n",
    "    'Ålder': 'age_group',\n",
    "    'Läkemedel': 'medication',\n",
    "    'Patienter/1000 invånare': 'patients_per_1000',\n",
    "    'Region': 'county'\n",
    "})\n",
    "\n",
    "# Map ATC codes to individual ADHD medication names\n",
    "df_regional[\"medication_name\"] = df_regional[\"medication\"].map(med_name_map)\n",
    "\n",
    "# Map gender values to English\n",
    "df_regional['gender'] = df_regional['gender'].map(gender_map)\n",
    "\n",
    "# Individual medications for regional data\n",
    "df_individual_reg = (\n",
    "    df_regional\n",
    "    .dropna(subset=[\"medication_name\"]) # keep only the 5 ADHD meds\n",
    "    .copy()\n",
    ")\n",
    "df_individual_reg[\"medication_category\"] = df_individual_reg[\"medication_name\"]\n",
    "\n",
    "# Import the \"All ADHD medications\" regional data\n",
    "df_all_adhd_regional = import_adhd_excel(region_filter=\"regional\")\n",
    "df_all_adhd_regional[\"gender\"] = df_all_adhd_regional[\"gender\"].map(gender_map)\n",
    "df_all_adhd_regional[\"medication_category\"] = \"All medications\"\n",
    "\n",
    "df_all_adhd_regional_fixed = df_all_adhd_regional.copy()\n",
    "df_all_adhd_regional_fixed['county'] = df_all_adhd_regional_fixed['county'].map(county_map).fillna(df_all_adhd_regional_fixed['county'])\n",
    "\n",
    "# Columns to keep\n",
    "columns_keep = ['year', 'county', 'gender', 'age_group', 'medication_category','patients_per_1000']\n",
    "\n",
    "# Combine the DataFrames\n",
    "df_grouped_regional = pd.concat([\n",
    "    df_individual_reg[columns_keep],\n",
    "    df_all_adhd_regional_fixed[columns_keep],\n",
    "], ignore_index=True)\n",
    "\n",
    "df_grouped_regional\n"
   ]
  },
  {
   "cell_type": "code",
   "execution_count": 144,
   "id": "231e3968",
   "metadata": {},
   "outputs": [
    {
     "name": "stdout",
     "output_type": "stream",
     "text": [
      "County names in df_all_adhd_regional:\n",
      "['Blekinge län', 'Dalarnas län', 'Gotlands län', 'Gävleborgs län', 'Hallands län', 'Jämtlands län', 'Jönköpings län', 'Kalmar län', 'Kronobergs län', 'Norrbottens län', 'Skåne län', 'Stockholms län', 'Södermanlands län', 'Uppsala län', 'Värmlands län', 'Västerbottens län', 'Västernorrlands län', 'Västmanlands län', 'Västra Götalands län', 'Örebro län', 'Östergötlands län']\n",
      "\n",
      "County names in df_individual_reg:\n",
      "['Blekinge', 'Dalarna', 'Gotland', 'Gävleborg', 'Halland', 'Jämtland Härjedalen', 'Jönköping', 'Kalmar', 'Kronoberg', 'Norrbotten', 'Skåne', 'Stockholm', 'Södermanland', 'Uppsala', 'Värmland', 'Västerbotten', 'Västernorrland', 'Västmanland', 'Västra Götaland', 'Örebro', 'Östergötland']\n"
     ]
    }
   ],
   "source": [
    "print(\"County names in df_all_adhd_regional:\")\n",
    "print(sorted(df_all_adhd_regional['county'].unique()))\n",
    "print(\"\\nCounty names in df_individual_reg:\")\n",
    "print(sorted(df_individual_reg['county'].unique()))"
   ]
  },
  {
   "cell_type": "code",
   "execution_count": 7,
   "id": "5bd88a47",
   "metadata": {},
   "outputs": [],
   "source": [
    "import plotly.io as pio\n",
    "\n",
    "# Define colors and fonts from your theme\n",
    "BG_COLOR = '#FFFFFA'\n",
    "TEXT_COLOR = '#0D5C63'\n",
    "BAR_PALETTE = ['#72B0AB', '#BCDDDC', '#FFEDD1', '#FDC1B4', '#FE9179', '#F1606C']\n",
    "GRADIENT_COLORS = [\n",
    "    '#3B4D57', '#3C5A63', '#3D6670', '#3E7480', '#3F8290',\n",
    "    '#40869F', '#4191AE', '#429DBD', '#43A9CC', '#44B5DB'\n",
    "]\n",
    "\n",
    "# Create a custom Plotly template\n",
    "bengtegard_template = dict(\n",
    "    layout=dict(\n",
    "        font=dict(family='Monospace', color=TEXT_COLOR, size=12),\n",
    "        paper_bgcolor=BG_COLOR,   # background outside plot\n",
    "        plot_bgcolor=BG_COLOR,    # background inside plot\n",
    "        title=dict(\n",
    "            font=dict(family='Monospace', color=TEXT_COLOR, size=16),\n",
    "            x=0.5, xanchor='center'\n",
    "        ),\n",
    "        xaxis=dict(\n",
    "            title=dict(font=dict(family='Monospace', color=TEXT_COLOR, size=14)),\n",
    "            tickfont=dict(family='Monospace', color=TEXT_COLOR, size=10),\n",
    "            gridcolor='lightgray',\n",
    "            gridwidth=0.5,\n",
    "            zerolinecolor='lightgray',\n",
    "            zerolinewidth=0.5,\n",
    "        ),\n",
    "        yaxis=dict(\n",
    "            title=dict(font=dict(family='Monospace', color=TEXT_COLOR, size=14)),\n",
    "            tickfont=dict(family='Monospace', color=TEXT_COLOR, size=10),\n",
    "            gridcolor='lightgray',\n",
    "            gridwidth=0.5,\n",
    "            zerolinecolor='lightgray',\n",
    "            zerolinewidth=0.5,\n",
    "        ),\n",
    "        legend=dict(\n",
    "            font=dict(family='Monospace', color=TEXT_COLOR),\n",
    "            bgcolor=BG_COLOR,\n",
    "            bordercolor=BG_COLOR\n",
    "        )\n",
    "    )\n",
    ")\n",
    "\n",
    "# Register template\n",
    "pio.templates['bengtegard'] = bengtegard_template\n",
    "\n",
    "# Color mappings for the dashbord\n",
    "gender_colors = {\n",
    "    \"Boys\": \"#1B9E77\",\n",
    "    \"Young men\": \"#1B9E77\",\n",
    "    \"Girls\": \"#9467BD\",\n",
    "    \"Young women\": \"#9467BD\",\n",
    "    \"Both genders\": \"#4ADFB2\"\n",
    "}\n",
    "\n",
    "facet_colors = {\n",
    "        \"5-9\": \"#D36A3F\",    # Dark orange\n",
    "        \"10-14\": \"#1B9E77\",  # Dark green\n",
    "        \"15-19\": \"#5D69B1\",  # Dark teal\n",
    "        \"20-24\": \"#9467BD\"   # Dark indigo\n",
    "    }\n",
    "\n",
    "# Map Swedish ages to English\n",
    "facet_title_map = {\n",
    "    \"5-9\": \"5–9 years\",\n",
    "    \"10-14\": \"10–14 years\",\n",
    "    \"15-19\": \"15–19 years\",\n",
    "    \"20-24\": \"20–24 years\"\n",
    "}"
   ]
  },
  {
   "cell_type": "code",
   "execution_count": null,
   "id": "f02082ba",
   "metadata": {},
   "outputs": [
    {
     "data": {
      "application/vnd.plotly.v1+json": {
       "config": {
        "plotlyServerURL": "https://plot.ly"
       },
       "data": [
        {
         "hovertemplate": "Ålder=10-14<br>År=%{x}<br>Male_Female_Ratio=%{y}<extra></extra>",
         "legendgroup": "10-14",
         "line": {
          "color": "#1B9E77",
          "dash": "solid"
         },
         "marker": {
          "symbol": "circle"
         },
         "mode": "lines+markers",
         "name": "10-14",
         "orientation": "v",
         "showlegend": true,
         "type": "scatter",
         "x": {
          "bdata": "1gfXB9gH2QfaB9sH3AfdB94H3wfgB+EH4gfjB+QH5QfmB+cH6Ac=",
          "dtype": "i2"
         },
         "xaxis": "x",
         "y": {
          "bdata": "Nv9qk0LkEEAUgmslj6EQQC0tLS0tzRBAgS/YGS6sD0DhQH4D+Q0MQA9DJueG2gpABmr9SoHaCEDrzuK7C8YIQLJ/TBnmsgdA5ubm5ubmBkBAcMSXyWAFQBpYFo1zGwVAKDK1pNneBEDxS1b5pmAEQGMUzvUYhQNALGQhC1nIAkB8mlqKkcIBQHtyx4CL3gBAHLz40MGL/z8=",
          "dtype": "f8"
         },
         "yaxis": "y"
        },
        {
         "hovertemplate": "Ålder=15-19<br>År=%{x}<br>Male_Female_Ratio=%{y}<extra></extra>",
         "legendgroup": "15-19",
         "line": {
          "color": "#5D69B1",
          "dash": "solid"
         },
         "marker": {
          "symbol": "circle"
         },
         "mode": "lines+markers",
         "name": "15-19",
         "orientation": "v",
         "showlegend": true,
         "type": "scatter",
         "x": {
          "bdata": "1gfXB9gH2QfaB9sH3AfdB94H3wfgB+EH4gfjB+QH5QfmB+cH6Ac=",
          "dtype": "i2"
         },
         "xaxis": "x",
         "y": {
          "bdata": "pqwpa8qaBkCJoVtx+HcDQIN/5tGiEgFArPA/6Tpy/z+qlBMFmU39PwyubhNnWvs/6gJm8iPq+j/UegHbnK76P8G/OcMGxPk/G7Rt9EWT+D+fCsziThD3P1ifmXKGs/U/edGez6tl9T9gLUaF+170P3Cer4dEuvM/6BxO9J2J8j+ccPtTNT/xPyD4gR/4ge8/m2YU4yvx7T8=",
          "dtype": "f8"
         },
         "yaxis": "y"
        },
        {
         "hovertemplate": "Ålder=20-24<br>År=%{x}<br>Male_Female_Ratio=%{y}<extra></extra>",
         "legendgroup": "20-24",
         "line": {
          "color": "#9467BD",
          "dash": "solid"
         },
         "marker": {
          "symbol": "circle"
         },
         "mode": "lines+markers",
         "name": "20-24",
         "orientation": "v",
         "showlegend": true,
         "type": "scatter",
         "x": {
          "bdata": "1gfXB9gH2QfaB9sH3AfdB94H3wfgB+EH4gfjB+QH5QfmB+cH6Ac=",
          "dtype": "i2"
         },
         "xaxis": "x",
         "y": {
          "bdata": "uZEbuZEb+T+RvuapFNL3P1cEDSd1X/Y/MWDAgAED9j+iQoUKFSr0Px+QoxqcNvM/l5aWlpaW8j98Aot6gGnxP2AG/piN7O8/Vntx1pt37z8L8NV5WEbvPyrV8ZKyUu0/5q4l5IOe7T+DPCXIU4LsPw+YWIKjKOs/qJnnlHs76T/0u5BRMGLnP/Azo0m9nOU/30/0Bzfl5D8=",
          "dtype": "f8"
         },
         "yaxis": "y"
        },
        {
         "hovertemplate": "Ålder=5-9<br>År=%{x}<br>Male_Female_Ratio=%{y}<extra></extra>",
         "legendgroup": "5-9",
         "line": {
          "color": "#D36A3F",
          "dash": "solid"
         },
         "marker": {
          "symbol": "circle"
         },
         "mode": "lines+markers",
         "name": "5-9",
         "orientation": "v",
         "showlegend": true,
         "type": "scatter",
         "x": {
          "bdata": "1gfXB9gH2QfaB9sH3AfdB94H3wfgB+EH4gfjB+QH5QfmB+cH6Ac=",
          "dtype": "i2"
         },
         "xaxis": "x",
         "y": {
          "bdata": "lA/jfl1SEUAAAAAAAOAQQHgr+xxSExBArH3D2jesDUCMLrroogsNQIrZnw+nIQxAu4byGsprC0Bkz4FLcg0KQI1hxX9nQglAeBgUdXJ5CUASRUteVJwKQMSZ16l0WQtAuPlkZRqLDEDxZo2c/5oLQC666KKLrgxA+KPq+4LRC0Awd5tmC3MJQOeq6Z5c9ghAOcOCS2V7B0A=",
          "dtype": "f8"
         },
         "yaxis": "y"
        }
       ],
       "layout": {
        "height": 600,
        "legend": {
         "title": {
          "text": "Age Group"
         },
         "tracegroupgap": 0
        },
        "shapes": [
         {
          "line": {
           "color": "#0D5C63",
           "dash": "dot"
          },
          "type": "line",
          "x0": 0,
          "x1": 1,
          "xref": "x domain",
          "y0": 1,
          "y1": 1,
          "yref": "y"
         }
        ],
        "template": {
         "layout": {
          "font": {
           "color": "#0D5C63",
           "family": "Monospace",
           "size": 12
          },
          "legend": {
           "bgcolor": "#FFFFFA",
           "bordercolor": "#FFFFFA",
           "font": {
            "color": "#0D5C63",
            "family": "Monospace"
           }
          },
          "paper_bgcolor": "#FFFFFA",
          "plot_bgcolor": "#FFFFFA",
          "title": {
           "font": {
            "color": "#0D5C63",
            "family": "Monospace",
            "size": 16
           },
           "x": 0.5,
           "xanchor": "center"
          },
          "xaxis": {
           "gridcolor": "lightgray",
           "gridwidth": 0.5,
           "tickfont": {
            "color": "#0D5C63",
            "family": "Monospace",
            "size": 10
           },
           "title": {
            "font": {
             "color": "#0D5C63",
             "family": "Monospace",
             "size": 14
            }
           },
           "zerolinecolor": "lightgray",
           "zerolinewidth": 0.5
          },
          "yaxis": {
           "gridcolor": "lightgray",
           "gridwidth": 0.5,
           "tickfont": {
            "color": "#0D5C63",
            "family": "Monospace",
            "size": 10
           },
           "title": {
            "font": {
             "color": "#0D5C63",
             "family": "Monospace",
             "size": 14
            }
           },
           "zerolinecolor": "lightgray",
           "zerolinewidth": 0.5
          }
         }
        },
        "title": {
         "text": "Male-to-Female ADHD Prescription Ratio by Age Group"
        },
        "width": 900,
        "xaxis": {
         "anchor": "y",
         "domain": [
          0,
          1
         ],
         "title": {
          "text": "Year"
         }
        },
        "yaxis": {
         "anchor": "x",
         "domain": [
          0,
          1
         ],
         "title": {
          "text": "Male / Female Ratio"
         }
        }
       }
      }
     },
     "metadata": {},
     "output_type": "display_data"
    }
   ],
   "source": [
    "import pandas as pd\n",
    "import plotly.express as px\n",
    "\n",
    "def plot_gender_ratios(df):\n",
    "    \"\"\"\n",
    "    Calculate male/female prescription ratios and plot by age group.\n",
    "    \"\"\"\n",
    "    # Filter to include only male and female\n",
    "    gender_only = df[df['Kön'].isin(['Män', 'Kvinnor'])].copy()\n",
    "    \n",
    "    # Pivot so each row is Year x AgeGroup, with columns Män and Kvinnor\n",
    "    pivot = gender_only.pivot_table(\n",
    "        index=['År', 'Ålder'],\n",
    "        columns='Kön',\n",
    "        values='Patienter/1000 invånare',\n",
    "        fill_value=0\n",
    "    ).reset_index()\n",
    "    \n",
    "    # Calculate male/female ratio\n",
    "    pivot['Male_Female_Ratio'] = pivot['Män'] / pivot['Kvinnor'].replace(0, 0.001)\n",
    "    \n",
    "    # Make age group categorical for consistent ordering and color assignment\n",
    "    age_order = [\"5-9\", \"10-14\", \"15-19\", \"20-24\"]\n",
    "    pivot['Ålder'] = pd.Categorical(pivot['Ålder'], categories=age_order, ordered=True)\n",
    "\n",
    "    # Define age group color mapping with extended BAR_COLOR palette\n",
    "    BAR_COLOR = ['#D36A3F', '#1B9E77', '#5D69B1', '#9467BD']\n",
    "\n",
    "    color_map = {\n",
    "        \"5-9\": BAR_COLOR[0],   # burnt orange\n",
    "        \"10-14\": BAR_COLOR[1], # green\n",
    "        \"15-19\": BAR_COLOR[2], # indigo\n",
    "        \"20-24\": BAR_COLOR[3]  # purple\n",
    "    }\n",
    "    \n",
    "    # Create Plotly line plot\n",
    "    fig = px.line(\n",
    "        pivot,\n",
    "        x='År',\n",
    "        y='Male_Female_Ratio',\n",
    "        color='Ålder',\n",
    "        markers=True,\n",
    "        color_discrete_map=color_map,\n",
    "        title='Male-to-Female ADHD Prescription Ratio by Age Group'\n",
    "    )\n",
    "    \n",
    "    # Add horizontal line at ratio = 1\n",
    "    fig.add_hline(y=1, line_dash=\"dot\", line_color=\"#0D5C63\")\n",
    "    \n",
    "    # Update layout\n",
    "    fig.update_layout(\n",
    "        yaxis_title='Male / Female Ratio',\n",
    "        xaxis_title='Year',\n",
    "        legend_title_text='Age Group',\n",
    "        height=600,\n",
    "        width=900\n",
    "    )\n",
    "    \n",
    "    return fig\n",
    "\n",
    "gender_ratio = plot_gender_ratios(df_all_medications)\n",
    "gender_ratio.update_layout(template='bengtegard')\n"
   ]
  },
  {
   "cell_type": "code",
   "execution_count": 9,
   "id": "0b7e52a0",
   "metadata": {},
   "outputs": [
    {
     "data": {
      "application/vnd.plotly.v1+json": {
       "config": {
        "plotlyServerURL": "https://plot.ly"
       },
       "data": [
        {
         "legendgroup": "Atomoxetine",
         "line": {
          "color": "rgb(102,194,165)"
         },
         "mode": "lines+markers",
         "name": "Atomoxetine",
         "showlegend": true,
         "type": "scatter",
         "x": {
          "bdata": "1gfWB9YH1wfXB9cH2AfYB9gH2QfZB9kH2gfaB9oH2wfbB9sH3AfcB9wH3QfdB90H3gfeB94H3wffB98H4AfgB+AH4QfhB+EH4gfiB+IH4wfjB+MH5AfkB+QH5QflB+UH5gfmB+YH5wfnB+cH6AfoB+gH",
          "dtype": "i2"
         },
         "xaxis": "x",
         "y": {
          "bdata": "O7ETO7ETJ0DBrc9mfH8oQBaykIUsZCFA4uHh4eHhMUByHMdxHMcxQP//////vzJAwogr9CxVNEBvFLM/H040QFITjLeyzzNAXDoNdy+rNEBLS0tLS0s0QNFFF1100TVAxc8o8TNKNEAq6UYx+/MzQBhddNFFlzVADcE62rxPNUBoEBD1n1w1QA8kWmFzIDVA//////9oNEAeRa4IEUg0QNJZTGcxnTRAIVomiJYJNEAsnj1FAcozQHo7Q2LezjRA6OLxUqYmMkDjaS7AV+cxQNJ56gBi9jJAIG/PHIvhMEA15oU4ynMwQJB/VhlnQjJAlpaWlpaWLkBlzSSIy7EuQCidjAQfXy5AtagKJsG1K0AEoNNP/mkrQNAo8TNK/CxAXrLq/iaEKkC/pv1kCWwqQHB8/cFb1ypAukgJqrP7KED3Y4T04hApQAHKKG3d4ihAUrsStStRJkAxKiiL3y8mQLvooosuuiZAIGbkN9VJJ0C3rCRNbcsmQBGHTtoHyShAcIoyAk5RJkCurIj+XZIlQGLuNs0W5ihAqjx8IiuAJUB0kjy65MYkQCYhs4YDsSdA6aakOsQGJkCT6D2T6D0lQLHgUtnedShA",
          "dtype": "f8"
         },
         "yaxis": "y"
        },
        {
         "legendgroup": "Dextroamphetamine",
         "line": {
          "color": "rgb(252,141,98)"
         },
         "mode": "lines+markers",
         "name": "Dextroamphetamine",
         "showlegend": true,
         "type": "scatter",
         "x": {
          "bdata": "1gfWB9YH1wfXB9cH2AfYB9gH2QfZB9kH2gfaB9oH2wfbB9sH3AfcB9wH3QfdB90H3gfeB94H3wffB98H4AfgB+AH4QfhB+EH4gfiB+IH4wfjB+MH5AfkB+QH5QflB+UH5gfmB+YH5wfnB+cH6AfoB+gH",
          "dtype": "i2"
         },
         "xaxis": "x",
         "y": {
          "bdata": "NEiDNEiD5D8ncxBw67PZP7zpTW960+s/Hx4eHh4ezj9oL6G9hPbCPwAAAAAAAOQ/TODefe6oxz/WFrnOBAzOPwAAAAAAAAAAKXMMcPBzwz8ZGRkZGRnJPwAAAAAAAAAAmjwB0fnqzj/WFrnOBAzOPwAAAAAAAAAA/BSXDME6yj9IrXmMWaLJPwAAAAAAAAAAAAAAAAAAyT/heDqBcZHIPwAAAAAAAAAAgFHhX1T4xz80v8FVQ9LHPwAAAAAAAAAAegPQ5pu2tT8xfpL2LAK9PwAAAAAAAAAADoKuNEDe3j8Ogq40QN7eP5UeWRLP19U/paWlpaWl8T/wOjLEQhXvP1UW3nVpQ/c/eQq33L+s9D+bEYo1TJjzP4GyKy7Qw/k/HfA7km9P9D8RPb4LB9HzPzefrExjkfc/Rhnd2lcx8T/k92OE9OLwPyaqzuRhbPM/itqVqF2J8j+P7uwI5r/xP3TRRRdddPQ/fITAMzeQ9T9MYNN+sgT2P1uCb/NXmPU/2eGm+XNq+D8M4aO8bG/4P6qEgJyfSvg/7gObBJHD9T9jbc4iE4v3P36lQK1fKfA/oZ+r9ho58z/wfGCZJwv0PxXpz1ja5/E/",
          "dtype": "f8"
         },
         "yaxis": "y"
        },
        {
         "legendgroup": "Guanfacine",
         "line": {
          "color": "rgb(141,160,203)"
         },
         "mode": "lines+markers",
         "name": "Guanfacine",
         "showlegend": true,
         "type": "scatter",
         "x": {
          "bdata": "1gfWB9YH1wfXB9cH2AfYB9gH2QfZB9kH2gfaB9oH2wfbB9sH3AfcB9wH3QfdB90H3gfeB94H3wffB98H4AfgB+AH4QfhB+EH4gfiB+IH4wfjB+MH5AfkB+QH5QflB+UH5gfmB+YH5wfnB+cH6AfoB+gH",
          "dtype": "i2"
         },
         "xaxis": "x",
         "y": {
          "bdata": "AAAAAAAAAAAAAAAAAAAAAAAAAAAAAAAAAAAAAAAAAAAAAAAAAAAAAAAAAAAAAAAAAAAAAAAAAAAAAAAAAAAAAAAAAAAAAAAAAAAAAAAAAAAAAAAAAAAAAAAAAAAAAAAAAAAAAAAAAAAAAAAAAAAAAAAAAAAAAAAAAAAAAAAAAAAAAAAAAAAAAAAAAAAAAAAAAAAAAAAAAAAAAAAAAAAAAAAAAAAAAAAAgFHhX1T4xz+cqVdyBMPPPzFvZ0jM28k/CwP2acj/4j+k3u24ocHlP/x3JhRsLOE/yNszx2K48D+JdhB0pQHyPzpm79bCTes/Hh4eHh4eE0BM95F+0gkTQJwSOeLXYhNA/e2Bjd4VIUAOPGpNuoUhQJk8AdH56h5AOtNLVt3fJEBbnZGKudUlQMXkCmJyBSFAW46EbRNfJ0Avn427L+wnQBkKQhKLPiVA+hicj8H5KUDExH0GkIsqQF100UUX3SdAohJHw0cILEAMB9Hju3AsQIhO2gfJgCpA1iBjFKlHLUBP2czrR4suQGLuNs0W5ihAzmht/sGXL0DcLqN34mswQB675HNTXStA8BWqxXjmMEDn5ubm5mYxQILYCvn12i5A",
          "dtype": "f8"
         },
         "yaxis": "y"
        },
        {
         "legendgroup": "Lisdexamfetamine",
         "line": {
          "color": "rgb(231,138,195)"
         },
         "mode": "lines+markers",
         "name": "Lisdexamfetamine",
         "showlegend": true,
         "type": "scatter",
         "x": {
          "bdata": "1gfWB9YH1wfXB9cH2AfYB9gH2QfZB9kH2gfaB9oH2wfbB9sH3AfcB9wH3QfdB90H3gfeB94H3wffB98H4AfgB+AH4QfhB+EH4gfiB+IH4wfjB+MH5AfkB+QH5QflB+UH5gfmB+YH5wfnB+cH6AfoB+gH",
          "dtype": "i2"
         },
         "xaxis": "x",
         "y": {
          "bdata": "AAAAAAAAAAAAAAAAAAAAAAAAAAAAAAAAAAAAAAAAAAAAAAAAAAAAAAAAAAAAAAAAAAAAAAAAAAAAAAAAAAAAAAAAAAAAAAAAAAAAAAAAAAAAAAAAAAAAAAAAAAAAAAAAAAAAAAAAAAAAAAAAAAAAAAAAAAAAAAAAAAAAAAAAAAAAAAAAAAAAAAAAAAAAAAAAAAAAAAAAAAAAAAAAAAAAAAAAAAAAAAAAgFHhX1T4tz+cqVdyBMO/PzFvZ0jM28k/oqLpJGJ0IEARy+gfVAwfQPxGq5b5USNAtIOgKw2QKUBHeU66pdQpQGZCpPTIkihAPDw8PDz8MEA7eEuDoP8wQCEQy38hzTBAKykg4ScXMkBH1s3fQPIxQExoL6G9hDJAjT8Qt0HCMkCn/WQJbNoyQLeu1ZaIfjJAxGojkk6HMUA5IugJFJcxQIoPyC+HTDFAr0TtStSuMUD1fJR+eKExQLrooosuCjJAnv51FypxMEDJaNxcjowwQB4vtgTf5i9AH9F/OXlPMUArBxjfy38xQDVbmLtNszBAKpQ/pghVMUDu5W5ggGQxQNavFKj1KzFAEwuUXLnwMEA/zbDpd9swQBvq2HQ3GzFA",
          "dtype": "f8"
         },
         "yaxis": "y"
        },
        {
         "legendgroup": "Methylphenidate",
         "line": {
          "color": "rgb(166,216,84)"
         },
         "mode": "lines+markers",
         "name": "Methylphenidate",
         "showlegend": true,
         "type": "scatter",
         "x": {
          "bdata": "1gfWB9YH1wfXB9cH2AfYB9gH2QfZB9kH2gfaB9oH2wfbB9sH3AfcB9wH3QfdB90H3gfeB94H3wffB98H4AfgB+AH4QfhB+EH4gfiB+IH4wfjB+MH5AfkB+QH5QflB+UH5gfmB+YH5wfnB+cH6AfoB+gH",
          "dtype": "i2"
         },
         "xaxis": "x",
         "y": {
          "bdata": "SIM0SIP0VUDV+bWHXNZVQOlNb3rTm1ZAeXh4eHh4VEBMaC+hvYRUQAAAAAAAKFRAXy62S+DeU0BZ3qstct1TQCv7HFITDFRAMKsEKnrLU0CgoKCgoOBTQIsuuuiii1NAcUvNhv3dU0Aq6UYx+/NTQLvooosumlNAMgTraPOeU0APv/XVBpxTQP12qSfjt1NAAQAAAEDZU0B80RMFs+FTQIvpLKaz2FNA0o9+9KPfU0DW9a9JxOlTQLLJJptsslNA67LY7lw8UkB6WEb/oGJSQLyrx3TPtVFA0JUGyNszUUDuxo/kk0FRQOSfVcaZEFFASktLS0vrTkC0CG6BLfZOQKA9ATcx205Aag2nIx4cTUBLTR0HLy5NQH982uYQ00xAU1+YkmIjTEA+vgsH0eNLQF6rLRH9DE1ADuwzMhycTEBaTuSqGW5MQOTNGjn/NU1AwvkYnI+BTEBU3gSsaHJMQNFFF110sUxAXB7c+2FGTECpw13xiDpMQMDCrEYRh0xAkHXN/bGuS0Dje/kvNXVLQBFXtL74cExAb/SA3GNhS0CRXVHMvClLQNer5W8kJUxAyGiCCO34SkDhpxk2/e5KQF6dNT7wDktA",
          "dtype": "f8"
         },
         "yaxis": "y"
        },
        {
         "legendgroup": "Atomoxetine",
         "line": {
          "color": "rgb(102,194,165)"
         },
         "mode": "lines+markers",
         "name": "Atomoxetine",
         "showlegend": false,
         "type": "scatter",
         "x": {
          "bdata": "1gfWB9YH1wfXB9cH2AfYB9gH2QfZB9kH2gfaB9oH2wfbB9sH3AfcB9wH3QfdB90H3gfeB94H3wffB98H4AfgB+AH4QfhB+EH4gfiB+IH4wfjB+MH5AfkB+QH5QflB+UH5gfmB+YH5wfnB+cH6AfoB+gH",
          "dtype": "i2"
         },
         "xaxis": "x2",
         "y": {
          "bdata": "OvsnUVicJkC66KKLLromQIOeaNT8qyVATMxDjenqMEDbtm3btiExQPFn/071jS9AID6akBe2NEBgLbdxDag0QLS0tLS09DRAfQzOx+B8NEDfNlvx+Hc0QEH+SHurmTRArzTXYf1HNEDEO8Q7xDs0QO0ltJfQXjRAUxXtAwTnM0AUvLNpZdozQGE6DJmcGzRACB988MEHM0BIsoWmdyQzQLZ+pUCtnzJAAZ9fhZzIMkBe70nwDKoyQHFcgoU3LDNAqZ88Xq7PMEAjs+2NUr4wQAkJCQkJCTFAVUSW+NRDL0C6t4W9C50uQCYE+Z/XlDBA7ZQMoyG5K0B7coWYrhgrQNeNDS2kdC1AcBYruiEHKECeKQo7JqEnQEl3PJ/CJilAaEcC7UigJkDWLqhEX20mQAUNJ3VfHidA786JdNAnJUB9MlpWJA0lQO5fYdfRYiVAvflIO2zYI0AA22SJuJsjQJ30sQUnfSRA1wPk0DnzIkDFISHjZI8iQP/whz/84SNAyckRYO7uIUAaB86M1LghQGzIc/kidyJApqWlpaWlIUDrS8lGbXQhQJQP5mLhHSJAHMWwOeWzIUDTSDpVjWUhQGpw5aMGVyJA",
          "dtype": "f8"
         },
         "yaxis": "y2"
        },
        {
         "legendgroup": "Dextroamphetamine",
         "line": {
          "color": "rgb(252,141,98)"
         },
         "mode": "lines+markers",
         "name": "Dextroamphetamine",
         "showlegend": false,
         "type": "scatter",
         "x": {
          "bdata": "1gfWB9YH1wfXB9cH2AfYB9gH2QfZB9kH2gfaB9oH2wfbB9sH3AfcB9wH3QfdB90H3gfeB94H3wffB98H4AfgB+AH4QfhB+EH4gfiB+IH4wfjB+MH5AfkB+QH5QflB+UH5gfmB+YH5wfnB+cH6AfoB+gH",
          "dtype": "i2"
         },
         "xaxis": "x2",
         "y": {
          "bdata": "TIDtejrW7T+A/vnnn3/uP4C1SSFy0OM/aBS2VZYB4T+3bdu2bdvhP7ZD0sLIss0/i2dWRifa0T+UsSsiK5vTP4eHh4eHh9c/0BQCTSHQxD84NIj0wg3GPxxwS0hldsE/24S69n5cwD8UxvB8XljFPzmP4TyG87g/eN3WONfEyj/zwZ+tsXDKP74gBZv/uMM/RhdddNFFxz8uoMEmzwLKP3+lQK1fKcA/k81WpagcyD+Rl+wAw7nLP5Or5ReNnrw/ty/do2YCuD+llC/Cj3e8PxgYGBgYGKg/kTb9UVEd0j9ksrLUIxvSP320cVupGNM/wRxQKKdR6j/mLOmAGcrqP6bhClNRDuk/qEPKzCn07j8oCEYNwIrvP61gBLC6x+4/rA2OtcGx8j8M6MxfzIDyP355bEXQcPI/Xn50cTXU8z+jYVK+K3z0P7EDSg5WkPI/Y+HRUTI29j+DF4RefA33P2IZT3NYxvM/V88YEDJO9z9LHW9vjk34P1KNalSjGvU/+tKcNBvA+T+Pwdal24b6P0XSAvNTn/c/cWVr6CmJ+T+wHY4nTHD7PwDqb4N2e/U/MMMyJzPE9z8JrcW/+AL5P6C6VxGqe/U/",
          "dtype": "f8"
         },
         "yaxis": "y2"
        },
        {
         "legendgroup": "Guanfacine",
         "line": {
          "color": "rgb(141,160,203)"
         },
         "mode": "lines+markers",
         "name": "Guanfacine",
         "showlegend": false,
         "type": "scatter",
         "x": {
          "bdata": "1gfWB9YH1wfXB9cH2AfYB9gH2QfZB9kH2gfaB9oH2wfbB9sH3AfcB9wH3QfdB90H3gfeB94H3wffB98H4AfgB+AH4QfhB+EH4gfiB+IH4wfjB+MH5AfkB+QH5QflB+UH5gfmB+YH5wfnB+cH6AfoB+gH",
          "dtype": "i2"
         },
         "xaxis": "x2",
         "y": {
          "bdata": "AAAAAAAAAAAAAAAAAAAAAAAAAAAAAAAAAAAAAAAAAAAAAAAAAAAAAAAAAAAAAAAAAAAAAAAAAAAAAAAAAAAAAAAAAAAAAAAAAAAAAAAAAAAAAAAAAAAAAAAAAAAAAAAAAAAAAAAAAAAAAAAAAAAAAAAAAAAAAAAAAAAAAAAAAAAAAAAAAAAAAAAAAAAAAAAAAAAAAAAAAAAAAAAAAAAAAAAAAAAAAAAAjQA+vwo50T+yQFLLlKPTP61A7NHpdsU/TPrGxblB4T/mvF3ZucrhPx8eHh4eHt4/78lp9mtf8D9ksrLUIxvyPyGFprEK0+U/PvYtSSdbCUAGjFDPrOYKQCcawyqgLQVAD/+Cm3zsGUAkY0qUGWIbQI4CPIL08RVA90vcfolbIECCjPjNHUghQD22Img4qRtACG14GYanI0Bvn2f4QmkkQCTMrf9zjyFAVSsFgApUJUDH9o97EFUmQKvsqokquyJA2/JV3AiYJ0BebnzQqQIpQAIKUIACFCRAxC5CuMmLKUA+IicId2MrQLuP1K/RNSVAsOvNXBU5K0AKGYD+FkotQMPXnoPEoCZA2SqXxDReK0DY2f5gMNctQHJyYyMnNyZA",
          "dtype": "f8"
         },
         "yaxis": "y2"
        },
        {
         "legendgroup": "Lisdexamfetamine",
         "line": {
          "color": "rgb(231,138,195)"
         },
         "mode": "lines+markers",
         "name": "Lisdexamfetamine",
         "showlegend": false,
         "type": "scatter",
         "x": {
          "bdata": "1gfWB9YH1wfXB9cH2AfYB9gH2QfZB9kH2gfaB9oH2wfbB9sH3AfcB9wH3QfdB90H3gfeB94H3wffB98H4AfgB+AH4QfhB+EH4gfiB+IH4wfjB+MH5AfkB+QH5QflB+UH5gfmB+YH5wfnB+cH6AfoB+gH",
          "dtype": "i2"
         },
         "xaxis": "x2",
         "y": {
          "bdata": "AAAAAAAAAAAAAAAAAAAAAAAAAAAAAAAAAAAAAAAAAAAAAAAAAAAAAAAAAAAAAAAAAAAAAAAAAAAAAAAAAAAAAAAAAAAAAAAAAAAAAAAAAAAAAAAAAAAAAAAAAAAAAAAAAAAAAAAAAAAAAAAAAAAAAAAAAAAAAAAAAAAAAAAAAAAAAAAAAAAAAAAAAAAAAAAAAAAAAAAAAAAAAAAAAAAAAAAAAAAAAAAAEGdKstmqxD+scbFAUsvEP5Or5ReNnrw/J5K1F+1CHUAayan3OhodQL69vb29vR1ASgTjhxpkLEDkCy4Ord8rQIhQk6lb7C1AvuxuEMCEM0B6ddnI9xkzQHQ1CHn+pzRAOEcCcqIwNkBcaVRdlsc1QJ6lWGyETDdA0iw1mqXGN0CijnTFLWo3QNV9eWxF0DhAzxUYBU7uN0DL3xkxHqY3QDX2UZe3rThA/B/4APjBN0BpmaFeV3I3QBtTctbGlDhAOBgow6dgN0DliInHRRs3QIEEJCABCThAQmtwyk2hN0DRSkQYL0k3QOL1zUvwbjhAKU07xP/hN0Cz/c3+vFg3QErVAQx1CzlAqFEtJJcxOEBGN5FbbZg3QCT1tkJSbzlA",
          "dtype": "f8"
         },
         "yaxis": "y2"
        },
        {
         "legendgroup": "Methylphenidate",
         "line": {
          "color": "rgb(166,216,84)"
         },
         "mode": "lines+markers",
         "name": "Methylphenidate",
         "showlegend": false,
         "type": "scatter",
         "x": {
          "bdata": "1gfWB9YH1wfXB9cH2AfYB9gH2QfZB9kH2gfaB9oH2wfbB9sH3AfcB9wH3QfdB90H3gfeB94H3wffB98H4AfgB+AH4QfhB+EH4gfiB+IH4wfjB+MH5AfkB+QH5QflB+UH5gfmB+YH5wfnB+cH6AfoB+gH",
          "dtype": "i2"
         },
         "xaxis": "x2",
         "y": {
          "bdata": "mCXlgMjwVUDsrrvuuutVQMVYMIHfIlZAxKADcEKjVEBt27Zt25NUQN+pvvFn/1RAEBqT9J/AU0D2CHB4YcJTQEtLS0tLq1NA1/tlvV/WU0Au7i7i+tZTQLiaie7Z0FNAktUOaNLlU0CseNDBYuZTQCG+g/gO4lNAPE9ok9z4U0AaQbxMLvxTQNdu71k871NAsskmm2wyVECfMsuu4ClUQAAAAAAAUFRApgm9EjwmVEDkYoGklilUQO5/KmPnG1RAsvnAiWHPUkBGr2ZVFNRSQMHAwMDAwFJAjTLFDmc3UUARCmIz4VVRQCeWEOR/3lBAjkTRfV5QT0AvO3lCRZNPQKgkQHDEl05A143QHYYsTUBm3NQPfUlNQIr9/Kav1kxAUlRBiirIS0CYIp91g8lLQEHDSd2Xx0tAJ8JnrmE2S0CTCNC1dStLQMTpIA4QWEtAstchvjQiS0Ac3n0sNhJLQFclVW1VSUtAvK+c4mnySkCZXtj7bMtKQJaqVKUqVUtApuUNO6qCSkA22nGxHkBKQHHYLhBQIEtA6xkCDggLSkD+NgoOfshJQDRcQkzAnkpAF8UdVYzkSUBK7qoegpxJQOKORxzueEpA",
          "dtype": "f8"
         },
         "yaxis": "y2"
        },
        {
         "legendgroup": "Atomoxetine",
         "line": {
          "color": "rgb(102,194,165)"
         },
         "mode": "lines+markers",
         "name": "Atomoxetine",
         "showlegend": false,
         "type": "scatter",
         "x": {
          "bdata": "1gfWB9YH1wfXB9cH2AfYB9gH2QfZB9kH2gfaB9oH2wfbB9sH3AfcB9wH3QfdB90H3gfeB94H3wffB98H4AfgB+AH4QfhB+EH4gfiB+IH4wfjB+MH5AfkB+QH5QflB+UH5gfmB+YH5wfnB+cH6AfoB+gH",
          "dtype": "i2"
         },
         "xaxis": "x3",
         "y": {
          "bdata": "27JqXr4wI0CDp1vzwyIjQHJH3BF3xCNAljjwYfgLMEBNjZhiXDwvQNpXLTBj+TBAE/wkezTOMkAQlfWbSl8yQOfzijmwyzNAAAAAAAAwM0BMohxht4MzQLlsYhmubTJA1DRN0zSNMkAd4QvU1egyQKIgs6nW2DFA3naAEzNhMkDks24wRT4yQPRRkeyYpTJAwBadM/5rMUDjHdWsP4MxQERdwEx+RDFAakEoQHbcMECyJFuO9sIwQIGHDUDjFzFAped0aNfCLkBYCNEh/DUvQLfrsyICCC5A0gHhDgPMK0CXeM/fsYwsQPfDMFmTeSpAxJbd7LO2KEDIKPmBWkgpQKG9hPYS2idARIkx+Sl9JkDpt8+PuScnQKhTwvG8gSVAJ8ovHwGvJEASIFoTkyolQHBuexGb+CNA2l6m1wDKIkCGqfG0P1QjQKNyPPNCBiJA3gz0wQIiIkBH52nZS3IiQB7zXbLnviFAT0AlKn4gIUCGcKflPWIhQC6Ytot5xyBAMgJVGUgIIEAQmfeCD5ggQERNRjHfxh5AAJ1j/dEGIEBgqKZjLlEgQALwaIYXbh9AUAgfXcJLH0BW3scCJWAfQInVNQmIOh9A",
          "dtype": "f8"
         },
         "yaxis": "y3"
        },
        {
         "legendgroup": "Dextroamphetamine",
         "line": {
          "color": "rgb(252,141,98)"
         },
         "mode": "lines+markers",
         "name": "Dextroamphetamine",
         "showlegend": false,
         "type": "scatter",
         "x": {
          "bdata": "1gfWB9YH1wfXB9cH2AfYB9gH2QfZB9kH2gfaB9oH2wfbB9sH3AfcB9wH3QfdB90H3gfeB94H3wffB98H4AfgB+AH4QfhB+EH4gfiB+IH4wfjB+MH5AfkB+QH5QflB+UH5gfmB+YH5wfnB+cH6AfoB+gH",
          "dtype": "i2"
         },
         "xaxis": "x3",
         "y": {
          "bdata": "gFydkqbK8D8U2ktoL6HtP6esKWvKmvI/hS5JH2Fn5D8BO7BssNXlP3/3Zj1RtuE/A15voz8U4j9G0YbwshDlP8THkwTuWOA/AAAAAAAA4D/F0x5XAcHgP94ZZJY8790/WZZlWZZl2T/Ish2SFkbWP5ZyoiCzqdY/NHs28Gg31z9QrI1CBsXaPxCj8b5CH9U/pYsxB1C62D/C6ASWlUTZP1JbfAARU9s/8lk3mCKf1T9+PqpuYpnUP/f3EdG5I9U/xuIlSs/pwD/Y8h0yvaC7P1gzqyzSPsY/D/pkS/4c0z/16Mb+KFrNP9u7BO99TNo/aP6OZK2l6z+4cnzDfaroP9Ot+WGRMvA/bOdsYC3o8j99MFsCd5HxP+I7Pj9kBvU/dIyWvYe39j8Ty21CXzr1P5zMAuXwwfg/F9p9FqsP+j/3flw99h34PzQvZKAqmfw/V/i9mM2u/T9i9Va5eqT7P7nJF08bGgBAjC3ju+6sAEBK5inYZlj/PwRhUkAbCwJAPL4JCI0HA0D0KNsWf+kCQJs3lW7LMgNAn6Abm7JQA0C0e9j6NuACQAVvOIUQ0wNAiX/5pAVPAkDYvwS17K8BQNIRa20I/wJA",
          "dtype": "f8"
         },
         "yaxis": "y3"
        },
        {
         "legendgroup": "Guanfacine",
         "line": {
          "color": "rgb(141,160,203)"
         },
         "mode": "lines+markers",
         "name": "Guanfacine",
         "showlegend": false,
         "type": "scatter",
         "x": {
          "bdata": "1gfWB9YH1wfXB9cH2AfYB9gH2QfZB9kH2gfaB9oH2wfbB9sH3AfcB9wH3QfdB90H3gfeB94H3wffB98H4AfgB+AH4QfhB+EH4gfiB+IH4wfjB+MH5AfkB+QH5QflB+UH5gfmB+YH5wfnB+cH6AfoB+gH",
          "dtype": "i2"
         },
         "xaxis": "x3",
         "y": {
          "bdata": "AAAAAAAAAAAAAAAAAAAAAAAAAAAAAAAAAAAAAAAAAAAAAAAAAAAAAAAAAAAAAAAAAAAAAAAAAAAAAAAAAAAAAAAAAAAAAAAAAAAAAAAAAAAAAAAAAAAAAAAAAAAAAAAAAAAAAAAAAAAAAAAAAAAAAAAAAAAAAAAAAAAAAAAAAAAAAAAAAAAAAAAAAAAAAAAAAAAAAAAAAAAAAAAAAAAAAAAAAAAAAAAAq5D2SFSWtz85mxk05rC/P/f3EdG5I6U/hnYtjMVL1D9HwuT0MBrWP89HzcFWBdQ/cI6KzGro4D8pwCgv/C3kP0plhIKZa9g/z9GhFsiu+j/ObYTWvoD8P+rW/LBIGfg/cCWZz3+WCkCEqlOYi/8KQKgWInBI7glAv1mwdlPcEkDvGjNRnD0UQJnJWWSswBBAaouXJxYnGED4h2oA200aQJGO0DKLEhVArPKw2+qlG0CohNk27y0fQIBD1m0tAxdAy/uMSRmyHkBUF6GtonshQF5jEszDdBlAOwriIPt7IEChqMIDwAwjQAkfL5yDHRtA/PEdvFOxIEBB8udVFscjQMyWWxuh7RpAPgo612/IIEDdQLxKgT4kQNVfGe8IshpA",
          "dtype": "f8"
         },
         "yaxis": "y3"
        },
        {
         "legendgroup": "Lisdexamfetamine",
         "line": {
          "color": "rgb(231,138,195)"
         },
         "mode": "lines+markers",
         "name": "Lisdexamfetamine",
         "showlegend": false,
         "type": "scatter",
         "x": {
          "bdata": "1gfWB9YH1wfXB9cH2AfYB9gH2QfZB9kH2gfaB9oH2wfbB9sH3AfcB9wH3QfdB90H3gfeB94H3wffB98H4AfgB+AH4QfhB+EH4gfiB+IH4wfjB+MH5AfkB+QH5QflB+UH5gfmB+YH5wfnB+cH6AfoB+gH",
          "dtype": "i2"
         },
         "xaxis": "x3",
         "y": {
          "bdata": "AAAAAAAAAAAAAAAAAAAAAAAAAAAAAAAAAAAAAAAAAAAAAAAAAAAAAAAAAAAAAAAAAAAAAAAAAAAAAAAAAAAAAAAAAAAAAAAAAAAAAAAAAAAAAAAAAAAAAAAAAAAAAAAAAAAAAAAAAAAAAAAAAAAAAAAAAAAAAAAAAAAAAAAAAAAAAAAAAAAAAAAAAAAAAAAAAAAAAAAAAAAAAAAAAAAAAAAAAAAAAAAAgOy4Nr+w0T85mxk05rDPP/i475ZCf9I/1Djvtl45HEB2i8RTNFUaQDPA0I5XSB9AitIErnFzLUDDXt/KHQ8rQJQBpdRuszBA5KdAByNHNUAIy0NNmfQzQJsfFikDTzdA2RqFIOLiOUApx44ifFU4QGqzQH0pKjxA06dE1pHePEBxwVcB1y47QDAHCBhXYT9Avi0/LoWNPkAQS8Cr/Cc9QKbHBdjpQ0BAebTq3DKsP0Crnmy3+1w+QOR6dYivtEBAa6NKgStAQED6LjgWRB8/QGSK3fhhGEFA4LirrRWlQEA5Cw061JQ/QICOf70In0FAdTbkupESQUC9yuKMdhdAQFUtmWlRGEJAYU5JAiDAQUCuZXTCdqJAQEzU8tFX20JA",
          "dtype": "f8"
         },
         "yaxis": "y3"
        },
        {
         "legendgroup": "Methylphenidate",
         "line": {
          "color": "rgb(166,216,84)"
         },
         "mode": "lines+markers",
         "name": "Methylphenidate",
         "showlegend": false,
         "type": "scatter",
         "x": {
          "bdata": "1gfWB9YH1wfXB9cH2AfYB9gH2QfZB9kH2gfaB9oH2wfbB9sH3AfcB9wH3QfdB90H3gfeB94H3wffB98H4AfgB+AH4QfhB+EH4gfiB+IH4wfjB+MH5AfkB+QH5QflB+UH5gfmB+YH5wfnB+cH6AfoB+gH",
          "dtype": "i2"
         },
         "xaxis": "x3",
         "y": {
          "bdata": "MzTomb1WVkBc88MiZWBWQF/QF/QFPVZAfV9FJTPUVEDgjdMSyexUQBrceZE6nlRAP+LvYUooVEAYjSHzCz5UQHcblBVi7FNAAAAAAAAUVEDFmQolkP1TQLgAET2lRlRANU3TNE1DVEAG6mp0hC9UQGWVcqIgc1RAzasv0ntQVEBbxaGtqVVUQOG5HIJ6QVRAxIgRI0aMVECeszR/64VUQFNsz1uNk1RAusEU+aybVEBheVNN5KJUQDB6Wry/j1RAFi9Rek5HU0D+KUjW6lZTQKRT5IJVK1NAXst+lCOjUUAgcMz9fNVRQPsdP8g5UVFA1vvgirTqT0CJ3Y5ldjZQQKUMPN2aH09AsBZ0CZsuTUBGmiwZz85NQBn+8ltkQ0xA8vlOILBTS0CNxUM2aexLQDXR6ZsIc0pALPFPFV0xSkAiO+uqRoxKQGfoza9qs0lAdJTRGDI/SUCaTklxDXJJQEjDRiiP+UhAMDo836KWSEBZd1CZIr5IQBVdrXZ1ZkhAIehFs2AJSEBoN90Pyh1IQHxw6DE+8UdAwqsJrVmKR0DgBgzVdLRHQOK62nkGX0dADbb0YVv/RkBSQjN/5UZHQOqTLIglt0ZA",
          "dtype": "f8"
         },
         "yaxis": "y3"
        },
        {
         "legendgroup": "Atomoxetine",
         "line": {
          "color": "rgb(102,194,165)"
         },
         "mode": "lines+markers",
         "name": "Atomoxetine",
         "showlegend": false,
         "type": "scatter",
         "x": {
          "bdata": "1gfWB9YH1wfXB9cH2AfYB9gH2QfZB9kH2gfaB9oH2wfbB9sH3AfcB9wH3QfdB90H3gfeB94H3wffB98H4AfgB+AH4QfhB+EH4gfiB+IH4wfjB+MH5AfkB+QH5QflB+UH5gfmB+YH5wfnB+cH6AfoB+gH",
          "dtype": "i2"
         },
         "xaxis": "x4",
         "y": {
          "bdata": "HaXbV1bvIkCWlpaWlpYkQFHsxE7sxB5A2xcK0/aFKkA85LJioIQtQGDzVArpayZA6cNpCJV0L0BddNFFF10wQMX4lGnnYC1AKUGFo1vmLEAQZ1s743AuQJMjR44cOSpAARpELEMFLUAuZCELWcgtQIIDBw4cOCxAsuubySrlLECoBrExkPstQDNEAL/zrStAZNz5yVfRK0DhHiJzXCUsQAtVoOs2gitAAlPvjqTGLECcWhMOUJcsQNCu53YrBS1A4CD07nfGLEDRmS7upPUrQGRtcKwNji1APoWQFgzrKUC8GfFmxJspQHORXt0BOSpAHC4DPjlcJkDdUrNhfxcnQLwzztnJnyVAQvqap1JII0Db1KY2takjQGOvecQ59iJAupk/GZH6IEDMlV8QvqEhQGZmZmZmZiBAjToX0DInH0Bghc5ghc4gQPGslTjE8hxAXkvs4T3KHkDE3wHxd0AgQOXimWvNEx1A4IYlC4JCHUCye7WuG8EfQN+FpXV0GRtASWJw+tkTG0Bg6wrN7VQeQD344IMPPhhAEVLc1zJZGUD+XQFsVA0dQNO/vaJDbxZAWQBFqhLoGUDMRWsOqBAcQBw0p2rXaRhA",
          "dtype": "f8"
         },
         "yaxis": "y4"
        },
        {
         "legendgroup": "Dextroamphetamine",
         "line": {
          "color": "rgb(252,141,98)"
         },
         "mode": "lines+markers",
         "name": "Dextroamphetamine",
         "showlegend": false,
         "type": "scatter",
         "x": {
          "bdata": "1gfWB9YH1wfXB9cH2AfYB9gH2QfZB9kH2gfaB9oH2wfbB9sH3AfcB9wH3QfdB90H3gfeB94H3wffB98H4AfgB+AH4QfhB+EH4gfiB+IH4wfjB+MH5AfkB+QH5QflB+UH5gfmB+YH5wfnB+cH6AfoB+gH",
          "dtype": "i2"
         },
         "xaxis": "x4",
         "y": {
          "bdata": "q3fJgwFnDECHh4eHh4cHQFHsxE7sxA5Am8FbxGbwBkCKgRLeaOr8PyYB4US8JBBA2BxItMLmAEB/pUCtXykAQANeb6M/FAJADYHtq8dF+j+TkE2VGgn5P/z06dOnT/8/RUaHMSBI9T/qTW9605v2P547d+7cufM/i/cA1NG0/D8BP/JeqoD+Pxjp1R2Qo/o/5umj1SREAUCCqHRkz0AEQLbT8Q8uTPo/s2XhKv6h/D8f/4o2Vsr+P6c9rgKCIfk/7mLjbd8S8j87Lefy9SHxP/t0hp/O8PM/+enh7xtY+D/8vu/7vu/7P9FuYBas+vM/WJUHCiaNBkDPV/dIK5MHQKe5AF+dhwVAeGj7e+wODUBTm9rUpjYNQEHNSSAu1AxAnnrLblDPEkAeGDcbAX8SQDMzMzMzMxNA5uS3RFL2E0AP+j2hHocTQEC0hcviPxRA6tzy69OGFEAsofZKqL0SQDaF1y5hHhZAc4xmrDCNFECBANLN95kTQEXJYgeobhVAU8jKQBpmE0Bvp/LowHsSQPkJcVZ+QhRAIgcIKe5rEUD1urHY3sQQQDB2AAZO9hFAdpa1/pGHEUDPp6zKteUQQLw1rc1FAhJA",
          "dtype": "f8"
         },
         "yaxis": "y4"
        },
        {
         "legendgroup": "Guanfacine",
         "line": {
          "color": "rgb(141,160,203)"
         },
         "mode": "lines+markers",
         "name": "Guanfacine",
         "showlegend": false,
         "type": "scatter",
         "x": {
          "bdata": "1gfWB9YH1wfXB9cH2AfYB9gH2QfZB9kH2gfaB9oH2wfbB9sH3AfcB9wH3QfdB90H3gfeB94H3wffB98H4AfgB+AH4QfhB+EH4gfiB+IH4wfjB+MH5AfkB+QH5QflB+UH5gfmB+YH5wfnB+cH6AfoB+gH",
          "dtype": "i2"
         },
         "xaxis": "x4",
         "y": {
          "bdata": "AAAAAAAAAAAAAAAAAAAAAAAAAAAAAAAAAAAAAAAAAAAAAAAAAAAAAAAAAAAAAAAAAAAAAAAAAAAAAAAAAAAAAAAAAAAAAAAAAAAAAAAAAAAAAAAAAAAAAAAAAAAAAAAAAAAAAAAAAAAAAAAAAAAAAAAAAAAAAAAAAAAAAAAAAAAAAAAAAAAAAAAAAAAAAAAAAAAAAAAAAAAAAAAAAAAAAAAAAAAAAAAAAAAAAAAAAAAAAAAAAAAAAAAAAAAAAAAAXC0TuaBwrj9pUPB2Q3WuPwAAAAAAAAAAzEj5YM/cqj9xscHFBherPwAAAAAAAAAAXhF6wjKF2z+96U1vetPbP9MTes16LNg/BYQT8ZKA8D/EHOYwhzn0P12L0WTeteg/f1HhX1T49z9e3rcNWpX5P2ZmZmZmZvY/WxNYqqB0/z8SW+0RW+0BQGEbBKcyYfs/K7rzjh0tA0Bk3wTZN0EGQA5+VR9yJwBAJPGn/Ng4B0BTccG7b6gKQPqmVvPfZgRActMWGWSsCkA4AaWol5EOQKmBvWNqYAdAdePfW0dQDkBEGH2arEMSQAqBjS9qZAlA2/6K0AsqDUCBQv5DVowSQC0lo9vfVQdA",
          "dtype": "f8"
         },
         "yaxis": "y4"
        },
        {
         "legendgroup": "Lisdexamfetamine",
         "line": {
          "color": "rgb(231,138,195)"
         },
         "mode": "lines+markers",
         "name": "Lisdexamfetamine",
         "showlegend": false,
         "type": "scatter",
         "x": {
          "bdata": "1gfWB9YH1wfXB9cH2AfYB9gH2QfZB9kH2gfaB9oH2wfbB9sH3AfcB9wH3QfdB90H3gfeB94H3wffB98H4AfgB+AH4QfhB+EH4gfiB+IH4wfjB+MH5AfkB+QH5QflB+UH5gfmB+YH5wfnB+cH6AfoB+gH",
          "dtype": "i2"
         },
         "xaxis": "x4",
         "y": {
          "bdata": "AAAAAAAAAAAAAAAAAAAAAAAAAAAAAAAAAAAAAAAAAAAAAAAAAAAAAAAAAAAAAAAAAAAAAAAAAAAAAAAAAAAAAAAAAAAAAAAAAAAAAAAAAAAAAAAAAAAAAAAAAAAAAAAAAAAAAAAAAAAAAAAAAAAAAAAAAAAAAAAAAAAAAAAAAAAAAAAAAAAAAAAAAAAAAAAAAAAAAAAAAAAAAAAAAAAAAAAAAAAAAAAAfaf2BjJT4j+YESS9QzHoPwhrWZWUuNw/4CD07nfGHEDfyMkjRZobQInbL3H7JR5AxbvtY+wQLUBL/Sn1p9QrQMnTJfIzfS5AG4/mDzYeNUAAAAAAAAA0QFFH03IXVTZAK2Y58nPFOkBS4V9U+Bc5QGVGbSdbZjxApag78FsrP0CSL1UzOJo9QNejcD0KV0BAyWC4UyNHQUDrgtbGOURAQEESWG/MQEJAvB20fouRQkAZN0fGzZFBQMikeIFMikNAjWasMI3EQ0CYpbRQb3lCQB+4XP3D6kRAtmW9qfktRUAFlKJeRgJEQF2dvoxXJ0ZAJEmSJElSRkAs7OG3vtpEQLyEvZ8cdEdAlX7CSkYYR0Aq2CZJMbFFQFw3szC0GkhA",
          "dtype": "f8"
         },
         "yaxis": "y4"
        },
        {
         "legendgroup": "Methylphenidate",
         "line": {
          "color": "rgb(166,216,84)"
         },
         "mode": "lines+markers",
         "name": "Methylphenidate",
         "showlegend": false,
         "type": "scatter",
         "x": {
          "bdata": "1gfWB9YH1wfXB9cH2AfYB9gH2QfZB9kH2gfaB9oH2wfbB9sH3AfcB9wH3QfdB90H3gfeB94H3wffB98H4AfgB+AH4QfhB+EH4gfiB+IH4wfjB+MH5AfkB+QH5QflB+UH5gfmB+YH5wfnB+cH6AfoB+gH",
          "dtype": "i2"
         },
         "xaxis": "x4",
         "y": {
          "bdata": "nz/mKN2+VUDx8PDw8LBVQNmJndiJHVZA99577733VEByWTFQwttUQIJRZxo3MFVAnYZQSTeKVEC8nSExb2dUQPflsRVBw1RA16HfbB36VEDcXD8uv81UQLpz586dO1VAp1+xGTcKVUBDFrKQhexUQKFChQoVKlVAq358X4fwVEAwFk5Qi8ZUQNWfqEezH1VAJKUT4LP7VEDgFnj2TdlUQBEuTGqIJlVAuqJoEf3PVECMIOkdisFUQMT3gvQb3lRA5Ilj8a9OU0B6FcOPUH9TQMfa4FgbHFNAD5EE58S7UUDuJbSX0N5RQJ7xtZVOmVFAuj8z8fwcUED9jBI/o0RQQKfPlwSv5E9Asju0/T12TUCFf1HhXxROQPINk58p30xAX8u5EAESS0DN4Ghu6a1LQPYoXI/CdUpArPpaBIdZSUDJRq9ba/hJQL5g7BrVvUhAmcGgboDRR0DbLom2S6JIQFTWQ4n2DEdA+JeX6O6NRkDNU/5Dp3BHQI7TzHPKvUVAvcdJjQFYRUCOaRNQivpFQEBKuxGQ0kRAfS2TRQ5wRECrDThMhSJFQHLcMYjq6ENAon4VYySnQ0DUYTYzeF5EQBgJiCpqIkNA",
          "dtype": "f8"
         },
         "yaxis": "y4"
        }
       ],
       "layout": {
        "annotations": [
         {
          "font": {
           "size": 16
          },
          "showarrow": false,
          "text": "Ages 5-9",
          "x": 0.225,
          "xanchor": "center",
          "xref": "paper",
          "y": 1,
          "yanchor": "bottom",
          "yref": "paper"
         },
         {
          "font": {
           "size": 16
          },
          "showarrow": false,
          "text": "Ages 10-14",
          "x": 0.775,
          "xanchor": "center",
          "xref": "paper",
          "y": 1,
          "yanchor": "bottom",
          "yref": "paper"
         },
         {
          "font": {
           "size": 16
          },
          "showarrow": false,
          "text": "Ages 15-19",
          "x": 0.225,
          "xanchor": "center",
          "xref": "paper",
          "y": 0.44,
          "yanchor": "bottom",
          "yref": "paper"
         },
         {
          "font": {
           "size": 16
          },
          "showarrow": false,
          "text": "Ages 20-24",
          "x": 0.775,
          "xanchor": "center",
          "xref": "paper",
          "y": 0.44,
          "yanchor": "bottom",
          "yref": "paper"
         }
        ],
        "height": 700,
        "template": {
         "data": {
          "bar": [
           {
            "error_x": {
             "color": "#2a3f5f"
            },
            "error_y": {
             "color": "#2a3f5f"
            },
            "marker": {
             "line": {
              "color": "#E5ECF6",
              "width": 0.5
             },
             "pattern": {
              "fillmode": "overlay",
              "size": 10,
              "solidity": 0.2
             }
            },
            "type": "bar"
           }
          ],
          "barpolar": [
           {
            "marker": {
             "line": {
              "color": "#E5ECF6",
              "width": 0.5
             },
             "pattern": {
              "fillmode": "overlay",
              "size": 10,
              "solidity": 0.2
             }
            },
            "type": "barpolar"
           }
          ],
          "carpet": [
           {
            "aaxis": {
             "endlinecolor": "#2a3f5f",
             "gridcolor": "white",
             "linecolor": "white",
             "minorgridcolor": "white",
             "startlinecolor": "#2a3f5f"
            },
            "baxis": {
             "endlinecolor": "#2a3f5f",
             "gridcolor": "white",
             "linecolor": "white",
             "minorgridcolor": "white",
             "startlinecolor": "#2a3f5f"
            },
            "type": "carpet"
           }
          ],
          "choropleth": [
           {
            "colorbar": {
             "outlinewidth": 0,
             "ticks": ""
            },
            "type": "choropleth"
           }
          ],
          "contour": [
           {
            "colorbar": {
             "outlinewidth": 0,
             "ticks": ""
            },
            "colorscale": [
             [
              0,
              "#0d0887"
             ],
             [
              0.1111111111111111,
              "#46039f"
             ],
             [
              0.2222222222222222,
              "#7201a8"
             ],
             [
              0.3333333333333333,
              "#9c179e"
             ],
             [
              0.4444444444444444,
              "#bd3786"
             ],
             [
              0.5555555555555556,
              "#d8576b"
             ],
             [
              0.6666666666666666,
              "#ed7953"
             ],
             [
              0.7777777777777778,
              "#fb9f3a"
             ],
             [
              0.8888888888888888,
              "#fdca26"
             ],
             [
              1,
              "#f0f921"
             ]
            ],
            "type": "contour"
           }
          ],
          "contourcarpet": [
           {
            "colorbar": {
             "outlinewidth": 0,
             "ticks": ""
            },
            "type": "contourcarpet"
           }
          ],
          "heatmap": [
           {
            "colorbar": {
             "outlinewidth": 0,
             "ticks": ""
            },
            "colorscale": [
             [
              0,
              "#0d0887"
             ],
             [
              0.1111111111111111,
              "#46039f"
             ],
             [
              0.2222222222222222,
              "#7201a8"
             ],
             [
              0.3333333333333333,
              "#9c179e"
             ],
             [
              0.4444444444444444,
              "#bd3786"
             ],
             [
              0.5555555555555556,
              "#d8576b"
             ],
             [
              0.6666666666666666,
              "#ed7953"
             ],
             [
              0.7777777777777778,
              "#fb9f3a"
             ],
             [
              0.8888888888888888,
              "#fdca26"
             ],
             [
              1,
              "#f0f921"
             ]
            ],
            "type": "heatmap"
           }
          ],
          "histogram": [
           {
            "marker": {
             "pattern": {
              "fillmode": "overlay",
              "size": 10,
              "solidity": 0.2
             }
            },
            "type": "histogram"
           }
          ],
          "histogram2d": [
           {
            "colorbar": {
             "outlinewidth": 0,
             "ticks": ""
            },
            "colorscale": [
             [
              0,
              "#0d0887"
             ],
             [
              0.1111111111111111,
              "#46039f"
             ],
             [
              0.2222222222222222,
              "#7201a8"
             ],
             [
              0.3333333333333333,
              "#9c179e"
             ],
             [
              0.4444444444444444,
              "#bd3786"
             ],
             [
              0.5555555555555556,
              "#d8576b"
             ],
             [
              0.6666666666666666,
              "#ed7953"
             ],
             [
              0.7777777777777778,
              "#fb9f3a"
             ],
             [
              0.8888888888888888,
              "#fdca26"
             ],
             [
              1,
              "#f0f921"
             ]
            ],
            "type": "histogram2d"
           }
          ],
          "histogram2dcontour": [
           {
            "colorbar": {
             "outlinewidth": 0,
             "ticks": ""
            },
            "colorscale": [
             [
              0,
              "#0d0887"
             ],
             [
              0.1111111111111111,
              "#46039f"
             ],
             [
              0.2222222222222222,
              "#7201a8"
             ],
             [
              0.3333333333333333,
              "#9c179e"
             ],
             [
              0.4444444444444444,
              "#bd3786"
             ],
             [
              0.5555555555555556,
              "#d8576b"
             ],
             [
              0.6666666666666666,
              "#ed7953"
             ],
             [
              0.7777777777777778,
              "#fb9f3a"
             ],
             [
              0.8888888888888888,
              "#fdca26"
             ],
             [
              1,
              "#f0f921"
             ]
            ],
            "type": "histogram2dcontour"
           }
          ],
          "mesh3d": [
           {
            "colorbar": {
             "outlinewidth": 0,
             "ticks": ""
            },
            "type": "mesh3d"
           }
          ],
          "parcoords": [
           {
            "line": {
             "colorbar": {
              "outlinewidth": 0,
              "ticks": ""
             }
            },
            "type": "parcoords"
           }
          ],
          "pie": [
           {
            "automargin": true,
            "type": "pie"
           }
          ],
          "scatter": [
           {
            "fillpattern": {
             "fillmode": "overlay",
             "size": 10,
             "solidity": 0.2
            },
            "type": "scatter"
           }
          ],
          "scatter3d": [
           {
            "line": {
             "colorbar": {
              "outlinewidth": 0,
              "ticks": ""
             }
            },
            "marker": {
             "colorbar": {
              "outlinewidth": 0,
              "ticks": ""
             }
            },
            "type": "scatter3d"
           }
          ],
          "scattercarpet": [
           {
            "marker": {
             "colorbar": {
              "outlinewidth": 0,
              "ticks": ""
             }
            },
            "type": "scattercarpet"
           }
          ],
          "scattergeo": [
           {
            "marker": {
             "colorbar": {
              "outlinewidth": 0,
              "ticks": ""
             }
            },
            "type": "scattergeo"
           }
          ],
          "scattergl": [
           {
            "marker": {
             "colorbar": {
              "outlinewidth": 0,
              "ticks": ""
             }
            },
            "type": "scattergl"
           }
          ],
          "scattermap": [
           {
            "marker": {
             "colorbar": {
              "outlinewidth": 0,
              "ticks": ""
             }
            },
            "type": "scattermap"
           }
          ],
          "scattermapbox": [
           {
            "marker": {
             "colorbar": {
              "outlinewidth": 0,
              "ticks": ""
             }
            },
            "type": "scattermapbox"
           }
          ],
          "scatterpolar": [
           {
            "marker": {
             "colorbar": {
              "outlinewidth": 0,
              "ticks": ""
             }
            },
            "type": "scatterpolar"
           }
          ],
          "scatterpolargl": [
           {
            "marker": {
             "colorbar": {
              "outlinewidth": 0,
              "ticks": ""
             }
            },
            "type": "scatterpolargl"
           }
          ],
          "scatterternary": [
           {
            "marker": {
             "colorbar": {
              "outlinewidth": 0,
              "ticks": ""
             }
            },
            "type": "scatterternary"
           }
          ],
          "surface": [
           {
            "colorbar": {
             "outlinewidth": 0,
             "ticks": ""
            },
            "colorscale": [
             [
              0,
              "#0d0887"
             ],
             [
              0.1111111111111111,
              "#46039f"
             ],
             [
              0.2222222222222222,
              "#7201a8"
             ],
             [
              0.3333333333333333,
              "#9c179e"
             ],
             [
              0.4444444444444444,
              "#bd3786"
             ],
             [
              0.5555555555555556,
              "#d8576b"
             ],
             [
              0.6666666666666666,
              "#ed7953"
             ],
             [
              0.7777777777777778,
              "#fb9f3a"
             ],
             [
              0.8888888888888888,
              "#fdca26"
             ],
             [
              1,
              "#f0f921"
             ]
            ],
            "type": "surface"
           }
          ],
          "table": [
           {
            "cells": {
             "fill": {
              "color": "#EBF0F8"
             },
             "line": {
              "color": "white"
             }
            },
            "header": {
             "fill": {
              "color": "#C8D4E3"
             },
             "line": {
              "color": "white"
             }
            },
            "type": "table"
           }
          ]
         },
         "layout": {
          "annotationdefaults": {
           "arrowcolor": "#2a3f5f",
           "arrowhead": 0,
           "arrowwidth": 1
          },
          "autotypenumbers": "strict",
          "coloraxis": {
           "colorbar": {
            "outlinewidth": 0,
            "ticks": ""
           }
          },
          "colorscale": {
           "diverging": [
            [
             0,
             "#8e0152"
            ],
            [
             0.1,
             "#c51b7d"
            ],
            [
             0.2,
             "#de77ae"
            ],
            [
             0.3,
             "#f1b6da"
            ],
            [
             0.4,
             "#fde0ef"
            ],
            [
             0.5,
             "#f7f7f7"
            ],
            [
             0.6,
             "#e6f5d0"
            ],
            [
             0.7,
             "#b8e186"
            ],
            [
             0.8,
             "#7fbc41"
            ],
            [
             0.9,
             "#4d9221"
            ],
            [
             1,
             "#276419"
            ]
           ],
           "sequential": [
            [
             0,
             "#0d0887"
            ],
            [
             0.1111111111111111,
             "#46039f"
            ],
            [
             0.2222222222222222,
             "#7201a8"
            ],
            [
             0.3333333333333333,
             "#9c179e"
            ],
            [
             0.4444444444444444,
             "#bd3786"
            ],
            [
             0.5555555555555556,
             "#d8576b"
            ],
            [
             0.6666666666666666,
             "#ed7953"
            ],
            [
             0.7777777777777778,
             "#fb9f3a"
            ],
            [
             0.8888888888888888,
             "#fdca26"
            ],
            [
             1,
             "#f0f921"
            ]
           ],
           "sequentialminus": [
            [
             0,
             "#0d0887"
            ],
            [
             0.1111111111111111,
             "#46039f"
            ],
            [
             0.2222222222222222,
             "#7201a8"
            ],
            [
             0.3333333333333333,
             "#9c179e"
            ],
            [
             0.4444444444444444,
             "#bd3786"
            ],
            [
             0.5555555555555556,
             "#d8576b"
            ],
            [
             0.6666666666666666,
             "#ed7953"
            ],
            [
             0.7777777777777778,
             "#fb9f3a"
            ],
            [
             0.8888888888888888,
             "#fdca26"
            ],
            [
             1,
             "#f0f921"
            ]
           ]
          },
          "colorway": [
           "#636efa",
           "#EF553B",
           "#00cc96",
           "#ab63fa",
           "#FFA15A",
           "#19d3f3",
           "#FF6692",
           "#B6E880",
           "#FF97FF",
           "#FECB52"
          ],
          "font": {
           "color": "#2a3f5f"
          },
          "geo": {
           "bgcolor": "white",
           "lakecolor": "white",
           "landcolor": "#E5ECF6",
           "showlakes": true,
           "showland": true,
           "subunitcolor": "white"
          },
          "hoverlabel": {
           "align": "left"
          },
          "hovermode": "closest",
          "mapbox": {
           "style": "light"
          },
          "paper_bgcolor": "white",
          "plot_bgcolor": "#E5ECF6",
          "polar": {
           "angularaxis": {
            "gridcolor": "white",
            "linecolor": "white",
            "ticks": ""
           },
           "bgcolor": "#E5ECF6",
           "radialaxis": {
            "gridcolor": "white",
            "linecolor": "white",
            "ticks": ""
           }
          },
          "scene": {
           "xaxis": {
            "backgroundcolor": "#E5ECF6",
            "gridcolor": "white",
            "gridwidth": 2,
            "linecolor": "white",
            "showbackground": true,
            "ticks": "",
            "zerolinecolor": "white"
           },
           "yaxis": {
            "backgroundcolor": "#E5ECF6",
            "gridcolor": "white",
            "gridwidth": 2,
            "linecolor": "white",
            "showbackground": true,
            "ticks": "",
            "zerolinecolor": "white"
           },
           "zaxis": {
            "backgroundcolor": "#E5ECF6",
            "gridcolor": "white",
            "gridwidth": 2,
            "linecolor": "white",
            "showbackground": true,
            "ticks": "",
            "zerolinecolor": "white"
           }
          },
          "shapedefaults": {
           "line": {
            "color": "#2a3f5f"
           }
          },
          "ternary": {
           "aaxis": {
            "gridcolor": "white",
            "linecolor": "white",
            "ticks": ""
           },
           "baxis": {
            "gridcolor": "white",
            "linecolor": "white",
            "ticks": ""
           },
           "bgcolor": "#E5ECF6",
           "caxis": {
            "gridcolor": "white",
            "linecolor": "white",
            "ticks": ""
           }
          },
          "title": {
           "x": 0.05
          },
          "xaxis": {
           "automargin": true,
           "gridcolor": "white",
           "linecolor": "white",
           "ticks": "",
           "title": {
            "standoff": 15
           },
           "zerolinecolor": "white",
           "zerolinewidth": 2
          },
          "yaxis": {
           "automargin": true,
           "gridcolor": "white",
           "linecolor": "white",
           "ticks": "",
           "title": {
            "standoff": 15
           },
           "zerolinecolor": "white",
           "zerolinewidth": 2
          }
         }
        },
        "title": {
         "text": "ADHD Medication Distribution Trends by Age Group (2006-2024)"
        },
        "width": 1000,
        "xaxis": {
         "anchor": "y",
         "domain": [
          0,
          0.45
         ],
         "title": {
          "text": "Year"
         }
        },
        "xaxis2": {
         "anchor": "y2",
         "domain": [
          0.55,
          1
         ],
         "title": {
          "text": "Year"
         }
        },
        "xaxis3": {
         "anchor": "y3",
         "domain": [
          0,
          0.45
         ],
         "title": {
          "text": "Year"
         }
        },
        "xaxis4": {
         "anchor": "y4",
         "domain": [
          0.55,
          1
         ],
         "title": {
          "text": "Year"
         }
        },
        "yaxis": {
         "anchor": "x",
         "domain": [
          0.56,
          1
         ],
         "range": [
          0,
          100
         ],
         "title": {
          "text": "Percentage of Total Prescriptions"
         }
        },
        "yaxis2": {
         "anchor": "x2",
         "domain": [
          0.56,
          1
         ],
         "range": [
          0,
          100
         ],
         "title": {
          "text": "Percentage of Total Prescriptions"
         }
        },
        "yaxis3": {
         "anchor": "x3",
         "domain": [
          0,
          0.44
         ],
         "range": [
          0,
          100
         ],
         "title": {
          "text": "Percentage of Total Prescriptions"
         }
        },
        "yaxis4": {
         "anchor": "x4",
         "domain": [
          0,
          0.44
         ],
         "range": [
          0,
          100
         ],
         "title": {
          "text": "Percentage of Total Prescriptions"
         }
        }
       }
      }
     },
     "metadata": {},
     "output_type": "display_data"
    },
    {
     "data": {
      "application/vnd.plotly.v1+json": {
       "config": {
        "plotlyServerURL": "https://plot.ly"
       },
       "data": [
        {
         "hovertemplate": "medication=Atomoxetine<br>Age Group - Gender=%{x}<br>Percentage of Total Prescriptions=%{y}<extra></extra>",
         "legendgroup": "Atomoxetine",
         "marker": {
          "color": "#636efa",
          "pattern": {
           "shape": ""
          }
         },
         "name": "Atomoxetine",
         "orientation": "v",
         "showlegend": true,
         "textposition": "auto",
         "type": "bar",
         "x": [
          "5-9 - Boys",
          "5-9 - Girls",
          "10-14 - Boys",
          "10-14 - Girls",
          "15-19 - Boys",
          "15-19 - Girls",
          "20-24 - Boys",
          "20-24 - Girls"
         ],
         "xaxis": "x",
         "y": {
          "bdata": "MzMzMzMzL0CamZmZmRkwQJqZmZmZmSxAMzMzMzMzLUBmZmZmZmYqQAAAAAAAACpAAAAAAAAAJ0DNzMzMzMwkQA==",
          "dtype": "f8"
         },
         "yaxis": "y"
        },
        {
         "hovertemplate": "medication=Dextroamphetamine<br>Age Group - Gender=%{x}<br>Percentage of Total Prescriptions=%{y}<extra></extra>",
         "legendgroup": "Dextroamphetamine",
         "marker": {
          "color": "#EF553B",
          "pattern": {
           "shape": ""
          }
         },
         "name": "Dextroamphetamine",
         "orientation": "v",
         "showlegend": true,
         "textposition": "auto",
         "type": "bar",
         "x": [
          "5-9 - Boys",
          "5-9 - Girls",
          "10-14 - Boys",
          "10-14 - Girls",
          "15-19 - Boys",
          "15-19 - Girls",
          "20-24 - Boys",
          "20-24 - Girls"
         ],
         "xaxis": "x",
         "y": {
          "bdata": "ZmZmZmZm5j9mZmZmZmbmP5qZmZmZmek/ZmZmZmZm5j8AAAAAAADwPzMzMzMzM/M/AAAAAAAACEBmZmZmZmYKQA==",
          "dtype": "f8"
         },
         "yaxis": "y"
        },
        {
         "hovertemplate": "medication=Guanfacine<br>Age Group - Gender=%{x}<br>Percentage of Total Prescriptions=%{y}<extra></extra>",
         "legendgroup": "Guanfacine",
         "marker": {
          "color": "#00cc96",
          "pattern": {
           "shape": ""
          }
         },
         "name": "Guanfacine",
         "orientation": "v",
         "showlegend": true,
         "textposition": "auto",
         "type": "bar",
         "x": [
          "5-9 - Boys",
          "5-9 - Girls",
          "10-14 - Boys",
          "10-14 - Girls",
          "15-19 - Boys",
          "15-19 - Girls",
          "20-24 - Boys",
          "20-24 - Girls"
         ],
         "xaxis": "x",
         "y": {
          "bdata": "ZmZmZmZmGEAzMzMzMzMVQM3MzMzMzBRAZmZmZmZmEEAzMzMzMzMLQAAAAAAAAARAzczMzMzM9D/NzMzMzMzsPw==",
          "dtype": "f8"
         },
         "yaxis": "y"
        },
        {
         "hovertemplate": "medication=Lisdexamfetamine<br>Age Group - Gender=%{x}<br>Percentage of Total Prescriptions=%{y}<extra></extra>",
         "legendgroup": "Lisdexamfetamine",
         "marker": {
          "color": "#ab63fa",
          "pattern": {
           "shape": ""
          }
         },
         "name": "Lisdexamfetamine",
         "orientation": "v",
         "showlegend": true,
         "textposition": "auto",
         "type": "bar",
         "x": [
          "5-9 - Boys",
          "5-9 - Girls",
          "10-14 - Boys",
          "10-14 - Girls",
          "15-19 - Boys",
          "15-19 - Girls",
          "20-24 - Boys",
          "20-24 - Girls"
         ],
         "xaxis": "x",
         "y": {
          "bdata": "zczMzMzMIkDNzMzMzMwiQM3MzMzMzCdAMzMzMzMzKUBmZmZmZmYtQDMzMzMzszBAMzMzMzMzMUCamZmZmRkzQA==",
          "dtype": "f8"
         },
         "yaxis": "y"
        },
        {
         "hovertemplate": "medication=Methylphenidate<br>Age Group - Gender=%{x}<br>Percentage of Total Prescriptions=%{y}<extra></extra>",
         "legendgroup": "Methylphenidate",
         "marker": {
          "color": "#FFA15A",
          "pattern": {
           "shape": ""
          }
         },
         "name": "Methylphenidate",
         "orientation": "v",
         "showlegend": true,
         "textposition": "auto",
         "type": "bar",
         "x": [
          "5-9 - Boys",
          "5-9 - Girls",
          "10-14 - Boys",
          "10-14 - Girls",
          "15-19 - Boys",
          "15-19 - Girls",
          "20-24 - Boys",
          "20-24 - Girls"
         ],
         "xaxis": "x",
         "y": {
          "bdata": "MzMzMzMTUUAAAAAAACBRQDMzMzMz81BAAAAAAAAAUUDNzMzMzOxQQM3MzMzMrFBAAAAAAADAUEDNzMzMzIxQQA==",
          "dtype": "f8"
         },
         "yaxis": "y"
        }
       ],
       "layout": {
        "barmode": "relative",
        "height": 600,
        "legend": {
         "title": {
          "text": "medication"
         },
         "tracegroupgap": 0
        },
        "template": {
         "data": {
          "bar": [
           {
            "error_x": {
             "color": "#2a3f5f"
            },
            "error_y": {
             "color": "#2a3f5f"
            },
            "marker": {
             "line": {
              "color": "#E5ECF6",
              "width": 0.5
             },
             "pattern": {
              "fillmode": "overlay",
              "size": 10,
              "solidity": 0.2
             }
            },
            "type": "bar"
           }
          ],
          "barpolar": [
           {
            "marker": {
             "line": {
              "color": "#E5ECF6",
              "width": 0.5
             },
             "pattern": {
              "fillmode": "overlay",
              "size": 10,
              "solidity": 0.2
             }
            },
            "type": "barpolar"
           }
          ],
          "carpet": [
           {
            "aaxis": {
             "endlinecolor": "#2a3f5f",
             "gridcolor": "white",
             "linecolor": "white",
             "minorgridcolor": "white",
             "startlinecolor": "#2a3f5f"
            },
            "baxis": {
             "endlinecolor": "#2a3f5f",
             "gridcolor": "white",
             "linecolor": "white",
             "minorgridcolor": "white",
             "startlinecolor": "#2a3f5f"
            },
            "type": "carpet"
           }
          ],
          "choropleth": [
           {
            "colorbar": {
             "outlinewidth": 0,
             "ticks": ""
            },
            "type": "choropleth"
           }
          ],
          "contour": [
           {
            "colorbar": {
             "outlinewidth": 0,
             "ticks": ""
            },
            "colorscale": [
             [
              0,
              "#0d0887"
             ],
             [
              0.1111111111111111,
              "#46039f"
             ],
             [
              0.2222222222222222,
              "#7201a8"
             ],
             [
              0.3333333333333333,
              "#9c179e"
             ],
             [
              0.4444444444444444,
              "#bd3786"
             ],
             [
              0.5555555555555556,
              "#d8576b"
             ],
             [
              0.6666666666666666,
              "#ed7953"
             ],
             [
              0.7777777777777778,
              "#fb9f3a"
             ],
             [
              0.8888888888888888,
              "#fdca26"
             ],
             [
              1,
              "#f0f921"
             ]
            ],
            "type": "contour"
           }
          ],
          "contourcarpet": [
           {
            "colorbar": {
             "outlinewidth": 0,
             "ticks": ""
            },
            "type": "contourcarpet"
           }
          ],
          "heatmap": [
           {
            "colorbar": {
             "outlinewidth": 0,
             "ticks": ""
            },
            "colorscale": [
             [
              0,
              "#0d0887"
             ],
             [
              0.1111111111111111,
              "#46039f"
             ],
             [
              0.2222222222222222,
              "#7201a8"
             ],
             [
              0.3333333333333333,
              "#9c179e"
             ],
             [
              0.4444444444444444,
              "#bd3786"
             ],
             [
              0.5555555555555556,
              "#d8576b"
             ],
             [
              0.6666666666666666,
              "#ed7953"
             ],
             [
              0.7777777777777778,
              "#fb9f3a"
             ],
             [
              0.8888888888888888,
              "#fdca26"
             ],
             [
              1,
              "#f0f921"
             ]
            ],
            "type": "heatmap"
           }
          ],
          "histogram": [
           {
            "marker": {
             "pattern": {
              "fillmode": "overlay",
              "size": 10,
              "solidity": 0.2
             }
            },
            "type": "histogram"
           }
          ],
          "histogram2d": [
           {
            "colorbar": {
             "outlinewidth": 0,
             "ticks": ""
            },
            "colorscale": [
             [
              0,
              "#0d0887"
             ],
             [
              0.1111111111111111,
              "#46039f"
             ],
             [
              0.2222222222222222,
              "#7201a8"
             ],
             [
              0.3333333333333333,
              "#9c179e"
             ],
             [
              0.4444444444444444,
              "#bd3786"
             ],
             [
              0.5555555555555556,
              "#d8576b"
             ],
             [
              0.6666666666666666,
              "#ed7953"
             ],
             [
              0.7777777777777778,
              "#fb9f3a"
             ],
             [
              0.8888888888888888,
              "#fdca26"
             ],
             [
              1,
              "#f0f921"
             ]
            ],
            "type": "histogram2d"
           }
          ],
          "histogram2dcontour": [
           {
            "colorbar": {
             "outlinewidth": 0,
             "ticks": ""
            },
            "colorscale": [
             [
              0,
              "#0d0887"
             ],
             [
              0.1111111111111111,
              "#46039f"
             ],
             [
              0.2222222222222222,
              "#7201a8"
             ],
             [
              0.3333333333333333,
              "#9c179e"
             ],
             [
              0.4444444444444444,
              "#bd3786"
             ],
             [
              0.5555555555555556,
              "#d8576b"
             ],
             [
              0.6666666666666666,
              "#ed7953"
             ],
             [
              0.7777777777777778,
              "#fb9f3a"
             ],
             [
              0.8888888888888888,
              "#fdca26"
             ],
             [
              1,
              "#f0f921"
             ]
            ],
            "type": "histogram2dcontour"
           }
          ],
          "mesh3d": [
           {
            "colorbar": {
             "outlinewidth": 0,
             "ticks": ""
            },
            "type": "mesh3d"
           }
          ],
          "parcoords": [
           {
            "line": {
             "colorbar": {
              "outlinewidth": 0,
              "ticks": ""
             }
            },
            "type": "parcoords"
           }
          ],
          "pie": [
           {
            "automargin": true,
            "type": "pie"
           }
          ],
          "scatter": [
           {
            "fillpattern": {
             "fillmode": "overlay",
             "size": 10,
             "solidity": 0.2
            },
            "type": "scatter"
           }
          ],
          "scatter3d": [
           {
            "line": {
             "colorbar": {
              "outlinewidth": 0,
              "ticks": ""
             }
            },
            "marker": {
             "colorbar": {
              "outlinewidth": 0,
              "ticks": ""
             }
            },
            "type": "scatter3d"
           }
          ],
          "scattercarpet": [
           {
            "marker": {
             "colorbar": {
              "outlinewidth": 0,
              "ticks": ""
             }
            },
            "type": "scattercarpet"
           }
          ],
          "scattergeo": [
           {
            "marker": {
             "colorbar": {
              "outlinewidth": 0,
              "ticks": ""
             }
            },
            "type": "scattergeo"
           }
          ],
          "scattergl": [
           {
            "marker": {
             "colorbar": {
              "outlinewidth": 0,
              "ticks": ""
             }
            },
            "type": "scattergl"
           }
          ],
          "scattermap": [
           {
            "marker": {
             "colorbar": {
              "outlinewidth": 0,
              "ticks": ""
             }
            },
            "type": "scattermap"
           }
          ],
          "scattermapbox": [
           {
            "marker": {
             "colorbar": {
              "outlinewidth": 0,
              "ticks": ""
             }
            },
            "type": "scattermapbox"
           }
          ],
          "scatterpolar": [
           {
            "marker": {
             "colorbar": {
              "outlinewidth": 0,
              "ticks": ""
             }
            },
            "type": "scatterpolar"
           }
          ],
          "scatterpolargl": [
           {
            "marker": {
             "colorbar": {
              "outlinewidth": 0,
              "ticks": ""
             }
            },
            "type": "scatterpolargl"
           }
          ],
          "scatterternary": [
           {
            "marker": {
             "colorbar": {
              "outlinewidth": 0,
              "ticks": ""
             }
            },
            "type": "scatterternary"
           }
          ],
          "surface": [
           {
            "colorbar": {
             "outlinewidth": 0,
             "ticks": ""
            },
            "colorscale": [
             [
              0,
              "#0d0887"
             ],
             [
              0.1111111111111111,
              "#46039f"
             ],
             [
              0.2222222222222222,
              "#7201a8"
             ],
             [
              0.3333333333333333,
              "#9c179e"
             ],
             [
              0.4444444444444444,
              "#bd3786"
             ],
             [
              0.5555555555555556,
              "#d8576b"
             ],
             [
              0.6666666666666666,
              "#ed7953"
             ],
             [
              0.7777777777777778,
              "#fb9f3a"
             ],
             [
              0.8888888888888888,
              "#fdca26"
             ],
             [
              1,
              "#f0f921"
             ]
            ],
            "type": "surface"
           }
          ],
          "table": [
           {
            "cells": {
             "fill": {
              "color": "#EBF0F8"
             },
             "line": {
              "color": "white"
             }
            },
            "header": {
             "fill": {
              "color": "#C8D4E3"
             },
             "line": {
              "color": "white"
             }
            },
            "type": "table"
           }
          ]
         },
         "layout": {
          "annotationdefaults": {
           "arrowcolor": "#2a3f5f",
           "arrowhead": 0,
           "arrowwidth": 1
          },
          "autotypenumbers": "strict",
          "coloraxis": {
           "colorbar": {
            "outlinewidth": 0,
            "ticks": ""
           }
          },
          "colorscale": {
           "diverging": [
            [
             0,
             "#8e0152"
            ],
            [
             0.1,
             "#c51b7d"
            ],
            [
             0.2,
             "#de77ae"
            ],
            [
             0.3,
             "#f1b6da"
            ],
            [
             0.4,
             "#fde0ef"
            ],
            [
             0.5,
             "#f7f7f7"
            ],
            [
             0.6,
             "#e6f5d0"
            ],
            [
             0.7,
             "#b8e186"
            ],
            [
             0.8,
             "#7fbc41"
            ],
            [
             0.9,
             "#4d9221"
            ],
            [
             1,
             "#276419"
            ]
           ],
           "sequential": [
            [
             0,
             "#0d0887"
            ],
            [
             0.1111111111111111,
             "#46039f"
            ],
            [
             0.2222222222222222,
             "#7201a8"
            ],
            [
             0.3333333333333333,
             "#9c179e"
            ],
            [
             0.4444444444444444,
             "#bd3786"
            ],
            [
             0.5555555555555556,
             "#d8576b"
            ],
            [
             0.6666666666666666,
             "#ed7953"
            ],
            [
             0.7777777777777778,
             "#fb9f3a"
            ],
            [
             0.8888888888888888,
             "#fdca26"
            ],
            [
             1,
             "#f0f921"
            ]
           ],
           "sequentialminus": [
            [
             0,
             "#0d0887"
            ],
            [
             0.1111111111111111,
             "#46039f"
            ],
            [
             0.2222222222222222,
             "#7201a8"
            ],
            [
             0.3333333333333333,
             "#9c179e"
            ],
            [
             0.4444444444444444,
             "#bd3786"
            ],
            [
             0.5555555555555556,
             "#d8576b"
            ],
            [
             0.6666666666666666,
             "#ed7953"
            ],
            [
             0.7777777777777778,
             "#fb9f3a"
            ],
            [
             0.8888888888888888,
             "#fdca26"
            ],
            [
             1,
             "#f0f921"
            ]
           ]
          },
          "colorway": [
           "#636efa",
           "#EF553B",
           "#00cc96",
           "#ab63fa",
           "#FFA15A",
           "#19d3f3",
           "#FF6692",
           "#B6E880",
           "#FF97FF",
           "#FECB52"
          ],
          "font": {
           "color": "#2a3f5f"
          },
          "geo": {
           "bgcolor": "white",
           "lakecolor": "white",
           "landcolor": "#E5ECF6",
           "showlakes": true,
           "showland": true,
           "subunitcolor": "white"
          },
          "hoverlabel": {
           "align": "left"
          },
          "hovermode": "closest",
          "mapbox": {
           "style": "light"
          },
          "paper_bgcolor": "white",
          "plot_bgcolor": "#E5ECF6",
          "polar": {
           "angularaxis": {
            "gridcolor": "white",
            "linecolor": "white",
            "ticks": ""
           },
           "bgcolor": "#E5ECF6",
           "radialaxis": {
            "gridcolor": "white",
            "linecolor": "white",
            "ticks": ""
           }
          },
          "scene": {
           "xaxis": {
            "backgroundcolor": "#E5ECF6",
            "gridcolor": "white",
            "gridwidth": 2,
            "linecolor": "white",
            "showbackground": true,
            "ticks": "",
            "zerolinecolor": "white"
           },
           "yaxis": {
            "backgroundcolor": "#E5ECF6",
            "gridcolor": "white",
            "gridwidth": 2,
            "linecolor": "white",
            "showbackground": true,
            "ticks": "",
            "zerolinecolor": "white"
           },
           "zaxis": {
            "backgroundcolor": "#E5ECF6",
            "gridcolor": "white",
            "gridwidth": 2,
            "linecolor": "white",
            "showbackground": true,
            "ticks": "",
            "zerolinecolor": "white"
           }
          },
          "shapedefaults": {
           "line": {
            "color": "#2a3f5f"
           }
          },
          "ternary": {
           "aaxis": {
            "gridcolor": "white",
            "linecolor": "white",
            "ticks": ""
           },
           "baxis": {
            "gridcolor": "white",
            "linecolor": "white",
            "ticks": ""
           },
           "bgcolor": "#E5ECF6",
           "caxis": {
            "gridcolor": "white",
            "linecolor": "white",
            "ticks": ""
           }
          },
          "title": {
           "x": 0.05
          },
          "xaxis": {
           "automargin": true,
           "gridcolor": "white",
           "linecolor": "white",
           "ticks": "",
           "title": {
            "standoff": 15
           },
           "zerolinecolor": "white",
           "zerolinewidth": 2
          },
          "yaxis": {
           "automargin": true,
           "gridcolor": "white",
           "linecolor": "white",
           "ticks": "",
           "title": {
            "standoff": 15
           },
           "zerolinecolor": "white",
           "zerolinewidth": 2
          }
         }
        },
        "title": {
         "text": "ADHD Medication Distribution by Age Group and Gender (2006-2024 Average)"
        },
        "width": 1000,
        "xaxis": {
         "anchor": "y",
         "domain": [
          0,
          1
         ],
         "tickangle": -45,
         "title": {
          "text": "Age Group - Gender"
         }
        },
        "yaxis": {
         "anchor": "x",
         "domain": [
          0,
          1
         ],
         "title": {
          "text": "Percentage of Total Prescriptions"
         }
        }
       }
      }
     },
     "metadata": {},
     "output_type": "display_data"
    },
    {
     "data": {
      "application/vnd.plotly.v1+json": {
       "config": {
        "plotlyServerURL": "https://plot.ly"
       },
       "data": [
        {
         "hovertemplate": "medication_category=Atomoxetine<br>Year=%{x}<br>Percentage of Total Prescriptions=%{y}<extra></extra>",
         "legendgroup": "Atomoxetine",
         "marker": {
          "color": "#636efa",
          "pattern": {
           "shape": ""
          }
         },
         "name": "Atomoxetine",
         "orientation": "v",
         "showlegend": true,
         "textposition": "auto",
         "type": "bar",
         "x": {
          "bdata": "5AfkB+QH5QflB+UH5gfmB+YH5wfnB+cH6AfoB+gH",
          "dtype": "i2"
         },
         "xaxis": "x",
         "y": {
          "bdata": "vflIO2zYI0AA22SJuJsjQJ30sQUnfSRA1wPk0DnzIkDFISHjZI8iQP/whz/84SNAyckRYO7uIUAaB86M1LghQGzIc/kidyJApqWlpaWlIUDrS8lGbXQhQJQP5mLhHSJAHMWwOeWzIUDTSDpVjWUhQGpw5aMGVyJA",
          "dtype": "f8"
         },
         "yaxis": "y"
        },
        {
         "hovertemplate": "medication_category=Dextroamphetamine<br>Year=%{x}<br>Percentage of Total Prescriptions=%{y}<extra></extra>",
         "legendgroup": "Dextroamphetamine",
         "marker": {
          "color": "#EF553B",
          "pattern": {
           "shape": ""
          }
         },
         "name": "Dextroamphetamine",
         "orientation": "v",
         "showlegend": true,
         "textposition": "auto",
         "type": "bar",
         "x": {
          "bdata": "5AfkB+QH5QflB+UH5gfmB+YH5wfnB+cH6AfoB+gH",
          "dtype": "i2"
         },
         "xaxis": "x",
         "y": {
          "bdata": "Y+HRUTI29j+DF4RefA33P2IZT3NYxvM/V88YEDJO9z9LHW9vjk34P1KNalSjGvU/+tKcNBvA+T+Pwdal24b6P0XSAvNTn/c/cWVr6CmJ+T+wHY4nTHD7PwDqb4N2e/U/MMMyJzPE9z8JrcW/+AL5P6C6VxGqe/U/",
          "dtype": "f8"
         },
         "yaxis": "y"
        },
        {
         "hovertemplate": "medication_category=Guanfacine<br>Year=%{x}<br>Percentage of Total Prescriptions=%{y}<extra></extra>",
         "legendgroup": "Guanfacine",
         "marker": {
          "color": "#00cc96",
          "pattern": {
           "shape": ""
          }
         },
         "name": "Guanfacine",
         "orientation": "v",
         "showlegend": true,
         "textposition": "auto",
         "type": "bar",
         "x": {
          "bdata": "5AfkB+QH5QflB+UH5gfmB+YH5wfnB+cH6AfoB+gH",
          "dtype": "i2"
         },
         "xaxis": "x",
         "y": {
          "bdata": "VSsFgApUJUDH9o97EFUmQKvsqokquyJA2/JV3AiYJ0BebnzQqQIpQAIKUIACFCRAxC5CuMmLKUA+IicId2MrQLuP1K/RNSVAsOvNXBU5K0AKGYD+FkotQMPXnoPEoCZA2SqXxDReK0DY2f5gMNctQHJyYyMnNyZA",
          "dtype": "f8"
         },
         "yaxis": "y"
        },
        {
         "hovertemplate": "medication_category=Lisdexamfetamine<br>Year=%{x}<br>Percentage of Total Prescriptions=%{y}<extra></extra>",
         "legendgroup": "Lisdexamfetamine",
         "marker": {
          "color": "#ab63fa",
          "pattern": {
           "shape": ""
          }
         },
         "name": "Lisdexamfetamine",
         "orientation": "v",
         "showlegend": true,
         "textposition": "auto",
         "type": "bar",
         "x": {
          "bdata": "5AfkB+QH5QflB+UH5gfmB+YH5wfnB+cH6AfoB+gH",
          "dtype": "i2"
         },
         "xaxis": "x",
         "y": {
          "bdata": "/B/4APjBN0BpmaFeV3I3QBtTctbGlDhAOBgow6dgN0DliInHRRs3QIEEJCABCThAQmtwyk2hN0DRSkQYL0k3QOL1zUvwbjhAKU07xP/hN0Cz/c3+vFg3QErVAQx1CzlAqFEtJJcxOEBGN5FbbZg3QCT1tkJSbzlA",
          "dtype": "f8"
         },
         "yaxis": "y"
        },
        {
         "hovertemplate": "medication_category=Methylphenidate<br>Year=%{x}<br>Percentage of Total Prescriptions=%{y}<extra></extra>",
         "legendgroup": "Methylphenidate",
         "marker": {
          "color": "#FFA15A",
          "pattern": {
           "shape": ""
          }
         },
         "name": "Methylphenidate",
         "orientation": "v",
         "showlegend": true,
         "textposition": "auto",
         "type": "bar",
         "x": {
          "bdata": "5AfkB+QH5QflB+UH5gfmB+YH5wfnB+cH6AfoB+gH",
          "dtype": "i2"
         },
         "xaxis": "x",
         "y": {
          "bdata": "stchvjQiS0Ac3n0sNhJLQFclVW1VSUtAvK+c4mnySkCZXtj7bMtKQJaqVKUqVUtApuUNO6qCSkA22nGxHkBKQHHYLhBQIEtA6xkCDggLSkD+NgoOfshJQDRcQkzAnkpAF8UdVYzkSUBK7qoegpxJQOKORxzueEpA",
          "dtype": "f8"
         },
         "yaxis": "y"
        }
       ],
       "layout": {
        "barmode": "relative",
        "height": 500,
        "legend": {
         "title": {
          "text": "medication_category"
         },
         "tracegroupgap": 0
        },
        "template": {
         "data": {
          "bar": [
           {
            "error_x": {
             "color": "#2a3f5f"
            },
            "error_y": {
             "color": "#2a3f5f"
            },
            "marker": {
             "line": {
              "color": "#E5ECF6",
              "width": 0.5
             },
             "pattern": {
              "fillmode": "overlay",
              "size": 10,
              "solidity": 0.2
             }
            },
            "type": "bar"
           }
          ],
          "barpolar": [
           {
            "marker": {
             "line": {
              "color": "#E5ECF6",
              "width": 0.5
             },
             "pattern": {
              "fillmode": "overlay",
              "size": 10,
              "solidity": 0.2
             }
            },
            "type": "barpolar"
           }
          ],
          "carpet": [
           {
            "aaxis": {
             "endlinecolor": "#2a3f5f",
             "gridcolor": "white",
             "linecolor": "white",
             "minorgridcolor": "white",
             "startlinecolor": "#2a3f5f"
            },
            "baxis": {
             "endlinecolor": "#2a3f5f",
             "gridcolor": "white",
             "linecolor": "white",
             "minorgridcolor": "white",
             "startlinecolor": "#2a3f5f"
            },
            "type": "carpet"
           }
          ],
          "choropleth": [
           {
            "colorbar": {
             "outlinewidth": 0,
             "ticks": ""
            },
            "type": "choropleth"
           }
          ],
          "contour": [
           {
            "colorbar": {
             "outlinewidth": 0,
             "ticks": ""
            },
            "colorscale": [
             [
              0,
              "#0d0887"
             ],
             [
              0.1111111111111111,
              "#46039f"
             ],
             [
              0.2222222222222222,
              "#7201a8"
             ],
             [
              0.3333333333333333,
              "#9c179e"
             ],
             [
              0.4444444444444444,
              "#bd3786"
             ],
             [
              0.5555555555555556,
              "#d8576b"
             ],
             [
              0.6666666666666666,
              "#ed7953"
             ],
             [
              0.7777777777777778,
              "#fb9f3a"
             ],
             [
              0.8888888888888888,
              "#fdca26"
             ],
             [
              1,
              "#f0f921"
             ]
            ],
            "type": "contour"
           }
          ],
          "contourcarpet": [
           {
            "colorbar": {
             "outlinewidth": 0,
             "ticks": ""
            },
            "type": "contourcarpet"
           }
          ],
          "heatmap": [
           {
            "colorbar": {
             "outlinewidth": 0,
             "ticks": ""
            },
            "colorscale": [
             [
              0,
              "#0d0887"
             ],
             [
              0.1111111111111111,
              "#46039f"
             ],
             [
              0.2222222222222222,
              "#7201a8"
             ],
             [
              0.3333333333333333,
              "#9c179e"
             ],
             [
              0.4444444444444444,
              "#bd3786"
             ],
             [
              0.5555555555555556,
              "#d8576b"
             ],
             [
              0.6666666666666666,
              "#ed7953"
             ],
             [
              0.7777777777777778,
              "#fb9f3a"
             ],
             [
              0.8888888888888888,
              "#fdca26"
             ],
             [
              1,
              "#f0f921"
             ]
            ],
            "type": "heatmap"
           }
          ],
          "histogram": [
           {
            "marker": {
             "pattern": {
              "fillmode": "overlay",
              "size": 10,
              "solidity": 0.2
             }
            },
            "type": "histogram"
           }
          ],
          "histogram2d": [
           {
            "colorbar": {
             "outlinewidth": 0,
             "ticks": ""
            },
            "colorscale": [
             [
              0,
              "#0d0887"
             ],
             [
              0.1111111111111111,
              "#46039f"
             ],
             [
              0.2222222222222222,
              "#7201a8"
             ],
             [
              0.3333333333333333,
              "#9c179e"
             ],
             [
              0.4444444444444444,
              "#bd3786"
             ],
             [
              0.5555555555555556,
              "#d8576b"
             ],
             [
              0.6666666666666666,
              "#ed7953"
             ],
             [
              0.7777777777777778,
              "#fb9f3a"
             ],
             [
              0.8888888888888888,
              "#fdca26"
             ],
             [
              1,
              "#f0f921"
             ]
            ],
            "type": "histogram2d"
           }
          ],
          "histogram2dcontour": [
           {
            "colorbar": {
             "outlinewidth": 0,
             "ticks": ""
            },
            "colorscale": [
             [
              0,
              "#0d0887"
             ],
             [
              0.1111111111111111,
              "#46039f"
             ],
             [
              0.2222222222222222,
              "#7201a8"
             ],
             [
              0.3333333333333333,
              "#9c179e"
             ],
             [
              0.4444444444444444,
              "#bd3786"
             ],
             [
              0.5555555555555556,
              "#d8576b"
             ],
             [
              0.6666666666666666,
              "#ed7953"
             ],
             [
              0.7777777777777778,
              "#fb9f3a"
             ],
             [
              0.8888888888888888,
              "#fdca26"
             ],
             [
              1,
              "#f0f921"
             ]
            ],
            "type": "histogram2dcontour"
           }
          ],
          "mesh3d": [
           {
            "colorbar": {
             "outlinewidth": 0,
             "ticks": ""
            },
            "type": "mesh3d"
           }
          ],
          "parcoords": [
           {
            "line": {
             "colorbar": {
              "outlinewidth": 0,
              "ticks": ""
             }
            },
            "type": "parcoords"
           }
          ],
          "pie": [
           {
            "automargin": true,
            "type": "pie"
           }
          ],
          "scatter": [
           {
            "fillpattern": {
             "fillmode": "overlay",
             "size": 10,
             "solidity": 0.2
            },
            "type": "scatter"
           }
          ],
          "scatter3d": [
           {
            "line": {
             "colorbar": {
              "outlinewidth": 0,
              "ticks": ""
             }
            },
            "marker": {
             "colorbar": {
              "outlinewidth": 0,
              "ticks": ""
             }
            },
            "type": "scatter3d"
           }
          ],
          "scattercarpet": [
           {
            "marker": {
             "colorbar": {
              "outlinewidth": 0,
              "ticks": ""
             }
            },
            "type": "scattercarpet"
           }
          ],
          "scattergeo": [
           {
            "marker": {
             "colorbar": {
              "outlinewidth": 0,
              "ticks": ""
             }
            },
            "type": "scattergeo"
           }
          ],
          "scattergl": [
           {
            "marker": {
             "colorbar": {
              "outlinewidth": 0,
              "ticks": ""
             }
            },
            "type": "scattergl"
           }
          ],
          "scattermap": [
           {
            "marker": {
             "colorbar": {
              "outlinewidth": 0,
              "ticks": ""
             }
            },
            "type": "scattermap"
           }
          ],
          "scattermapbox": [
           {
            "marker": {
             "colorbar": {
              "outlinewidth": 0,
              "ticks": ""
             }
            },
            "type": "scattermapbox"
           }
          ],
          "scatterpolar": [
           {
            "marker": {
             "colorbar": {
              "outlinewidth": 0,
              "ticks": ""
             }
            },
            "type": "scatterpolar"
           }
          ],
          "scatterpolargl": [
           {
            "marker": {
             "colorbar": {
              "outlinewidth": 0,
              "ticks": ""
             }
            },
            "type": "scatterpolargl"
           }
          ],
          "scatterternary": [
           {
            "marker": {
             "colorbar": {
              "outlinewidth": 0,
              "ticks": ""
             }
            },
            "type": "scatterternary"
           }
          ],
          "surface": [
           {
            "colorbar": {
             "outlinewidth": 0,
             "ticks": ""
            },
            "colorscale": [
             [
              0,
              "#0d0887"
             ],
             [
              0.1111111111111111,
              "#46039f"
             ],
             [
              0.2222222222222222,
              "#7201a8"
             ],
             [
              0.3333333333333333,
              "#9c179e"
             ],
             [
              0.4444444444444444,
              "#bd3786"
             ],
             [
              0.5555555555555556,
              "#d8576b"
             ],
             [
              0.6666666666666666,
              "#ed7953"
             ],
             [
              0.7777777777777778,
              "#fb9f3a"
             ],
             [
              0.8888888888888888,
              "#fdca26"
             ],
             [
              1,
              "#f0f921"
             ]
            ],
            "type": "surface"
           }
          ],
          "table": [
           {
            "cells": {
             "fill": {
              "color": "#EBF0F8"
             },
             "line": {
              "color": "white"
             }
            },
            "header": {
             "fill": {
              "color": "#C8D4E3"
             },
             "line": {
              "color": "white"
             }
            },
            "type": "table"
           }
          ]
         },
         "layout": {
          "annotationdefaults": {
           "arrowcolor": "#2a3f5f",
           "arrowhead": 0,
           "arrowwidth": 1
          },
          "autotypenumbers": "strict",
          "coloraxis": {
           "colorbar": {
            "outlinewidth": 0,
            "ticks": ""
           }
          },
          "colorscale": {
           "diverging": [
            [
             0,
             "#8e0152"
            ],
            [
             0.1,
             "#c51b7d"
            ],
            [
             0.2,
             "#de77ae"
            ],
            [
             0.3,
             "#f1b6da"
            ],
            [
             0.4,
             "#fde0ef"
            ],
            [
             0.5,
             "#f7f7f7"
            ],
            [
             0.6,
             "#e6f5d0"
            ],
            [
             0.7,
             "#b8e186"
            ],
            [
             0.8,
             "#7fbc41"
            ],
            [
             0.9,
             "#4d9221"
            ],
            [
             1,
             "#276419"
            ]
           ],
           "sequential": [
            [
             0,
             "#0d0887"
            ],
            [
             0.1111111111111111,
             "#46039f"
            ],
            [
             0.2222222222222222,
             "#7201a8"
            ],
            [
             0.3333333333333333,
             "#9c179e"
            ],
            [
             0.4444444444444444,
             "#bd3786"
            ],
            [
             0.5555555555555556,
             "#d8576b"
            ],
            [
             0.6666666666666666,
             "#ed7953"
            ],
            [
             0.7777777777777778,
             "#fb9f3a"
            ],
            [
             0.8888888888888888,
             "#fdca26"
            ],
            [
             1,
             "#f0f921"
            ]
           ],
           "sequentialminus": [
            [
             0,
             "#0d0887"
            ],
            [
             0.1111111111111111,
             "#46039f"
            ],
            [
             0.2222222222222222,
             "#7201a8"
            ],
            [
             0.3333333333333333,
             "#9c179e"
            ],
            [
             0.4444444444444444,
             "#bd3786"
            ],
            [
             0.5555555555555556,
             "#d8576b"
            ],
            [
             0.6666666666666666,
             "#ed7953"
            ],
            [
             0.7777777777777778,
             "#fb9f3a"
            ],
            [
             0.8888888888888888,
             "#fdca26"
            ],
            [
             1,
             "#f0f921"
            ]
           ]
          },
          "colorway": [
           "#636efa",
           "#EF553B",
           "#00cc96",
           "#ab63fa",
           "#FFA15A",
           "#19d3f3",
           "#FF6692",
           "#B6E880",
           "#FF97FF",
           "#FECB52"
          ],
          "font": {
           "color": "#2a3f5f"
          },
          "geo": {
           "bgcolor": "white",
           "lakecolor": "white",
           "landcolor": "#E5ECF6",
           "showlakes": true,
           "showland": true,
           "subunitcolor": "white"
          },
          "hoverlabel": {
           "align": "left"
          },
          "hovermode": "closest",
          "mapbox": {
           "style": "light"
          },
          "paper_bgcolor": "white",
          "plot_bgcolor": "#E5ECF6",
          "polar": {
           "angularaxis": {
            "gridcolor": "white",
            "linecolor": "white",
            "ticks": ""
           },
           "bgcolor": "#E5ECF6",
           "radialaxis": {
            "gridcolor": "white",
            "linecolor": "white",
            "ticks": ""
           }
          },
          "scene": {
           "xaxis": {
            "backgroundcolor": "#E5ECF6",
            "gridcolor": "white",
            "gridwidth": 2,
            "linecolor": "white",
            "showbackground": true,
            "ticks": "",
            "zerolinecolor": "white"
           },
           "yaxis": {
            "backgroundcolor": "#E5ECF6",
            "gridcolor": "white",
            "gridwidth": 2,
            "linecolor": "white",
            "showbackground": true,
            "ticks": "",
            "zerolinecolor": "white"
           },
           "zaxis": {
            "backgroundcolor": "#E5ECF6",
            "gridcolor": "white",
            "gridwidth": 2,
            "linecolor": "white",
            "showbackground": true,
            "ticks": "",
            "zerolinecolor": "white"
           }
          },
          "shapedefaults": {
           "line": {
            "color": "#2a3f5f"
           }
          },
          "ternary": {
           "aaxis": {
            "gridcolor": "white",
            "linecolor": "white",
            "ticks": ""
           },
           "baxis": {
            "gridcolor": "white",
            "linecolor": "white",
            "ticks": ""
           },
           "bgcolor": "#E5ECF6",
           "caxis": {
            "gridcolor": "white",
            "linecolor": "white",
            "ticks": ""
           }
          },
          "title": {
           "x": 0.05
          },
          "xaxis": {
           "automargin": true,
           "gridcolor": "white",
           "linecolor": "white",
           "ticks": "",
           "title": {
            "standoff": 15
           },
           "zerolinecolor": "white",
           "zerolinewidth": 2
          },
          "yaxis": {
           "automargin": true,
           "gridcolor": "white",
           "linecolor": "white",
           "ticks": "",
           "title": {
            "standoff": 15
           },
           "zerolinecolor": "white",
           "zerolinewidth": 2
          }
         }
        },
        "title": {
         "text": "ADHD Medication Distribution Over Time - Ages 10-14"
        },
        "width": 800,
        "xaxis": {
         "anchor": "y",
         "domain": [
          0,
          1
         ],
         "title": {
          "text": "Year"
         }
        },
        "yaxis": {
         "anchor": "x",
         "domain": [
          0,
          1
         ],
         "title": {
          "text": "Percentage of Total Prescriptions"
         }
        }
       }
      }
     },
     "metadata": {},
     "output_type": "display_data"
    },
    {
     "name": "stdout",
     "output_type": "stream",
     "text": [
      "ADHD Medication Distribution Summary (2022-2024 Average)\n",
      "================================================================================\n",
      "\n",
      "Age Group 5-9:\n",
      "----------------------------------------\n",
      "Overall:\n",
      "  Atomoxetine: 11.2%\n",
      "  Dextroamphetamine: 1.3%\n",
      "  Guanfacine: 15.3%\n",
      "  Lisdexamfetamine: 17.1%\n",
      "  Methylphenidate: 54.9%\n",
      "\n",
      "By Gender:\n",
      "  Boys:\n",
      "    Atomoxetine: 10.6%\n",
      "    Dextroamphetamine: 1.4%\n",
      "    Guanfacine: 16.4%\n",
      "    Lisdexamfetamine: 17.2%\n",
      "    Methylphenidate: 54.4%\n",
      "  Girls:\n",
      "    Atomoxetine: 12.2%\n",
      "    Dextroamphetamine: 1.2%\n",
      "    Guanfacine: 13.9%\n",
      "    Lisdexamfetamine: 17.0%\n",
      "    Methylphenidate: 55.8%\n",
      "\n",
      "Age Group 10-14:\n",
      "----------------------------------------\n",
      "Overall:\n",
      "  Atomoxetine: 8.9%\n",
      "  Dextroamphetamine: 1.5%\n",
      "  Guanfacine: 12.9%\n",
      "  Lisdexamfetamine: 24.1%\n",
      "  Methylphenidate: 52.5%\n",
      "\n",
      "By Gender:\n",
      "  Boys:\n",
      "    Atomoxetine: 8.8%\n",
      "    Dextroamphetamine: 1.6%\n",
      "    Guanfacine: 14.4%\n",
      "    Lisdexamfetamine: 23.4%\n",
      "    Methylphenidate: 51.8%\n",
      "  Girls:\n",
      "    Atomoxetine: 9.2%\n",
      "    Dextroamphetamine: 1.4%\n",
      "    Guanfacine: 11.0%\n",
      "    Lisdexamfetamine: 25.0%\n",
      "    Methylphenidate: 53.5%\n",
      "\n",
      "Age Group 15-19:\n",
      "----------------------------------------\n",
      "Overall:\n",
      "  Atomoxetine: 7.9%\n",
      "  Dextroamphetamine: 2.4%\n",
      "  Guanfacine: 8.3%\n",
      "  Lisdexamfetamine: 34.3%\n",
      "  Methylphenidate: 47.0%\n",
      "\n",
      "By Gender:\n",
      "  Boys:\n",
      "    Atomoxetine: 8.1%\n",
      "    Dextroamphetamine: 2.3%\n",
      "    Guanfacine: 9.8%\n",
      "    Lisdexamfetamine: 32.3%\n",
      "    Methylphenidate: 47.4%\n",
      "  Girls:\n",
      "    Atomoxetine: 7.8%\n",
      "    Dextroamphetamine: 2.4%\n",
      "    Guanfacine: 6.7%\n",
      "    Lisdexamfetamine: 36.4%\n",
      "    Methylphenidate: 46.7%\n",
      "\n",
      "Age Group 20-24:\n",
      "----------------------------------------\n",
      "Overall:\n",
      "  Atomoxetine: 6.6%\n",
      "  Dextroamphetamine: 4.5%\n",
      "  Guanfacine: 3.6%\n",
      "  Lisdexamfetamine: 44.2%\n",
      "  Methylphenidate: 41.1%\n",
      "\n",
      "By Gender:\n",
      "  Boys:\n",
      "    Atomoxetine: 7.3%\n",
      "    Dextroamphetamine: 4.3%\n",
      "    Guanfacine: 4.3%\n",
      "    Lisdexamfetamine: 41.7%\n",
      "    Methylphenidate: 42.3%\n",
      "  Girls:\n",
      "    Atomoxetine: 5.9%\n",
      "    Dextroamphetamine: 4.7%\n",
      "    Guanfacine: 3.0%\n",
      "    Lisdexamfetamine: 46.5%\n",
      "    Methylphenidate: 39.9%\n",
      "\n",
      "Sample data for ages 10-14:\n",
      "   year        gender medication_category  patients_per_1000  total  \\\n",
      "0  2006  Both genders         Atomoxetine               0.97   8.58   \n",
      "1  2006  Both genders   Dextroamphetamine               0.08   8.58   \n",
      "2  2006  Both genders          Guanfacine               0.00   8.58   \n",
      "3  2006  Both genders    Lisdexamfetamine               0.00   8.58   \n",
      "4  2006  Both genders     Methylphenidate               7.53   8.58   \n",
      "5  2006          Boys         Atomoxetine               1.55  13.64   \n",
      "6  2006          Boys   Dextroamphetamine               0.13  13.64   \n",
      "7  2006          Boys          Guanfacine               0.00  13.64   \n",
      "8  2006          Boys    Lisdexamfetamine               0.00  13.64   \n",
      "9  2006          Boys     Methylphenidate              11.96  13.64   \n",
      "\n",
      "   proportion  \n",
      "0   11.305361  \n",
      "1    0.932401  \n",
      "2    0.000000  \n",
      "3    0.000000  \n",
      "4   87.762238  \n",
      "5   11.363636  \n",
      "6    0.953079  \n",
      "7    0.000000  \n",
      "8    0.000000  \n",
      "9   87.683284  \n",
      "\n",
      "Comparison opportunity:\n",
      "The referenced paper found for ages 6-24:\n",
      "- Methylphenidate: 88.9%\n",
      "- Atomoxetine: 9.1%\n",
      "- Dexamphetamine: 2.0%\n",
      "\n",
      "Your data can show how these proportions have evolved since 2015,\n",
      "plus the introduction of lisdexamfetamine and guanfacine.\n"
     ]
    }
   ],
   "source": [
    "import pandas as pd\n",
    "import plotly.express as px\n",
    "import plotly.graph_objects as go\n",
    "from plotly.subplots import make_subplots\n",
    "import numpy as np\n",
    "\n",
    "# ============================================================================\n",
    "# DATA PREPARATION FOR MEDICATION PROPORTIONS\n",
    "# ============================================================================\n",
    "\n",
    "def calculate_medication_proportions(df, age_group=None, gender=None, years=None):\n",
    "    \"\"\"\n",
    "    Calculate proportions of each medication within total ADHD prescriptions.\n",
    "    \n",
    "    Parameters:\n",
    "    - df: DataFrame with individual medications (not \"All medications\")\n",
    "    - age_group: specific age group to filter (optional)\n",
    "    - gender: specific gender to filter (optional)  \n",
    "    - years: list of years to include (optional)\n",
    "    \"\"\"\n",
    "    # Start with individual medications only (exclude \"All medications\" category)\n",
    "    df_filtered = df[df['medication_category'] != 'All medications'].copy()\n",
    "    \n",
    "    # Apply filters\n",
    "    if age_group:\n",
    "        df_filtered = df_filtered[df_filtered['age_group'] == age_group]\n",
    "    if gender:\n",
    "        df_filtered = df_filtered[df_filtered['gender'] == gender]\n",
    "    if years:\n",
    "        df_filtered = df_filtered[df_filtered['year'].isin(years)]\n",
    "    \n",
    "    # Group by year, age_group, gender, and medication\n",
    "    groupby_cols = ['year']\n",
    "    if not age_group:\n",
    "        groupby_cols.append('age_group')\n",
    "    if not gender:\n",
    "        groupby_cols.append('gender')\n",
    "    groupby_cols.append('medication_category')\n",
    "    \n",
    "    df_grouped = df_filtered.groupby(groupby_cols)['patients_per_1000'].sum().reset_index()\n",
    "    \n",
    "    # Calculate total for each year/age_group/gender combination\n",
    "    total_cols = [col for col in groupby_cols if col != 'medication_category']\n",
    "    yearly_totals = df_grouped.groupby(total_cols)['patients_per_1000'].sum().reset_index()\n",
    "    yearly_totals.rename(columns={'patients_per_1000': 'total'}, inplace=True)\n",
    "    \n",
    "    # Merge and calculate proportions\n",
    "    df_with_totals = df_grouped.merge(yearly_totals, on=total_cols)\n",
    "    df_with_totals['proportion'] = (df_with_totals['patients_per_1000'] / df_with_totals['total']) * 100\n",
    "    \n",
    "    return df_with_totals\n",
    "\n",
    "def create_recent_summary_stats(df, recent_years=[2022, 2023, 2024]):\n",
    "    \"\"\"\n",
    "    Create summary statistics similar to the paper for recent years.\n",
    "    \"\"\"\n",
    "    results = {}\n",
    "    \n",
    "    for age_group in ['5-9', '10-14', '15-19', '20-24']:\n",
    "        # Overall proportions for this age group\n",
    "        age_data = calculate_medication_proportions(df, age_group=age_group, years=recent_years)\n",
    "        overall_props = age_data.groupby('medication_category')['proportion'].mean().round(1)\n",
    "        \n",
    "        # By gender\n",
    "        boys_data = calculate_medication_proportions(df, age_group=age_group, gender='Boys', years=recent_years)\n",
    "        boys_props = boys_data.groupby('medication_category')['proportion'].mean().round(1)\n",
    "        \n",
    "        girls_data = calculate_medication_proportions(df, age_group=age_group, gender='Girls', years=recent_years)\n",
    "        girls_props = girls_data.groupby('medication_category')['proportion'].mean().round(1)\n",
    "        \n",
    "        results[age_group] = {\n",
    "            'overall': overall_props,\n",
    "            'boys': boys_props,\n",
    "            'girls': girls_props\n",
    "        }\n",
    "    \n",
    "    return results\n",
    "\n",
    "# ============================================================================\n",
    "# VISUALIZATION FUNCTIONS\n",
    "# ============================================================================\n",
    "\n",
    "def plot_medication_trends_by_age(df, colors=None):\n",
    "    \"\"\"\n",
    "    Create a 2x2 subplot showing medication proportion trends for each age group.\n",
    "    \"\"\"\n",
    "    if colors is None:\n",
    "        colors = px.colors.qualitative.Set2\n",
    "    \n",
    "    fig = make_subplots(\n",
    "        rows=2, cols=2,\n",
    "        subplot_titles=['Ages 5-9', 'Ages 10-14', 'Ages 15-19', 'Ages 20-24'],\n",
    "        vertical_spacing=0.12,\n",
    "        horizontal_spacing=0.1\n",
    "    )\n",
    "    \n",
    "    age_groups = ['5-9', '10-14', '15-19', '20-24']\n",
    "    positions = [(1,1), (1,2), (2,1), (2,2)]\n",
    "    \n",
    "    for i, age_group in enumerate(age_groups):\n",
    "        row, col = positions[i]\n",
    "        \n",
    "        # Calculate proportions for this age group\n",
    "        age_data = calculate_medication_proportions(df, age_group=age_group)\n",
    "        \n",
    "        # Create stacked area or line plot\n",
    "        medications = age_data['medication_category'].unique()\n",
    "        \n",
    "        for j, med in enumerate(medications):\n",
    "            med_data = age_data[age_data['medication_category'] == med]\n",
    "            \n",
    "            fig.add_trace(\n",
    "                go.Scatter(\n",
    "                    x=med_data['year'],\n",
    "                    y=med_data['proportion'],\n",
    "                    name=med,\n",
    "                    mode='lines+markers',\n",
    "                    line=dict(color=colors[j % len(colors)]),\n",
    "                    showlegend=(i == 0),  # Only show legend for first subplot\n",
    "                    legendgroup=med\n",
    "                ),\n",
    "                row=row, col=col\n",
    "            )\n",
    "    \n",
    "    fig.update_layout(\n",
    "        title='ADHD Medication Distribution Trends by Age Group (2006-2024)',\n",
    "        height=700,\n",
    "        width=1000\n",
    "    )\n",
    "    \n",
    "    fig.update_yaxes(title_text=\"Percentage of Total Prescriptions\", range=[0, 100])\n",
    "    fig.update_xaxes(title_text=\"Year\")\n",
    "    \n",
    "    return fig\n",
    "\n",
    "def plot_recent_medication_distribution(df, recent_years=[2022, 2023, 2024]):\n",
    "    \"\"\"\n",
    "    Create stacked bar chart showing recent medication distribution by age and gender.\n",
    "    \"\"\"\n",
    "    # Calculate proportions for recent years\n",
    "    results = create_recent_summary_stats(df, recent_years)\n",
    "    \n",
    "    # Prepare data for plotting\n",
    "    plot_data = []\n",
    "    for age_group in results.keys():\n",
    "        for gender in ['Boys', 'Girls']:\n",
    "            gender_key = gender.lower()\n",
    "            if gender_key in results[age_group]:\n",
    "                for med, prop in results[age_group][gender_key].items():\n",
    "                    plot_data.append({\n",
    "                        'age_group': age_group,\n",
    "                        'gender': gender,\n",
    "                        'medication': med,\n",
    "                        'proportion': prop,\n",
    "                        'category': f\"{age_group} - {gender}\"\n",
    "                    })\n",
    "    \n",
    "    plot_df = pd.DataFrame(plot_data)\n",
    "    \n",
    "    fig = px.bar(\n",
    "        plot_df,\n",
    "        x='category',\n",
    "        y='proportion',\n",
    "        color='medication',\n",
    "        title=f'ADHD Medication Distribution by Age Group and Gender ({recent_years[0]}-{recent_years[-1]} Average)',\n",
    "        labels={'proportion': 'Percentage of Total Prescriptions', 'category': 'Age Group - Gender'}\n",
    "    )\n",
    "    \n",
    "    fig.update_layout(\n",
    "        xaxis_tickangle=-45,\n",
    "        height=600,\n",
    "        width=1000\n",
    "    )\n",
    "    \n",
    "    return fig\n",
    "\n",
    "def plot_single_age_stacked_bars(df, age_group, years_to_show=None):\n",
    "    \"\"\"\n",
    "    Create stacked bar chart for a single age group over time.\n",
    "    \"\"\"\n",
    "    if years_to_show is None:\n",
    "        years_to_show = sorted(df['year'].unique())[-5:]  # Last 5 years\n",
    "    \n",
    "    age_data = calculate_medication_proportions(df, age_group=age_group, years=years_to_show)\n",
    "    \n",
    "    fig = px.bar(\n",
    "        age_data,\n",
    "        x='year',\n",
    "        y='proportion',\n",
    "        color='medication_category',\n",
    "        title=f'ADHD Medication Distribution Over Time - Ages {age_group}',\n",
    "        labels={'proportion': 'Percentage of Total Prescriptions', 'year': 'Year'}\n",
    "    )\n",
    "    \n",
    "    fig.update_layout(height=500, width=800)\n",
    "    return fig\n",
    "\n",
    "def create_summary_table(df, recent_years=[2022, 2023, 2024]):\n",
    "    \"\"\"\n",
    "    Create a summary table similar to the research paper.\n",
    "    \"\"\"\n",
    "    results = create_recent_summary_stats(df, recent_years)\n",
    "    \n",
    "    print(f\"ADHD Medication Distribution Summary ({recent_years[0]}-{recent_years[-1]} Average)\")\n",
    "    print(\"=\" * 80)\n",
    "    \n",
    "    for age_group in results.keys():\n",
    "        print(f\"\\nAge Group {age_group}:\")\n",
    "        print(\"-\" * 40)\n",
    "        \n",
    "        # Overall statistics\n",
    "        overall = results[age_group]['overall']\n",
    "        print(\"Overall:\")\n",
    "        for med, prop in overall.items():\n",
    "            print(f\"  {med}: {prop}%\")\n",
    "        \n",
    "        # Gender breakdown\n",
    "        boys = results[age_group]['boys']\n",
    "        girls = results[age_group]['girls']\n",
    "        \n",
    "        print(\"\\nBy Gender:\")\n",
    "        print(\"  Boys:\")\n",
    "        for med, prop in boys.items():\n",
    "            print(f\"    {med}: {prop}%\")\n",
    "        print(\"  Girls:\")\n",
    "        for med, prop in girls.items():\n",
    "            print(f\"    {med}: {prop}%\")\n",
    "\n",
    "# ============================================================================\n",
    "# EXAMPLE USAGE\n",
    "# ============================================================================\n",
    "\n",
    "# Assuming you have df_grouped with individual medications\n",
    "# (excluding \"All medications\" rows)\n",
    "\n",
    "# 1. Create trend plots for all age groups\n",
    "trends_fig = plot_medication_trends_by_age(df_grouped)\n",
    "trends_fig.show()\n",
    "\n",
    "# 2. Create recent distribution comparison\n",
    "recent_fig = plot_recent_medication_distribution(df_grouped, list(range(2006, 2025)))\n",
    "recent_fig.show()\n",
    "\n",
    "# 3. Focus on a specific age group\n",
    "single_age_fig = plot_single_age_stacked_bars(df_grouped, '10-14', [2020, 2021, 2022, 2023, 2024])\n",
    "single_age_fig.show()\n",
    "\n",
    "# 4. Print summary statistics\n",
    "create_summary_table(df_grouped, [2022, 2023, 2024])\n",
    "\n",
    "# 5. Calculate proportions for analysis\n",
    "# Example: Get proportions for 10-14 age group\n",
    "age_10_14_props = calculate_medication_proportions(df_grouped, age_group='10-14')\n",
    "print(\"\\nSample data for ages 10-14:\")\n",
    "print(age_10_14_props.head(10))\n",
    "\n",
    "# Example: Compare with paper's findings\n",
    "print(\"\\nComparison opportunity:\")\n",
    "print(\"The referenced paper found for ages 6-24:\")\n",
    "print(\"- Methylphenidate: 88.9%\")\n",
    "print(\"- Atomoxetine: 9.1%\") \n",
    "print(\"- Dexamphetamine: 2.0%\")\n",
    "print(\"\\nYour data can show how these proportions have evolved since 2015,\")\n",
    "print(\"plus the introduction of lisdexamfetamine and guanfacine.\")"
   ]
  },
  {
   "cell_type": "code",
   "execution_count": null,
   "id": "e0ee4004",
   "metadata": {},
   "outputs": [],
   "source": [
    "import plotly.express as px\n",
    "import plotly.graph_objects as go\n",
    "import pandas as pd\n",
    "import numpy as np\n",
    "\n",
    "def create_indexed_data_for_animation(df):\n",
    "    \"\"\"\n",
    "    Transform dataframe for animation - data points are progressively revealed year-by-year.\n",
    "    Each frame contains data from previous years PLUS current year.\n",
    "    \"\"\"\n",
    "    \n",
    "    # Sort by year to ensure proper ordering\n",
    "    df_sorted = df.sort_values(['year', 'gender', 'age_group', 'medication_category']).reset_index(drop=True)\n",
    "    \n",
    "    df_indexed = pd.DataFrame()\n",
    "    years = sorted(df['year'].unique())\n",
    "    \n",
    "    # Build cumulative frames - each frame contains data up to that year\n",
    "    for frame_num, year in enumerate(years):\n",
    "        # Get all data up to and including current year\n",
    "        df_slice = df_sorted[df_sorted['year'] <= year].copy()\n",
    "        df_slice['frame'] = frame_num  # Frame number for animation\n",
    "        df_slice['current_year'] = year  # Track which year this frame represents\n",
    "        \n",
    "        df_indexed = pd.concat([df_indexed, df_slice])\n",
    "    \n",
    "    return df_indexed.reset_index(drop=True)\n",
    "\n",
    "def animated_timeline_stackademic_style():\n",
    "    \"\"\"\n",
    "    Create animated timeline using the Stackademic technique:\n",
    "    - Line plot shows cumulative data (growing lines)\n",
    "    - Scatter plot shows only current year points (moving dots)\n",
    "    \"\"\"\n",
    "    \n",
    "    # Filter your data as needed\n",
    "    df_filtered = df_grouped[\n",
    "        (df_grouped[\"medication_category\"] == \"All medications\") &\n",
    "        (df_grouped[\"gender\"].isin([\"Boys\", \"Girls\"])) &\n",
    "        (df_grouped[\"age_group\"].isin([\"10-14\"]))\n",
    "    ].copy()\n",
    "    \n",
    "    # Create indexed data for animation\n",
    "    df_indexed = create_indexed_data_for_animation(df_filtered)\n",
    "    \n",
    "    # Add labels\n",
    "    df_indexed[\"Label\"] = df_indexed.apply(make_label, axis=1)\n",
    "    \n",
    "    # 1. CREATE LINE PLOT (shows cumulative/growing lines)\n",
    "    line_plot = px.line(\n",
    "        df_indexed,\n",
    "        x='year',\n",
    "        y='patients_per_1000',\n",
    "        color='gender',\n",
    "        animation_frame='frame',\n",
    "        color_discrete_map=gender_colors,\n",
    "        title=\"ADHD Medication Prescriptions - Timeline Animation\"\n",
    "    )\n",
    "    \n",
    "    # Style the line plot\n",
    "    line_plot.update_traces(\n",
    "        mode='lines',\n",
    "        line=dict(width=3),\n",
    "        showlegend=False  # Will show legend from scatter plot\n",
    "    )\n",
    "    \n",
    "    # 2. CREATE SCATTER PLOT (will show moving dots)\n",
    "    scatter_plot = px.scatter(\n",
    "        df_indexed,\n",
    "        x='year',\n",
    "        y='patients_per_1000',\n",
    "        color='gender',\n",
    "        animation_frame='frame',\n",
    "        color_discrete_map=gender_colors\n",
    "    )\n",
    "    \n",
    "    # 3. THE MAGIC TRICK: Keep only the last value for scatter plot\n",
    "    # This makes the dots move to show current position\n",
    "    for frame in scatter_plot.frames:\n",
    "        for data in frame.data:\n",
    "            data.update(\n",
    "                mode='markers',\n",
    "                showlegend=True,\n",
    "                opacity=1\n",
    "            )\n",
    "            # Keep only the last (most recent) point\n",
    "            data['x'] = np.take(data['x'], [-1])\n",
    "            data['y'] = np.take(data['y'], [-1])\n",
    "    \n",
    "    # Style scatter traces (dots)\n",
    "    scatter_plot.update_traces(\n",
    "        marker=dict(size=12, line=dict(color='white', width=2))\n",
    "    )\n",
    "    \n",
    "    # 4. COMBINE LINE AND SCATTER PLOTS\n",
    "    combined_fig = go.Figure(\n",
    "        data=line_plot.data + scatter_plot.data,\n",
    "        frames=[\n",
    "            go.Frame(\n",
    "                data=line_frame.data + scatter_frame.data,\n",
    "                name=line_frame.name\n",
    "            )\n",
    "            for line_frame, scatter_frame in zip(line_plot.frames, scatter_plot.frames)\n",
    "        ],\n",
    "        layout=line_plot.layout\n",
    "    )\n",
    "    \n",
    "    # 5. FINAL STYLING\n",
    "    combined_fig.update_layout(\n",
    "        height=600,\n",
    "        width=900,\n",
    "        template=\"bengtegard\",\n",
    "        paper_bgcolor=BG_COLOR,\n",
    "        plot_bgcolor=BG_COLOR,\n",
    "        font_color=TEXT_COLOR,\n",
    "        xaxis_title=\"Year\",\n",
    "        yaxis_title=\"Patients per 1000 inhabitants\",\n",
    "        legend_title=\"Gender\",\n",
    "        updatemenus=[{\n",
    "            \"buttons\": [\n",
    "                {\n",
    "                    \"args\": [None, {\n",
    "                        \"frame\": {\"duration\": 300, \"redraw\": False},\n",
    "                        \"transition\": {\"duration\": , \"easing\": \"linear\"}\n",
    "                    }],\n",
    "                    \"label\": \"▶ Play\",\n",
    "                    \"method\": \"animate\"\n",
    "                },\n",
    "                {\n",
    "                    \"args\": [[None], {\n",
    "                        \"frame\": {\"duration\": 0, \"redraw\": False},\n",
    "                        \"transition\": {\"duration\": 0}\n",
    "                    }],\n",
    "                    \"label\": \"❚❚ Pause\",\n",
    "                    \"method\": \"animate\"\n",
    "                }\n",
    "            ],\n",
    "            \"direction\": \"left\",\n",
    "            \"x\": 0.1,\n",
    "            \"y\": 0.02,\n",
    "            \"showactive\": True,\n",
    "            \"type\": \"buttons\"\n",
    "        }],\n",
    "        # Add slider for manual control\n",
    "        sliders=[{\n",
    "            \"active\": 0,\n",
    "            \"steps\": [\n",
    "                {\n",
    "                    \"args\": [[f\"{i}\"], {\n",
    "                        \"frame\": {\"duration\": 300, \"redraw\": True},\n",
    "                        \"transition\": {\"duration\": 300}\n",
    "                    }],\n",
    "                    \"label\": str(df_indexed[df_indexed['frame'] == i]['current_year'].iloc[0]),\n",
    "                    \"method\": \"animate\"\n",
    "                } for i in range(len(df_indexed['frame'].unique()))\n",
    "            ],\n",
    "            \"transition\": {\"duration\": 300},\n",
    "            \"x\": 0.1,\n",
    "            \"len\": 0.9,\n",
    "            \"y\": 0,\n",
    "            \"yanchor\": \"top\"\n",
    "        }]\n",
    "    )\n",
    "    \n",
    "    return combined_fig\n",
    "\n",
    "\n",
    "fig = animated_timeline_stackademic_style()\n",
    "fig.show()\n"
   ]
  },
  {
   "cell_type": "code",
   "execution_count": 10,
   "id": "5ee2060c",
   "metadata": {},
   "outputs": [
    {
     "name": "stdout",
     "output_type": "stream",
     "text": [
      "GeoJSON loaded successfully\n",
      "Dash app running on http://127.0.0.1:8050/\n"
     ]
    }
   ],
   "source": [
    "import dash\n",
    "from dash import dcc, html, jupyter_dash\n",
    "from dash.dependencies import Input, Output\n",
    "import plotly.express as px\n",
    "import pandas as pd\n",
    "import plotly.graph_objects as go\n",
    "import json\n",
    "\n",
    "jupyter_dash.default_mode = \"external\"\n",
    "\n",
    "# ============================================================================\n",
    "# DATA PREPARATION FUNCTIONS\n",
    "# ============================================================================\n",
    "\n",
    "def plot_gender_ratios(df):\n",
    "    \"\"\"Calculate Boys/Girls prescription ratios and plot by age group.\"\"\"\n",
    "    # Filter to include only Boys and Girls\n",
    "    gender_only = df[df['gender'].isin(['Boys', 'Girls'])].copy()\n",
    "    \n",
    "    # Pivot so each row is Year x AgeGroup, with columns Boys and Girls\n",
    "    pivot = gender_only.pivot_table(\n",
    "        index=['year', 'age_group'],\n",
    "        columns='gender',\n",
    "        values='patients_per_1000',\n",
    "        fill_value=0\n",
    "    ).reset_index()\n",
    "    \n",
    "    # Calculate Boys/Girls ratio\n",
    "    pivot['Boys_Girls_Ratio'] = pivot['Boys'] / pivot['Girls'].replace(0, 0.001)\n",
    "    \n",
    "    # Make age group categorical for consistent ordering and color assignment\n",
    "    age_order = [\"5-9\", \"10-14\", \"15-19\", \"20-24\"]\n",
    "    pivot['age_group'] = pd.Categorical(pivot['age_group'], categories=age_order, ordered=True)\n",
    "    \n",
    "    # Create Plotly line plot\n",
    "    fig = px.line(\n",
    "        pivot,\n",
    "        x='year',\n",
    "        y='Boys_Girls_Ratio',\n",
    "        color='age_group',\n",
    "        markers=True,\n",
    "        color_discrete_map=facet_colors,\n",
    "        title='Boys-to-Girls ADHD Prescription Ratio by Age Group'\n",
    "    )\n",
    "    \n",
    "    # Add horizontal line at ratio = 1\n",
    "    fig.add_hline(y=1, line_dash=\"dot\", line_color=TEXT_COLOR)\n",
    "\n",
    "    fig.update_xaxes(\n",
    "        title_text='',\n",
    "        tick0=2006,   \n",
    "        dtick=2,  \n",
    "        range=[2006, 2024] \n",
    "    )\n",
    "    \n",
    "    # Update layout with template\n",
    "    fig.update_layout(\n",
    "        yaxis_title='Boys / Girls Ratio',\n",
    "        xaxis_title='Year',\n",
    "        legend_title_text='Age Group',\n",
    "        height=700,\n",
    "        width=1000,\n",
    "        template='bengtegard',\n",
    "        paper_bgcolor=BG_COLOR,\n",
    "        plot_bgcolor=BG_COLOR,\n",
    "        font_color=TEXT_COLOR\n",
    "    )\n",
    "    \n",
    "    return fig\n",
    "\n",
    "def prepare_choropleth_data(df, year, age_group, gender):\n",
    "    \"\"\"Prepare data for choropleth map\"\"\"\n",
    "    df_filtered = df[\n",
    "        (df['year'] == year) &\n",
    "        (df['age_group'] == age_group) &\n",
    "        (df['gender'] == gender) &\n",
    "        (df['medication_category'] == \"All medications\")\n",
    "    ].copy()\n",
    "    \n",
    "    # County mapping - adjust these names to match your GeoJSON properties\n",
    "    county_name_map = {\n",
    "        \"Stockholm\": \"Stockholm\",\n",
    "        \"Dalarna\": \"Dalarna\", \n",
    "        \"Uppsala\": \"Uppsala\",\n",
    "        \"Skåne\": \"Skåne\",\n",
    "        \"Västra Götaland\": \"Västra Götaland\",\n",
    "        \"Södermanland\": \"Södermanland\",\n",
    "        \"Östergötland\": \"Östergötland\",\n",
    "        \"Jönköping\": \"Jönköping\",\n",
    "        \"Kalmar\": \"Kalmar\",\n",
    "        \"Kronoberg\": \"Kronoberg\",\n",
    "        \"Blekinge\": \"Blekinge\", \n",
    "        \"Gotland\": \"Gotland\",\n",
    "        \"Värmland\": \"Värmland\",\n",
    "        \"Västmanland\": \"Västmanland\",\n",
    "        \"Örebro\": \"Örebro\",\n",
    "        \"Gävleborg\": \"Gävleborg\",\n",
    "        \"Västernorrland\": \"Västernorrland\",\n",
    "        \"Jämtland Härjedalen\": \"Jämtland\",\n",
    "        \"Västerbotten\": \"Västerbotten\",\n",
    "        \"Norrbotten\": \"Norrbotten\",\n",
    "        \"Halland\": \"Halland\"\n",
    "    }\n",
    "    \n",
    "    df_filtered['county_geo'] = df_filtered['county'].map(county_name_map)\n",
    "    df_filtered = df_filtered.dropna(subset=['county_geo'])\n",
    "    df_filtered['patients_per_1000'] = pd.to_numeric(df_filtered['patients_per_1000'], errors='coerce')\n",
    "    df_filtered = df_filtered.dropna(subset=['patients_per_1000'])\n",
    "    \n",
    "    return df_filtered\n",
    "\n",
    "def calculate_national_average(df_regional, year, age_group, gender):\n",
    "    \"\"\"Calculate simple national average for a given year/demographic.\n",
    "    Since the metric is already per 1000 inhabitants, simple averaged is used.\"\"\"\n",
    "    \n",
    "    # Filter data for the specific parameters\n",
    "    df_filtered = df_regional[\n",
    "        (df_regional['year'] == year) &\n",
    "        (df_regional['age_group'] == age_group) &\n",
    "        (df_regional['gender'] == gender) &\n",
    "        (df_regional['medication_category'] == \"All medications\")\n",
    "    ].copy()\n",
    "    \n",
    "    df_filtered = df_filtered.dropna(subset=['patients_per_1000'])\n",
    "    \n",
    "    if df_filtered.empty:\n",
    "        return None\n",
    "    \n",
    "    # Simple average since rates are already normalized per capita\n",
    "    return df_filtered['patients_per_1000'].mean()\n",
    "\n",
    "def get_national_trend_context(df_regional, current_year, age_group, gender):\n",
    "    \"\"\"Get simple context about national trends for display\"\"\"\n",
    "    \n",
    "    current_avg = calculate_national_average(df_regional, current_year, age_group, gender)\n",
    "    baseline_avg = calculate_national_average(df_regional, 2006, age_group, gender)\n",
    "    \n",
    "    if None in [current_avg, baseline_avg]:\n",
    "        return \"Insufficient data\"\n",
    "    \n",
    "    # Total change since 2006 as percentage\n",
    "    total_change = ((current_avg - baseline_avg) / baseline_avg) * 100\n",
    "\n",
    "    # Convert per 1000 to percentage\n",
    "    percentage = current_avg / 10\n",
    "    \n",
    "    return f\"National average: {percentage:.1f}% (+{total_change:.0f}% since 2006)\"\n",
    "\n",
    "\n",
    "# Load GeoJSON data - make sure you have this file in your directory\n",
    "try:\n",
    "    with open('swedish_provinces.geojson', 'r', encoding='utf-8') as f:\n",
    "        geojson_counties = json.load(f)\n",
    "    print(\"GeoJSON loaded successfully\")\n",
    "except FileNotFoundError:\n",
    "    print(\"Warning: 'swedish_provinces.geojson' not found. Choropleth maps will not work.\")\n",
    "    geojson_counties = None\n",
    "\n",
    "# ============================================================================\n",
    "# STYLE DEFINITIONS\n",
    "# ============================================================================\n",
    "\n",
    "story_style = {\n",
    "    'fontFamily': 'monospace',\n",
    "    'backgroundColor': BG_COLOR,\n",
    "    'color': TEXT_COLOR,\n",
    "    'lineHeight': '1.6',\n",
    "    'margin': '0',\n",
    "    'padding': '0'\n",
    "}\n",
    "\n",
    "section_style = {\n",
    "    'maxWidth': '800px',\n",
    "    'margin': '0 auto',\n",
    "    'padding': '60px 40px',\n",
    "    'backgroundColor': BG_COLOR,\n",
    "    'color': TEXT_COLOR\n",
    "}\n",
    "\n",
    "hero_style = {\n",
    "    'textAlign': 'center',\n",
    "    'padding': '100px 40px 80px',\n",
    "    'background': \"#FFFFE0\",\n",
    "    'color': TEXT_COLOR,\n",
    "    'marginBottom': '0'\n",
    "}\n",
    "\n",
    "chart_section_style = {\n",
    "    'backgroundColor': '#FFFFEF',\n",
    "    'padding': '60px 0',\n",
    "    'marginBottom': '0'\n",
    "}\n",
    "\n",
    "chart_container_style = {\n",
    "    'maxWidth': '1100px',\n",
    "    'margin': '0 auto',\n",
    "    'padding': '0 40px'\n",
    "}\n",
    "\n",
    "controls_style = {\n",
    "    'backgroundColor': '#FFFFEF',\n",
    "    'padding': '30px',\n",
    "    'borderRadius': '12px',\n",
    "    'marginBottom': '30px',\n",
    "    'display': 'flex',\n",
    "    'gap': '30px',\n",
    "    'alignItems': 'center',\n",
    "    'flexWrap': 'wrap',\n",
    "    'color': TEXT_COLOR\n",
    "}\n",
    "\n",
    "# ============================================================================\n",
    "# APP INITIALIZATION AND LAYOUT\n",
    "# ============================================================================\n",
    "\n",
    "# Initialize Dash app\n",
    "app = dash.Dash(__name__)\n",
    "\n",
    "# Define medication options for dropdowns\n",
    "medication_options = [\n",
    "    {'label': 'All medications', 'value': 'All medications'},\n",
    "    {'label': '── Individual Medications ──', 'value': 'separator', 'disabled': True},\n",
    "    {'label': 'Methylphenidate', 'value': 'Methylphenidate'},\n",
    "    {'label': 'Lisdexamfetamine', 'value': 'Lisdexamfetamine'},\n",
    "    {'label': 'Dextroamphetamine', 'value': 'Dextroamphetamine'},\n",
    "    {'label': 'Atomoxetine', 'value': 'Atomoxetine'},\n",
    "    {'label': 'Guanfacine', 'value': 'Guanfacine'}\n",
    "]\n",
    "\n",
    "# Define the layout\n",
    "app.layout = html.Div([\n",
    "    \n",
    "    # Hero Section\n",
    "    html.Div([\n",
    "        html.H1(\"The Evolution of ADHD Treatment in Sweden\", \n",
    "               style={'fontSize': '48px', 'fontWeight': '700', 'marginBottom': '20px', 'color': TEXT_COLOR}),\n",
    "        html.P(\"A Demographic Analysis\", \n",
    "              style={'fontSize': '24px', 'fontWeight': '300', 'marginBottom': '30px', 'color': TEXT_COLOR}),\n",
    "        html.P(\"How have ADHD medication prescription patterns changed across different demographics in Sweden from 2006 to 2024?\", \n",
    "              style={'fontSize': '18px', 'maxWidth': '600px', 'margin': '0 auto', 'color': TEXT_COLOR})\n",
    "    ], style=hero_style),\n",
    "    \n",
    "    # Introduction Section #!!! At least one time per year....\n",
    "    html.Div([\n",
    "        html.H2(\"Understanding the Data\", style={'fontSize': '32px', 'fontWeight': '600', 'marginBottom': '30px', 'color': TEXT_COLOR}),\n",
    "        html.P([\"This project uses open data from\", html.I(\" the Swedish National Board of Health and Welfare (Socialstyrelsen) \"), \"Statistikdatabas för läkemedel, which records all prescription medications dispensed in Sweden since 2006. Data were extracted via Socialstyrelsen's API using a custom Python module, allowing separate retrieval of prescription data for each ADHD medication. The analysis tracks the annual number of individuals filling ADHD prescriptions as a proxy for diagnosis and treatment rates, examining whether growth in medication use varies across developmental periods and between genders.\"], \n",
    "               style={'fontSize': '18px', 'marginBottom': '25px', 'color': TEXT_COLOR}),\n",
    "        html.P([\n",
    "        \"Five ADHD medications are \",\n",
    "        html.A(\n",
    "            \"currently approved in Sweden\",\n",
    "            href=\"https://www.lakemedelsverket.se/sv/behandling-och-forskrivning/behandlingsrekommendationer/sok-behandlingsrekommendationer/lakemedel-vid-adhd--behandlingsrekommendation\",\n",
    "            target=\"_blank\",\n",
    "            style={'color': TEXT_COLOR, 'textDecoration': 'underline'}\n",
    "        ),\n",
    "        \": three central nervous system stimulants (methylphenidate, dextroamphetamine, lisdexamfetamine) and two non-stimulants (atomoxetine, guanfacine). The dataset allows separate analysis for each medication, though active ingredients may appear under multiple brand names.\"\n",
    "    ],\n",
    "    style={'fontSize': '18px', 'color': TEXT_COLOR})\n",
    "    ,\n",
    "        html.P(\"All rates are expressed as patients per 1,000 inhabitants, enabling comparisons across time and counties. Some demographic subgroups may exceed 1,000 patients per 1,000 inhabitants due to population and age-group definitions (Socialstyrelsen, 2025).\", \n",
    "               style={'fontSize': '18px', 'color': TEXT_COLOR})\n",
    "    ], style=section_style),\n",
    "    \n",
    "    # Interactive Chart Section\n",
    "    html.Div([\n",
    "        html.Div([\n",
    "            html.H2(\"Prescription Trends Over Time\", \n",
    "                style={'fontSize': '32px', 'fontWeight': '600', 'marginBottom': '20px', 'textAlign': 'center', 'color': TEXT_COLOR}),\n",
    "            html.P(\"Use the controls on the left to explore different medications and demographics. The chart tracks prevalent ADHD medication users — individuals who have filled at least one ADHD prescription in a given year, regardless of prior prescriptions. Each user is counted once per year, allowing you to follow trends and changes in medication use over time.\", \n",
    "                style={'fontSize': '18px', 'textAlign': 'center', 'marginBottom': '40px', 'color': TEXT_COLOR}),\n",
    "            html.Div([\n",
    "                # Sidebar with all controls stacked vertically\n",
    "                html.Div([\n",
    "                    # Medication settings\n",
    "                    html.Div([\n",
    "                        html.Label(\"Medication:\", style={'fontSize': '14px', 'fontWeight': '500', 'marginBottom': '8px', 'display': 'block', 'color': TEXT_COLOR}),\n",
    "                        dcc.Dropdown(\n",
    "                            id='medication-dropdown',\n",
    "                            options=medication_options,\n",
    "                            value='All medications',\n",
    "                            style={\n",
    "                                'minWidth': '200px',\n",
    "                                'boxShadow': 'none',\n",
    "                                'backgroundColor': BG_COLOR, \n",
    "                                'color': TEXT_COLOR\n",
    "                            }\n",
    "                        )\n",
    "                    ], style={'marginBottom': '20px'}),\n",
    "\n",
    "                    # Gender settings\n",
    "                    html.Div([\n",
    "                        html.Label(\"Gender Selection:\", style={'fontSize': '14px', 'fontWeight': '500', 'marginBottom': '8px', 'display': 'block', 'color': TEXT_COLOR}),\n",
    "                        dcc.Checklist(\n",
    "                            id='gender-checklist',\n",
    "                            options=[\n",
    "                                {'label': 'Boys/Young men', 'value': 'Boys'},\n",
    "                                {'label': 'Girls/Young women', 'value': 'Girls'},\n",
    "                                {'label': 'Both Genders', 'value': 'Both genders'}\n",
    "                            ],\n",
    "                            value=['Both genders'],\n",
    "                            inline=False,\n",
    "                            inputStyle={\"margin-right\": \"8px\"},\n",
    "                            style={\n",
    "                                'color': TEXT_COLOR,\n",
    "                                'accent-color': \"#4ADFB2\"}\n",
    "                        )\n",
    "                    ], style={'marginBottom': '20px'}),\n",
    "\n",
    "                    # Age settings\n",
    "                    html.Div([\n",
    "                        html.Label(\"Age Groups:\", style={'fontSize': '14px', 'fontWeight': '500', 'marginBottom': '8px', 'display': 'block', 'color': TEXT_COLOR}),\n",
    "                        dcc.Checklist(\n",
    "                            id='age-checklist',\n",
    "                            options=[\n",
    "                                {'label': '5-9', 'value': '5-9'},\n",
    "                                {'label': '10-14', 'value': '10-14'},\n",
    "                                {'label': '15-19', 'value': '15-19'},\n",
    "                                {'label': '20-24', 'value': '20-24'}\n",
    "                            ],\n",
    "                            value=['10-14'],\n",
    "                            inline=False,\n",
    "                            inputStyle={\"margin-right\": \"8px\"},\n",
    "                            style={\n",
    "                                'color': TEXT_COLOR,\n",
    "                                'accent-color': '#4ADFB2'}\n",
    "                        )\n",
    "                    ])\n",
    "                ], style={\n",
    "                    'flex': '0 0 220px',\n",
    "                    'display': 'flex',\n",
    "                    'flexDirection': 'column',\n",
    "                    'alignItems': 'flex-start',\n",
    "                    'paddingRight': '20px',\n",
    "                    'marginTop': '160px'\n",
    "                }),\n",
    "\n",
    "                # Chart (right side)\n",
    "                html.Div([\n",
    "                    dcc.Graph(\n",
    "                        id='line-animation',\n",
    "                        style={\n",
    "                            'backgroundColor': BG_COLOR, \n",
    "                            'borderRadius': '12px', \n",
    "                            'boxShadow': '0 4px 12px rgba(0,0,0,0.3)'\n",
    "                        }\n",
    "                    )\n",
    "                ], style={'flex': '1'})\n",
    "            ], style={'display': 'flex', 'alignItems': 'flex-start'})\n",
    "            \n",
    "        ], style=chart_container_style)\n",
    "    ], style=chart_section_style),\n",
    "\n",
    "    # Interactive Choropleth Map Section\n",
    "    html.Div([\n",
    "        html.Div([\n",
    "            html.H2(\"Geographic Distribution of ADHD Prescriptions\", \n",
    "                   style={'fontSize': '32px', 'fontWeight': '600', 'marginBottom': '20px', 'textAlign': 'center', 'color': TEXT_COLOR}),\n",
    "            html.P(\"Explore how ADHD prescription rates vary across Swedish counties. The map shows total ADHD prescriptions using a fixed continuous color scale for consistent comparison over time. Subtle differences within a single year may be less visible. Filter by demographics and age group, and click play to watch changes over time.\", \n",
    "                  style={'fontSize': '18px', 'textAlign': 'center', 'marginBottom': '40px', 'color': TEXT_COLOR}),\n",
    "            \n",
    "            html.Div([\n",
    "                # Choropleth controls sidebar (left side)\n",
    "                html.Div([\n",
    "                    \n",
    "                    # Gender selection for choropleth (single choice)\n",
    "                    html.Div([\n",
    "                        html.Label(\"Gender Selection:\", style={'fontSize': '14px', 'fontWeight': '500', 'marginBottom': '8px', 'display': 'block', 'color': TEXT_COLOR}),\n",
    "                        dcc.RadioItems(\n",
    "                            id='choropleth-gender-radio',\n",
    "                            options=[\n",
    "                                {'label': 'Boys/Young men', 'value': 'Boys'},\n",
    "                                {'label': 'Girls/Young women', 'value': 'Girls'},\n",
    "                                {'label': 'Both genders', 'value': 'Both genders'}\n",
    "                            ],\n",
    "                            value='Both genders',\n",
    "                            inline=False,\n",
    "                            inputStyle={\"margin-right\": \"8px\"},\n",
    "                            style={'color': TEXT_COLOR, 'accent-color': \"#4ADFB2\"}\n",
    "                        )\n",
    "                    ], style={'marginBottom': '20px'}),\n",
    "\n",
    "                    # Age settings for choropleth\n",
    "                    html.Div([\n",
    "                        html.Label(\"Age Groups:\", style={'fontSize': '14px', 'fontWeight': '500', 'marginBottom': '8px', 'display': 'block', 'color': TEXT_COLOR}),\n",
    "                        dcc.RadioItems(\n",
    "                            id='choropleth-age-radio',\n",
    "                            options=[\n",
    "                                {'label': '5-9', 'value': '5-9'},\n",
    "                                {'label': '10-14', 'value': '10-14'},\n",
    "                                {'label': '15-19', 'value': '15-19'},\n",
    "                                {'label': '20-24', 'value': '20-24'}\n",
    "                            ],\n",
    "                            value='10-14',\n",
    "                            inline=False,\n",
    "                            inputStyle={\"margin-right\": \"8px\"},\n",
    "                            style={'color': TEXT_COLOR, 'accent-color': '#4ADFB2'}\n",
    "                        )\n",
    "                    ], style={'marginBottom': '30px'}),\n",
    "                    \n",
    "                    # Animation controls\n",
    "                    html.Div([\n",
    "                        html.Label(\"Animation:\", style={'fontSize': '14px', 'fontWeight': '500', 'marginBottom': '8px', 'display': 'block', 'color': TEXT_COLOR}),\n",
    "                        html.Div([\n",
    "                            html.Button('▶', id='choropleth-play-btn', n_clicks=0,\n",
    "                                       style={'marginRight': '8px', 'padding': '6px 12px', 'fontSize': '12px', 'backgroundColor': '#4ADFB2', 'color': BG_COLOR, 'border': 'none', 'borderRadius': '4px'}),\n",
    "                            html.Button('❚❚', id='choropleth-pause-btn', n_clicks=0,\n",
    "                                       style={'marginRight': '7px', 'padding': '6px 12px', 'fontSize': '11px', 'backgroundColor': TEXT_COLOR, 'color': 'white', 'border': 'none', 'borderRadius': '4px'}),\n",
    "                        ])\n",
    "                    ], style={'marginBottom': '20px'})\n",
    "                    \n",
    "                ], style={\n",
    "                    'flex': '0 0 220px',\n",
    "                    'display': 'flex',\n",
    "                    'flexDirection': 'column',\n",
    "                    'alignItems': 'flex-start',\n",
    "                    'paddingRight': '20px',\n",
    "                    'marginTop': '130px'\n",
    "                }),\n",
    "\n",
    "                # Choropleth map and controls (right side)\n",
    "                html.Div([\n",
    "                    # Year slider\n",
    "                    html.Div([\n",
    "                        html.Label(f\"Year: \", style={'fontWeight': 'bold', 'marginBottom': '10px', 'display': 'block', 'color': TEXT_COLOR}),\n",
    "                        dcc.Slider(\n",
    "                            id='choropleth-year-slider',\n",
    "                            min=2006,\n",
    "                            max=2024,\n",
    "                            step=1,\n",
    "                            value=2006,\n",
    "                            marks={year: {'label': str(year), 'style': {'color': TEXT_COLOR}} for year in range(2006, 2025, 3)},\n",
    "                            tooltip={\"placement\": \"bottom\", \"always_visible\": True}\n",
    "                        )\n",
    "                    ], style={'marginBottom': '30px'}),\n",
    "                    \n",
    "                    # Map\n",
    "                    dcc.Graph(\n",
    "                        id='choropleth-map',\n",
    "                        style={'backgroundColor': BG_COLOR, 'borderRadius': '12px', 'boxShadow': '0 4px 12px rgba(0,0,0,0.3)'}\n",
    "                    ),\n",
    "                    \n",
    "                    # Statistics summary\n",
    "                    html.Div(id='choropleth-stats', style={\n",
    "                        'marginTop': '20px', \n",
    "                        'padding': '15px', \n",
    "                        'backgroundColor': '#FFFFEF', \n",
    "                        'borderRadius': '8px',\n",
    "                        'color': TEXT_COLOR\n",
    "                    })\n",
    "                ], style={'flex': '1'})\n",
    "            ], style={'display': 'flex', 'alignItems': 'flex-start'})\n",
    "            \n",
    "        ], style=chart_container_style)\n",
    "    ], style=chart_section_style),\n",
    "    \n",
    "    # Interval component for choropleth animation\n",
    "    dcc.Interval(\n",
    "        id='choropleth-interval',\n",
    "        interval=1000,\n",
    "        n_intervals=0,\n",
    "        disabled=True\n",
    "    ),\n",
    "    \n",
    "    # Store for animation state\n",
    "    dcc.Store(id='choropleth-animation-state', data={'playing': False, 'current_year': 2006}),\n",
    "\n",
    "    # Analysis Section\n",
    "    html.Div([\n",
    "        html.H2(\"Key Observations\", style={'fontSize': '32px', 'fontWeight': '600', 'marginBottom': '30px', 'color': TEXT_COLOR}),\n",
    "        html.P(\"The data reveals several important trends in Swedish ADHD treatment patterns:\", \n",
    "               style={'fontSize': '18px', 'marginBottom': '25px', 'color': TEXT_COLOR}),\n",
    "        \n",
    "        html.Ul([\n",
    "            html.Li(\"Prescription rates have increased significantly across all age groups since 2006\", style={'marginBottom': '15px', 'fontSize': '16px', 'color': TEXT_COLOR}),\n",
    "            html.Li(\"Young adults (20-24) show the steepest growth in recent years\", style={'marginBottom': '15px', 'fontSize': '16px', 'color': TEXT_COLOR}),\n",
    "            html.Li(\"Gender patterns vary considerably by age group and medication type\", style={'marginBottom': '15px', 'fontSize': '16px', 'color': TEXT_COLOR}),\n",
    "            html.Li(\"Methylphenidate remains the most commonly prescribed ADHD medication\", style={'marginBottom': '15px', 'fontSize': '16px', 'color': TEXT_COLOR}),\n",
    "            html.Li(\"Individual medication analysis reveals distinct prescription patterns for different active ingredients\", style={'marginBottom': '15px', 'fontSize': '16px', 'color': TEXT_COLOR})\n",
    "        ], style={'color': TEXT_COLOR, 'paddingLeft': '30px'})\n",
    "    ], style=section_style),\n",
    "    \n",
    "    # County Heatmap Section\n",
    "    html.Div([\n",
    "        html.Div([\n",
    "            html.H2(\"County-level Prescription Patterns\", \n",
    "                   style={'fontSize': '32px', 'fontWeight': '600', 'marginBottom': '20px', 'textAlign': 'center', 'color': TEXT_COLOR}),\n",
    "            html.P(\"Explore how ADHD prescription rates vary across Swedish counties over time. Use the controls below to filter the data by different demographics.\", \n",
    "                  style={'fontSize': '18px', 'textAlign': 'center', 'marginBottom': '40px', 'color': TEXT_COLOR}),\n",
    "            \n",
    "            html.Div([\n",
    "                # Heatmap controls sidebar (left side)\n",
    "                html.Div([\n",
    "                    # Medication settings for heatmap\n",
    "                    html.Div([\n",
    "                        html.Label(\"Medication:\", style={'fontSize': '14px', 'fontWeight': '500', 'marginBottom': '8px', 'display': 'block', 'color': TEXT_COLOR}),\n",
    "                        dcc.Dropdown(\n",
    "                            id='heatmap-medication-dropdown',\n",
    "                            options=medication_options,\n",
    "                            value='All medications',\n",
    "                            style={\n",
    "                                'minWidth': '200px',\n",
    "                                'boxShadow': 'none',\n",
    "                                'backgroundColor': BG_COLOR, \n",
    "                                'color': TEXT_COLOR\n",
    "                            }\n",
    "                        )\n",
    "                    ], style={'marginBottom': '20px'}),\n",
    "\n",
    "                    # Gender selection for heatmap (single choice)\n",
    "                    html.Div([\n",
    "                        html.Label(\n",
    "                            \"Gender Selection:\",\n",
    "                            style={'fontSize': '14px', 'fontWeight': '500', 'marginBottom': '8px', 'display': 'block', 'color': TEXT_COLOR}\n",
    "                        ),\n",
    "                        dcc.RadioItems(\n",
    "                            id='heatmap-gender-radio',\n",
    "                            options=[\n",
    "                                {'label': 'Boys/Young men', 'value': 'Boys'},\n",
    "                                {'label': 'Girls/Young women', 'value': 'Girls'},\n",
    "                                {'label': 'Both genders', 'value': 'Both genders'}\n",
    "                            ],\n",
    "                            value='Both genders',  # default selected\n",
    "                            inline=False,\n",
    "                            inputStyle={\"margin-right\": \"8px\"},\n",
    "                            style={'color': TEXT_COLOR, 'accent-color': \"#4ADFB2\"}\n",
    "                        )\n",
    "                    ], style={'marginBottom': '20px'}),\n",
    "\n",
    "                    # Age settings for heatmap\n",
    "                    html.Div([\n",
    "                        html.Label(\"Age Groups:\", style={'fontSize': '14px', 'fontWeight': '500', 'marginBottom': '8px', 'display': 'block', 'color': TEXT_COLOR}),\n",
    "                        dcc.RadioItems(\n",
    "                            id='heatmap-age-radio',\n",
    "                            options=[\n",
    "                                {'label': '5-9', 'value': '5-9'},\n",
    "                                {'label': '10-14', 'value': '10-14'},\n",
    "                                {'label': '15-19', 'value': '15-19'},\n",
    "                                {'label': '20-24', 'value': '20-24'}\n",
    "                            ],\n",
    "                            value='10-14',\n",
    "                            inline=False,\n",
    "                            inputStyle={\"margin-right\": \"8px\"},\n",
    "                            style={\n",
    "                                'color': TEXT_COLOR,\n",
    "                                'accent-color': '#4ADFB2'}\n",
    "                        )\n",
    "                    ])\n",
    "                ], style={\n",
    "                    'flex': '0 0 220px',\n",
    "                    'display': 'flex',\n",
    "                    'flexDirection': 'column',\n",
    "                    'alignItems': 'flex-start',\n",
    "                    'paddingRight': '20px',\n",
    "                    'marginTop': '160px'\n",
    "                }),\n",
    "\n",
    "                # county heatmap chart (right side)\n",
    "                html.Div([\n",
    "                    dcc.Graph(\n",
    "                        id='countyal-heatmap',\n",
    "                        style={'backgroundColor': BG_COLOR, 'borderRadius': '12px', 'boxShadow': '0 4px 12px rgba(0,0,0,0.3)'}\n",
    "                    )\n",
    "                ], style={'flex': '1'})\n",
    "            ], style={'display': 'flex', 'alignItems': 'flex-start'})\n",
    "            \n",
    "        ], style=chart_container_style)\n",
    "    ], style=chart_section_style),\n",
    "    \n",
    "    # Gender Ratio Section\n",
    "    html.Div([\n",
    "        html.Div([\n",
    "            html.H2(\"Gender Disparities in Treatment\", \n",
    "                   style={'fontSize': '32px', 'fontWeight': '600', 'marginBottom': '20px', 'textAlign': 'center', 'color': TEXT_COLOR}),\n",
    "            html.P(\"The Boys-to-Girls prescription ratio reveals important patterns about gender differences in ADHD diagnosis and treatment. A ratio above one indicates more boys receive prescriptions, while below one indicates more girls.\", \n",
    "                  style={'fontSize': '18px', 'textAlign': 'center', 'marginBottom': '40px', 'color': TEXT_COLOR, 'maxWidth': '700px', 'margin': '0 auto 40px'}),\n",
    "            \n",
    "            # Gender ratio controls\n",
    "            html.Div([\n",
    "                html.Label(\"Medication for Ratio Analysis:\", style={'fontSize': '14px', 'fontWeight': '500', 'marginBottom': '8px', 'display': 'block', 'color': TEXT_COLOR}),\n",
    "                dcc.Dropdown(\n",
    "                    id='ratio-medication-dropdown',\n",
    "                    options=medication_options,\n",
    "                    value='All medications',\n",
    "                    style={'maxWidth': '300px', 'margin': '0 auto', 'backgroundColor': BG_COLOR, 'color': TEXT_COLOR}\n",
    "                )\n",
    "            ], style={'textAlign': 'center', 'marginBottom': '30px', 'backgroundColor': '#FFFFEF', 'padding': '20px', 'borderRadius': '8px'}),\n",
    "            \n",
    "            # Gender ratio chart\n",
    "            dcc.Graph(\n",
    "                id='gender-ratio-plot',\n",
    "                style={'backgroundColor': BG_COLOR, 'borderRadius': '12px', 'boxShadow': '0 4px 12px rgba(0,0,0,0.3)'}\n",
    "            )\n",
    "            \n",
    "        ], style=chart_container_style)\n",
    "    ], style=chart_section_style),\n",
    "    \n",
    "    # Conclusion Section\n",
    "    html.Div([\n",
    "        html.H2(\"Implications and Future Directions\", style={'fontSize': '32px', 'fontWeight': '600', 'marginBottom': '30px', 'color': TEXT_COLOR}),\n",
    "        html.P(\"The evolution of ADHD treatment in Sweden reflects broader changes in diagnostic practices, treatment guidelines, and societal awareness. The significant increase in prescriptions across all demographics suggests both improved recognition of ADHD symptoms and potentially changing diagnostic criteria.\", \n",
    "               style={'fontSize': '18px', 'marginBottom': '25px', 'color': TEXT_COLOR}),\n",
    "        html.P(\"Individual medication analysis provides insights into prescribing preferences and treatment patterns, while the combined view shows overall healthcare utilization trends. Understanding these patterns is crucial for healthcare planning, resource allocation, and ensuring equitable access to ADHD treatment.\", \n",
    "               style={'fontSize': '18px', 'marginBottom': '40px', 'color': TEXT_COLOR}),\n",
    "        \n",
    "        html.Div([\n",
    "            html.P(\"Data Source: Swedish National Board of Health and Welfare\", style={'fontSize': '14px', 'color': TEXT_COLOR, 'fontStyle': 'italic', 'textAlign': 'center', 'opacity': '0.8'}),\n",
    "            html.P([\n",
    "                html.B(\"References\"),\n",
    "                   html.Br(),\n",
    "            \"Socialstyrelsen. Tolka: Läkemedelsdata. Accessed August 8 2025. \", \"sdb.socialstyrelsen.se/pages/listinfo.aspx?amne=lak&id=TOLKA&sprak=\", \n",
    "            ],\n",
    "            style={'fontSize': '14px', 'color': TEXT_COLOR, 'fontStyle': 'italic', 'textAlign': 'center', 'opacity': '0.8'})\n",
    "        ], style={'borderTop': f'1px solid {\"#F7DFB8\"}', 'paddingTop': '30px'})\n",
    "    ], style=section_style)\n",
    "    \n",
    "], style=story_style)\n",
    "\n",
    "# ============================================================================\n",
    "# CALLBACK FUNCTIONS\n",
    "# ============================================================================\n",
    "\n",
    "@app.callback(\n",
    "    Output('line-animation', 'figure'),\n",
    "    [Input('medication-dropdown', 'value'),\n",
    "     Input('gender-checklist', 'value'),\n",
    "     Input('age-checklist', 'value')]\n",
    ")\n",
    "def update_line_chart(selected_medication, selected_genders, selected_ages):\n",
    "    \"\"\"Update the main animation chart based on user selections.\"\"\"\n",
    "    # Skip if separator is selected\n",
    "    if selected_medication == 'separator':\n",
    "        selected_medication = 'All medications'\n",
    "    \n",
    "    # Filter by medication, gender and age\n",
    "    df_filtered = df_grouped[\n",
    "        (df_grouped['medication_category'] == selected_medication) &\n",
    "        (df_grouped['gender'].isin(selected_genders)) &\n",
    "        (df_grouped['age_group'].isin(selected_ages))\n",
    "    ]\n",
    "    \n",
    "    # Data for animation\n",
    "    df_anim = create_cumulative_data(df_filtered)\n",
    "\n",
    "    # Labels for each category\n",
    "    df_anim[\"Label\"] = df_anim.apply(make_label, axis=1)\n",
    "\n",
    "    label_colors = {}\n",
    "    for label in df_anim['Label'].unique():\n",
    "        if label.startswith(\"Boys\") or label.startswith(\"Young men\"):\n",
    "            label_colors[label] = gender_colors[\"Boys\"]\n",
    "        elif label.startswith(\"Girls\") or label.startswith(\"Young women\"):\n",
    "            label_colors[label] = gender_colors[\"Girls\"]\n",
    "        elif label.startswith(\"Both\"):\n",
    "            label_colors[label] = gender_colors[\"Both genders\"]\n",
    "\n",
    "    y_max = df_anim[\"patients_per_1000\"].max()\n",
    "    y_range = [0, y_max * 1.1]  # add 10% padding at the top for visual comfort\n",
    "\n",
    "    # Create the interactive plot\n",
    "    line_fig = px.line(\n",
    "        df_anim,\n",
    "        x=\"year\",\n",
    "        y=\"patients_per_1000\",\n",
    "        height=800,\n",
    "        width=1000,\n",
    "        color=\"Label\",\n",
    "        line_shape=\"spline\",\n",
    "        line_dash=\"Label\",\n",
    "        facet_row=\"age_group\",\n",
    "        animation_frame=\"Year\",\n",
    "        animation_group=\"Label\",\n",
    "        markers=True,\n",
    "        title=f\"ADHD Medication Prescriptions in Sweden - {selected_medication}\",\n",
    "        color_discrete_map=label_colors,\n",
    "        range_x=[2006, 2024],\n",
    "        range_y=y_range\n",
    "    )\n",
    "    \n",
    "    line_fig.update_layout(\n",
    "        legend_title_text=\"Gender\",\n",
    "        xaxis_title=\"Year\",\n",
    "        template=\"bengtegard\",\n",
    "        paper_bgcolor=BG_COLOR,\n",
    "        plot_bgcolor=BG_COLOR,\n",
    "        font_color=TEXT_COLOR,\n",
    "        updatemenus=[{\n",
    "            \"buttons\": [\n",
    "                {\n",
    "                    \"args\": [None, {\"frame\": {\"duration\": 250, \"redraw\": False},\n",
    "                                    \"transition\": {\"duration\": 240, \"easing\": \"linear\"}}],\n",
    "                    \"method\": \"animate\",\n",
    "                    \"label\": \"▶\"\n",
    "                },\n",
    "                {\n",
    "                    \"args\": [[None], {\n",
    "                                \"mode\": \"immediate\",\n",
    "                                \"frame\": {\"duration\": 0, \"redraw\": False},\n",
    "                                \"transition\": {\"duration\": 0}}],\n",
    "                    \"method\": \"animate\",\n",
    "                    \"label\": \"❚❚\"\n",
    "                }\n",
    "            ],\n",
    "            \"direction\": \"left\",\n",
    "            \"showactive\": True,\n",
    "            \"type\": \"buttons\",\n",
    "            \"x\": 0.1,\n",
    "            \"xanchor\": \"right\",\n",
    "            \"y\": 0,\n",
    "            \"yanchor\": \"top\"\n",
    "        }]\n",
    "    )\n",
    "    \n",
    "    line_fig.update_traces(\n",
    "        cliponaxis=False,\n",
    "        connectgaps=True,\n",
    "        line_shape=\"spline\",\n",
    "        line=dict(smoothing=1.3)\n",
    "    )\n",
    "    \n",
    "    line_fig.update_yaxes(\n",
    "        title_text='',\n",
    "        tick0=0,   \n",
    "        dtick=15, \n",
    "        range=y_range \n",
    "    )\n",
    "    \n",
    "    for a in line_fig.layout.annotations:\n",
    "        if a.text.startswith(\"age_group=\"):\n",
    "            age_group = a.text.split(\"=\")[1]\n",
    "            a.text = facet_title_map[age_group]      # English title\n",
    "            a.font.color = facet_colors[age_group]   # custom color\n",
    "\n",
    "    # Add a single label manually\n",
    "    line_fig.add_annotation(\n",
    "        x=-0.08,  # slightly left of y-axis\n",
    "        y=0.5,\n",
    "        text=\"Patients per 1000 inhabitants\",\n",
    "        showarrow=False,\n",
    "        textangle=-90,\n",
    "        xref=\"paper\",\n",
    "        yref=\"paper\",\n",
    "        font=dict(size=14, color=TEXT_COLOR)\n",
    "    )\n",
    "\n",
    "    return line_fig\n",
    "\n",
    "@app.callback(\n",
    "    Output('countyal-heatmap', 'figure'),\n",
    "    [\n",
    "        Input('heatmap-medication-dropdown', 'value'),\n",
    "        Input('heatmap-gender-radio', 'value'),\n",
    "        Input('heatmap-age-radio', 'value')\n",
    "    ]\n",
    ")\n",
    "\n",
    "def update_heatmap(selected_medication, selected_gender, selected_age):\n",
    "    \"\"\"Update the heatmap showing a single age and gender.\"\"\"\n",
    "    # Handle \"separator\" selection\n",
    "    if selected_medication == 'separator':\n",
    "        selected_medication = 'All medications'\n",
    "\n",
    "    # Filter for a single medication, gender, and age\n",
    "    df_heat = df_grouped_regional[\n",
    "        (df_grouped_regional['medication_category'] == selected_medication) &\n",
    "        (df_grouped_regional['gender'] == selected_gender) &\n",
    "        (df_grouped_regional['age_group'] == selected_age)\n",
    "    ].copy()\n",
    "\n",
    "    # Convert year to string to treat as categorical\n",
    "    df_heat[\"year\"] = df_heat[\"year\"].astype(str)\n",
    "\n",
    "    # Create heatmap\n",
    "    heatmap_fig = px.density_heatmap(\n",
    "        df_heat,\n",
    "        x=\"year\",\n",
    "        y=\"county\",\n",
    "        z=\"patients_per_1000\",\n",
    "        nbinsx=len(df_heat[\"year\"].unique()),  # one bin per unique year\n",
    "        text_auto=False,\n",
    "        color_continuous_scale=\"YlGnBu\"\n",
    "    )\n",
    "\n",
    "    # Layout tweaks\n",
    "    heatmap_fig.update_layout(\n",
    "        title={\n",
    "            \"text\": f\"ADHD Prescriptions in Sweden by County<br><sup>{selected_medication}, {selected_gender}, Age {selected_age}</sup>\",\n",
    "            \"x\": 0.5,\n",
    "            \"xanchor\": \"center\"\n",
    "        },\n",
    "        xaxis_title=\"Year\",\n",
    "        yaxis_title=\"County\",\n",
    "        height=900,\n",
    "        width=1100,\n",
    "        template='bengtegard',\n",
    "        paper_bgcolor=BG_COLOR,\n",
    "        plot_bgcolor=BG_COLOR,\n",
    "        font_color=TEXT_COLOR,\n",
    "        coloraxis_colorbar=dict(title=\"Patients per 1000\",)\n",
    "    )\n",
    "\n",
    "    heatmap_fig.update_xaxes(\n",
    "    tickmode=\"array\",\n",
    "    tickvals=df_heat[\"year\"].unique(),\n",
    "    ticktext=df_heat[\"year\"].unique()\n",
    "    )\n",
    "\n",
    "    heatmap_fig.update_yaxes(\n",
    "        title_standoff=4, \n",
    "        automargin=True\n",
    "    )\n",
    "\n",
    "    return heatmap_fig\n",
    "\n",
    "\n",
    "@app.callback(\n",
    "    Output('gender-ratio-plot', 'figure'),\n",
    "    Input('ratio-medication-dropdown', 'value')\n",
    ")\n",
    "def update_gender_ratio(selected_medication):\n",
    "    \"\"\"Update the gender ratio chart based on medication selection.\"\"\"\n",
    "    # Skip if separator is selected\n",
    "    if selected_medication == 'separator':\n",
    "        selected_medication = 'All medications'\n",
    "        \n",
    "    # Filter by medication\n",
    "    df_filtered = df_grouped[df_grouped['medication_category'] == selected_medication]\n",
    "    \n",
    "    # Generate the gender ratio plot\n",
    "    fig = plot_gender_ratios(df_filtered)\n",
    "    \n",
    "    fig.update_layout(\n",
    "        title=f'Boys-to-Girls ADHD Prescription Ratio by Age Group - {selected_medication}'\n",
    "    )\n",
    "    \n",
    "    return fig\n",
    "\n",
    "# Choropleth map callbacks\n",
    "@app.callback(\n",
    "    [Output('choropleth-map', 'figure'),\n",
    "     Output('choropleth-stats', 'children')],\n",
    "    [Input('choropleth-year-slider', 'value'),\n",
    "     Input('choropleth-gender-radio', 'value'),\n",
    "     Input('choropleth-age-radio', 'value')]\n",
    ")\n",
    "def update_choropleth(year, gender, age_group):\n",
    "    \"\"\"Update choropleth map based on user selections.\"\"\"\n",
    "    \n",
    "    if geojson_counties is None:\n",
    "        # Return error message if GeoJSON not available\n",
    "        fig = go.Figure()\n",
    "        fig.add_annotation(\n",
    "            text=\"GeoJSON file not found. Please ensure 'swedish_provinces.geojson' is in your directory.\",\n",
    "            xref=\"paper\", yref=\"paper\",\n",
    "            x=0.5, y=0.5, xanchor='center', yanchor='middle',\n",
    "            showarrow=False, font_size=16\n",
    "        )\n",
    "        fig.update_layout(height=700, template='bengtegard', paper_bgcolor=BG_COLOR, font_color=TEXT_COLOR)\n",
    "        \n",
    "        stats = html.Div([\n",
    "            html.H4(\"GeoJSON file missing\", style={'color': 'red'})\n",
    "        ])\n",
    "        \n",
    "        return fig, stats\n",
    "    \n",
    "    # Prepare data\n",
    "    df_map = prepare_choropleth_data(df_grouped_regional, year, age_group, gender)\n",
    "    \n",
    "    if df_map.empty:\n",
    "        # Return empty figure if no data\n",
    "        fig = go.Figure()\n",
    "        fig.add_annotation(\n",
    "            text=\"No data available for selected parameters\",\n",
    "            xref=\"paper\", yref=\"paper\",\n",
    "            x=0.5, y=0.5, xanchor='center', yanchor='middle',\n",
    "            showarrow=False, font_size=16\n",
    "        )\n",
    "        fig.update_layout(height=700, template='bengtegard', paper_bgcolor=BG_COLOR, font_color=TEXT_COLOR)\n",
    "        \n",
    "        stats = html.Div([\n",
    "            html.H4(\"No data available\", style={'color': 'red'})\n",
    "        ])\n",
    "        \n",
    "        return fig, stats\n",
    "    \n",
    "\n",
    "    # Get max value for color scale\n",
    "    max_all = df_grouped_regional[\n",
    "        df_grouped_regional['medication_category'] == 'All medications'\n",
    "    ]['patients_per_1000'].max()  # 119\n",
    "\n",
    "    color_scale_max = max_all * 1.1  # 119 * 1.1 ≈ 131\n",
    "\n",
    "\n",
    "    # Get national trend context\n",
    "    trend_context = get_national_trend_context(df_grouped_regional, year, age_group, gender)\n",
    "\n",
    "    # Create choropleth map\n",
    "    map_fig = px.choropleth(\n",
    "        df_map,\n",
    "        geojson=geojson_counties,\n",
    "        locations='county_geo',\n",
    "        featureidkey=\"properties.name\",  # GeoJSON format\n",
    "        color='patients_per_1000',\n",
    "        color_continuous_scale=px.colors.sequential.OrRd,\n",
    "        range_color=[0, color_scale_max],\n",
    "        labels={'patients_per_1000': 'Patients per 1000'},\n",
    "        #title=f'ADHD Prescription Rates by County ({gender}, Age {age_group}, {year})',\n",
    "        hover_name='county',\n",
    "        hover_data={\n",
    "            'county_geo': False,\n",
    "            'patients_per_1000': ':.1f'\n",
    "        },\n",
    "    )\n",
    "\n",
    "    # Map styling\n",
    "    map_fig.update_geos(\n",
    "        fitbounds=\"locations\",\n",
    "        projection_type=\"natural earth\",\n",
    "        visible=False,\n",
    "        bgcolor=BG_COLOR   # replaces the white box\n",
    "    )\n",
    "\n",
    "    # Border styling\n",
    "    map_fig.update_traces(\n",
    "        marker_line_width=1,\n",
    "        marker_line_color=\"white\",\n",
    "        hovertemplate=\"<b>%{hovertext}</b><br>Patients per 1000: %{z:.1f}<extra></extra>\"\n",
    "    )\n",
    "\n",
    "    # Layout improvements\n",
    "    map_fig.update_layout(\n",
    "        height=600,\n",
    "        width=900,\n",
    "        margin={\"r\":0,\"t\":50,\"l\":0,\"b\":0},\n",
    "        paper_bgcolor=BG_COLOR,\n",
    "        plot_bgcolor=BG_COLOR,\n",
    "        font_color=TEXT_COLOR,\n",
    "        transition={'duration': 900, 'easing': 'cubic-in-out'},\n",
    "        font=dict(\n",
    "            family=\"monospace\",  \n",
    "            color=TEXT_COLOR,\n",
    "            size=10\n",
    "        ),\n",
    "        template=bengtegard_template,\n",
    "        title={\n",
    "            'text': (\n",
    "                f'<span style=\"font-size:16px;color:TEXT_COLOR;\">ADHD Prescription Rates by County ({gender}, Age {age_group})</span><br>'\n",
    "                f'<span style=\"font-size:16px; font-weight:cursive; color:TEXT_COLOR;\">{year}</span>'\n",
    "            ),\n",
    "            'x': 0.5,          # center horizontally\n",
    "            'xanchor': 'center',\n",
    "            'yanchor': 'top'\n",
    "        },\n",
    "        #title_x=0.5,\n",
    "        coloraxis_colorbar=dict(\n",
    "            title=\"Patients per 1000\",\n",
    "            thickness=11,\n",
    "            len=0.7,\n",
    "            x=0.8,\n",
    "            # Add tick marks for better reference\n",
    "            tickmode=\"linear\",\n",
    "            tick0=0,\n",
    "            dtick=20,\n",
    "            tickformat=\".1f\"\n",
    "        )\n",
    "    )\n",
    "\n",
    "      # Add trend context as annotation inside the chart\n",
    "    map_fig.add_annotation(\n",
    "        text=trend_context,\n",
    "        xref=\"paper\", yref=\"paper\",\n",
    "        x=0.04, y=0.94,  # Top-left corner\n",
    "        xanchor='left', yanchor='top',\n",
    "        showarrow=False,\n",
    "        font=dict(size=14, color=TEXT_COLOR),\n",
    "        bgcolor=BG_COLOR,\n",
    "        bordercolor=BG_COLOR\n",
    "    )\n",
    "\n",
    "    # Create statistics summary\n",
    "    if len(df_map) > 0:\n",
    "        highest_county = df_map.loc[df_map['patients_per_1000'].idxmax(), 'county']\n",
    "        highest_rate = df_map['patients_per_1000'].max()\n",
    "        lowest_county = df_map.loc[df_map['patients_per_1000'].idxmin(), 'county']\n",
    "        lowest_rate = df_map['patients_per_1000'].min()\n",
    "        std_rate = df_map['patients_per_1000'].std()\n",
    "        \n",
    "        stats = html.Div([\n",
    "            html.H4(f\"Statistics for {year}\", style={'marginBottom': 15, 'color': TEXT_COLOR}),\n",
    "            html.Div([\n",
    "                html.Div([\n",
    "                    html.Strong(\"Highest Rate: \"),\n",
    "                    f\"{highest_county} ({highest_rate:.1f} per 1000)\"\n",
    "                ], style={'marginBottom': 5, 'color': TEXT_COLOR}),\n",
    "                html.Div([\n",
    "                    html.Strong(\"Lowest Rate: \"),\n",
    "                    f\"{lowest_county} ({lowest_rate:.1f} per 1000)\"\n",
    "                ], style={'marginBottom': 5, 'color': TEXT_COLOR}),\n",
    "                html.Div([\n",
    "                    html.Strong(\"Standard Deviation: \"),\n",
    "                    f\"{std_rate:.1f}\"\n",
    "                ], style={'marginBottom': 5, 'color': TEXT_COLOR}),\n",
    "            ])\n",
    "        ])\n",
    "    else:\n",
    "        stats = html.Div([html.H4(\"No data available\", style={'color': TEXT_COLOR})])\n",
    "    \n",
    "    return map_fig, stats\n",
    "\n",
    "# Animation controls for choropleth\n",
    "@app.callback(\n",
    "    [Output('choropleth-interval', 'disabled'),\n",
    "     Output('choropleth-animation-state', 'data')],\n",
    "    [Input('choropleth-play-btn', 'n_clicks'),\n",
    "     Input('choropleth-pause-btn', 'n_clicks')],\n",
    "    [dash.State('choropleth-animation-state', 'data'),\n",
    "     dash.State('choropleth-year-slider', 'value')]\n",
    ")\n",
    "def control_choropleth_animation(play_clicks, pause_clicks, current_state, current_year):\n",
    "    ctx = dash.callback_context\n",
    "    if not ctx.triggered:\n",
    "        return True, current_state\n",
    "    \n",
    "    button_id = ctx.triggered[0]['prop_id'].split('.')[0]\n",
    "    \n",
    "    if button_id == 'choropleth-play-btn':\n",
    "        return False, {'playing': True, 'current_year': 2006}\n",
    "    elif button_id == 'choropleth-pause-btn':\n",
    "        return True, {'playing': False, 'current_year': current_year}\n",
    "    \n",
    "    return True, current_state\n",
    "\n",
    "@app.callback(\n",
    "    Output('choropleth-year-slider', 'value'),\n",
    "    [Input('choropleth-interval', 'n_intervals')],\n",
    "    [dash.State('choropleth-animation-state', 'data'),\n",
    "     dash.State('choropleth-year-slider', 'value')]\n",
    ")\n",
    "def animate_choropleth_year(n_intervals, animation_state, current_year):\n",
    "    if not animation_state.get('playing', False):\n",
    "        return current_year\n",
    "    \n",
    "    # Increment year\n",
    "    next_year = current_year + 1\n",
    "\n",
    "    if next_year > 2024:\n",
    "        return 2024\n",
    "    \n",
    "    return next_year\n",
    "\n",
    "\n",
    "# ============================================================================\n",
    "# RUN APPLICATION\n",
    "# ============================================================================\n",
    "\n",
    "if __name__ == '__main__':\n",
    "    app.run_server(mode='external', port=8050, debug=True)"
   ]
  }
 ],
 "metadata": {
  "kernelspec": {
   "display_name": "adhd_analysis",
   "language": "python",
   "name": "python3"
  },
  "language_info": {
   "codemirror_mode": {
    "name": "ipython",
    "version": 3
   },
   "file_extension": ".py",
   "mimetype": "text/x-python",
   "name": "python",
   "nbconvert_exporter": "python",
   "pygments_lexer": "ipython3",
   "version": "3.12.11"
  }
 },
 "nbformat": 4,
 "nbformat_minor": 5
}
